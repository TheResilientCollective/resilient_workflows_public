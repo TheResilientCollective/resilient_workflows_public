{
 "cells": [
  {
   "cell_type": "markdown",
   "metadata": {},
   "source": [
    "# San Diego Epidemiology & Immunization Services Data Extraction\n",
    "\n",
    "This notebook demonstrates downloading a Tableau workbook from Tableau Public and extracting data using the Tableau Hyper API."
   ]
  },
  {
   "cell_type": "code",
   "metadata": {
    "ExecuteTime": {
     "end_time": "2025-08-05T18:05:43.255905Z",
     "start_time": "2025-08-05T18:05:43.252253Z"
    }
   },
   "source": [
    "import requests\n",
    "import zipfile\n",
    "import xml.etree.ElementTree as ET\n",
    "from tableauhyperapi import HyperProcess, Connection, Telemetry\n",
    "import pandas as pd\n",
    "import os\n",
    "from pathlib import Path\n",
    "import json\n",
    "\n",
    "print(\"✓ Libraries imported successfully\")"
   ],
   "outputs": [
    {
     "name": "stdout",
     "output_type": "stream",
     "text": [
      "✓ Libraries imported successfully\n"
     ]
    }
   ],
   "execution_count": 24
  },
  {
   "cell_type": "code",
   "metadata": {
    "ExecuteTime": {
     "end_time": "2025-08-05T18:05:47.651832Z",
     "start_time": "2025-08-05T18:05:47.646616Z"
    }
   },
   "source": [
    "# Configuration\n",
    "WORKBOOK_URL = \"https://public.tableau.com/workbooks/DraftRespDash.twb\"\n",
    "DATA_DIR = Path(\"../../../data/sandiego_epideimilogy\")\n",
    "DATA_DIR.mkdir(parents=True, exist_ok=True)\n",
    "\n",
    "workbook_path = DATA_DIR / \"DraftRespDash.twb\"\n",
    "extracted_dir = DATA_DIR / \"extracted\"\n",
    "extracted_dir.mkdir(exist_ok=True)\n",
    "\n",
    "print(f\"Data directory: {DATA_DIR.absolute()}\")\n",
    "print(f\"Workbook URL: {WORKBOOK_URL}\")"
   ],
   "outputs": [
    {
     "name": "stdout",
     "output_type": "stream",
     "text": [
      "Data directory: /Users/valentin/development/dev_resilient/resilient_workflows_public/workflows/public/notebooks/../../../data/sandiego_epideimilogy\n",
      "Workbook URL: https://public.tableau.com/workbooks/DraftRespDash.twb\n"
     ]
    }
   ],
   "execution_count": 25
  },
  {
   "cell_type": "code",
   "metadata": {
    "ExecuteTime": {
     "end_time": "2025-08-05T18:05:51.092976Z",
     "start_time": "2025-08-05T18:05:50.744695Z"
    }
   },
   "source": [
    "# Download the workbook\n",
    "print(\"Downloading Tableau workbook...\")\n",
    "response = requests.get(WORKBOOK_URL)\n",
    "response.raise_for_status()\n",
    "\n",
    "with open(workbook_path, 'wb') as f:\n",
    "    f.write(response.content)\n",
    "\n",
    "print(f\"✓ Workbook downloaded: {workbook_path} ({len(response.content)} bytes)\")"
   ],
   "outputs": [
    {
     "name": "stdout",
     "output_type": "stream",
     "text": [
      "Downloading Tableau workbook...\n",
      "✓ Workbook downloaded: ../../../data/sandiego_epideimilogy/DraftRespDash.twb (53707 bytes)\n"
     ]
    }
   ],
   "execution_count": 26
  },
  {
   "cell_type": "code",
   "metadata": {
    "ExecuteTime": {
     "end_time": "2025-08-05T18:05:53.841930Z",
     "start_time": "2025-08-05T18:05:53.820457Z"
    }
   },
   "source": [
    "# Extract the workbook (it's a zip file)\n",
    "print(\"Extracting workbook contents...\")\n",
    "with zipfile.ZipFile(workbook_path, 'r') as zip_ref:\n",
    "    zip_ref.extractall(extracted_dir)\n",
    "    file_list = zip_ref.namelist()\n",
    "\n",
    "print(f\"✓ Extracted {len(file_list)} files:\")\n",
    "for file in file_list:\n",
    "    print(f\"  - {file}\")"
   ],
   "outputs": [
    {
     "name": "stdout",
     "output_type": "stream",
     "text": [
      "Extracting workbook contents...\n",
      "✓ Extracted 3 files:\n",
      "  - Data/Extracts/Demo_Percent+ (COVID Flu RSV Tableau Output_2).hyper\n",
      "  - Image/New Color Bar.png\n",
      "  - DraftRespDash.twb\n"
     ]
    }
   ],
   "execution_count": 27
  },
  {
   "cell_type": "code",
   "metadata": {
    "ExecuteTime": {
     "end_time": "2025-08-05T18:05:56.935747Z",
     "start_time": "2025-08-05T18:05:56.917706Z"
    }
   },
   "source": [
    "# Examine XML structure\n",
    "twb_file = extracted_dir / \"DraftRespDash.twb\"\n",
    "if twb_file.exists():\n",
    "    print(\"Analyzing workbook XML structure...\")\n",
    "    tree = ET.parse(twb_file)\n",
    "    root = tree.getroot()\n",
    "\n",
    "    print(f\"Root element: {root.tag}\")\n",
    "    print(\"\\nTop-level elements:\")\n",
    "    for child in root:\n",
    "        print(f\"  - {child.tag}: {len(list(child))} children\")\n",
    "\n",
    "    # Look for data sources\n",
    "    datasources = root.findall('.//datasource')\n",
    "    print(f\"\\nFound {len(datasources)} data sources:\")\n",
    "    for ds in datasources:\n",
    "        name = ds.get('name', 'Unknown')\n",
    "        print(f\"  - {name}\")"
   ],
   "outputs": [
    {
     "name": "stdout",
     "output_type": "stream",
     "text": [
      "Analyzing workbook XML structure...\n",
      "Root element: workbook\n",
      "\n",
      "Top-level elements:\n",
      "  - document-format-change-manifest: 18 children\n",
      "  - repository-location: 0 children\n",
      "  - preferences: 2 children\n",
      "  - datasources: 1 children\n",
      "  - worksheets: 10 children\n",
      "  - dashboards: 2 children\n",
      "  - windows: 12 children\n",
      "\n",
      "Found 13 data sources:\n",
      "  - federated.0awy2xn0o041gc17mlr2408o222d\n",
      "  - federated.0awy2xn0o041gc17mlr2408o222d\n",
      "  - federated.0awy2xn0o041gc17mlr2408o222d\n",
      "  - federated.0awy2xn0o041gc17mlr2408o222d\n",
      "  - federated.0awy2xn0o041gc17mlr2408o222d\n",
      "  - federated.0awy2xn0o041gc17mlr2408o222d\n",
      "  - federated.0awy2xn0o041gc17mlr2408o222d\n",
      "  - federated.0awy2xn0o041gc17mlr2408o222d\n",
      "  - federated.0awy2xn0o041gc17mlr2408o222d\n",
      "  - federated.0awy2xn0o041gc17mlr2408o222d\n",
      "  - federated.0awy2xn0o041gc17mlr2408o222d\n",
      "  - federated.0awy2xn0o041gc17mlr2408o222d\n",
      "  - federated.0awy2xn0o041gc17mlr2408o222d\n"
     ]
    }
   ],
   "execution_count": 28
  },
  {
   "cell_type": "code",
   "metadata": {
    "ExecuteTime": {
     "end_time": "2025-08-05T18:05:59.928264Z",
     "start_time": "2025-08-05T18:05:59.921981Z"
    }
   },
   "source": [
    "# Look for Hyper files\n",
    "hyper_files = list(extracted_dir.glob('**/*.hyper'))\n",
    "print(f\"Found {len(hyper_files)} Hyper files:\")\n",
    "for hyper_file in hyper_files:\n",
    "    print(f\"  - {hyper_file.relative_to(extracted_dir)}\")\n",
    "    print(f\"    Size: {hyper_file.stat().st_size} bytes\")"
   ],
   "outputs": [
    {
     "name": "stdout",
     "output_type": "stream",
     "text": [
      "Found 1 Hyper files:\n",
      "  - Data/Extracts/Demo_Percent+ (COVID Flu RSV Tableau Output_2).hyper\n",
      "    Size: 131072 bytes\n"
     ]
    }
   ],
   "execution_count": 29
  },
  {
   "cell_type": "code",
   "metadata": {
    "ExecuteTime": {
     "end_time": "2025-08-05T23:12:41.734740Z",
     "start_time": "2025-08-05T20:20:29.153787Z"
    }
   },
   "source": [
    "# Extract data from Hyper files\n",
    "extracted_data = {}\n",
    "\n",
    "for hyper_file in hyper_files:\n",
    "    print(f\"\\nProcessing: {hyper_file.name}\")\n",
    "    path_to_hyper = hyper_file.absolute().resolve()\n",
    "    if not path_to_hyper.exists():\n",
    "        print(f\"  Hyper file not found: {path_to_hyper}\")\n",
    "        continue\n",
    "    try:\n",
    "        with HyperProcess(telemetry=Telemetry.DO_NOT_SEND_USAGE_DATA_TO_TABLEAU) as hyper:\n",
    "            with Connection(endpoint=hyper.endpoint, database=str(path_to_hyper)) as connection:\n",
    "                # List all tables\n",
    "                tables = connection.catalog.get_table_names(\"Extract\")\n",
    "                print(f\"  Tables found: {len(tables)}\")\n",
    "\n",
    "                for table in tables:\n",
    "                    print(f\"    Reading table: {table}\")\n",
    "\n",
    "                    table_definition = connection.catalog.get_table_definition(name=table)\n",
    "                    print(f\"Table {table.name} has qualified name: {table}\")\n",
    "\n",
    "                    for column in table_definition.columns:\n",
    "                         print(f\"Column {column.name} has type={column.type} and nullability={column.nullability}\")\n",
    "                    print(\"\")\n",
    "\n",
    "                    # Query all rows\n",
    "                    result = connection.execute_list_query(f\"SELECT * FROM {table}\")\n",
    "                    rows = list(result)\n",
    "\n",
    "                    if rows:\n",
    "                        # Get column names\n",
    "                        # columns_result = connection.execute_list_query(\n",
    "                        #     f\"SELECT column_name FROM information_schema.columns WHERE table_name = '{table.name}'\"\n",
    "                        # )\n",
    "                        # columns = [row[0] for row in columns_result]\n",
    "\n",
    "                        # Create DataFrame\n",
    "                        columns = [col.name for col in table_definition.columns]\n",
    "                        df = pd.DataFrame(rows, columns=columns)\n",
    "                       # table_key = f\"{hyper_file.stem}_{table.name}\"\n",
    "                        table_key = f\"{table.name}\"\n",
    "                        extracted_data[table_key] = df\n",
    "\n",
    "                        print(f\"      Extracted {len(df)} rows, {len(df.columns)} columns\")\n",
    "                        print(f\"      Columns: {list(df.columns)[:5]}...\")\n",
    "                    else:\n",
    "                        print(f\"      No data found in table {table}\")\n",
    "\n",
    "    except Exception as e:\n",
    "        print(f\"  Error processing {hyper_file.name}: {e}\")"
   ],
   "outputs": [
    {
     "name": "stdout",
     "output_type": "stream",
     "text": [
      "\n",
      "Processing: Demo_Percent+ (COVID Flu RSV Tableau Output_2).hyper\n",
      "  Tables found: 3\n",
      "    Reading table: \"Extract\".\"Time Series_0427D0184F5A45B7973E2512848A1EE4\"\n",
      "Table \"Time Series_0427D0184F5A45B7973E2512848A1EE4\" has qualified name: \"Extract\".\"Time Series_0427D0184F5A45B7973E2512848A1EE4\"\n",
      "Column \"FY\" has type=TEXT and nullability=Nullability.NULLABLE\n",
      "Column \"CDCWk\" has type=BIG_INT and nullability=Nullability.NULLABLE\n",
      "Column \"WkNum\" has type=BIG_INT and nullability=Nullability.NULLABLE\n",
      "Column \"WkStart\" has type=DATE and nullability=Nullability.NULLABLE\n",
      "Column \"Disease\" has type=TEXT and nullability=Nullability.NULLABLE\n",
      "Column \"Metric\" has type=TEXT and nullability=Nullability.NULLABLE\n",
      "Column \"Count\" has type=BIG_INT and nullability=Nullability.NULLABLE\n",
      "Column \"Rate\" has type=DOUBLE and nullability=Nullability.NULLABLE\n",
      "Column \"ThisWk\" has type=BIG_INT and nullability=Nullability.NULLABLE\n",
      "Column \"LastWk\" has type=BIG_INT and nullability=Nullability.NULLABLE\n",
      "Column \"Update Date\" has type=DATE and nullability=Nullability.NULLABLE\n",
      "Column \"End Date\" has type=DATE and nullability=Nullability.NULLABLE\n",
      "Column \"WkStrtActual\" has type=DATE and nullability=Nullability.NULLABLE\n",
      "Column \"WkEndActual\" has type=DATE and nullability=Nullability.NULLABLE\n",
      "\n",
      "      Extracted 1688 rows, 14 columns\n",
      "      Columns: [Name('FY'), Name('CDCWk'), Name('WkNum'), Name('WkStart'), Name('Disease')]...\n",
      "    Reading table: \"Extract\".\"Demo!Percent_D2C90B937EC749F59B0EDE90A43F1138\"\n",
      "Table \"Demo!Percent_D2C90B937EC749F59B0EDE90A43F1138\" has qualified name: \"Extract\".\"Demo!Percent_D2C90B937EC749F59B0EDE90A43F1138\"\n",
      "Column \"Metric\" has type=TEXT and nullability=Nullability.NULLABLE\n",
      "Column \"Category\" has type=TEXT and nullability=Nullability.NULLABLE\n",
      "Column \"Subcategory\" has type=TEXT and nullability=Nullability.NULLABLE\n",
      "Column \"COVID\" has type=DOUBLE and nullability=Nullability.NULLABLE\n",
      "Column \"Flu\" has type=DOUBLE and nullability=Nullability.NULLABLE\n",
      "Column \"RSV\" has type=DOUBLE and nullability=Nullability.NULLABLE\n",
      "\n",
      "      Extracted 32 rows, 6 columns\n",
      "      Columns: [Name('Metric'), Name('Category'), Name('Subcategory'), Name('COVID'), Name('Flu')]...\n",
      "    Reading table: \"Extract\".\"Diff!Table_12C8CA32225C40BEA8180970AB9D03C1\"\n",
      "Table \"Diff!Table_12C8CA32225C40BEA8180970AB9D03C1\" has qualified name: \"Extract\".\"Diff!Table_12C8CA32225C40BEA8180970AB9D03C1\"\n",
      "Column \"Metric\" has type=TEXT and nullability=Nullability.NULLABLE\n",
      "Column \"Disease\" has type=TEXT and nullability=Nullability.NULLABLE\n",
      "Column \"Wk_Start\" has type=DATE and nullability=Nullability.NULLABLE\n",
      "Column \"Wk_End\" has type=DATE and nullability=Nullability.NULLABLE\n",
      "Column \"Frequency Count\" has type=TEXT and nullability=Nullability.NULLABLE\n",
      "Column \"Frequency Count 1\" has type=TEXT and nullability=Nullability.NULLABLE\n",
      "Column \"WeekDiff\" has type=BIG_INT and nullability=Nullability.NULLABLE\n",
      "Column \"WeekDiffStr\" has type=TEXT and nullability=Nullability.NULLABLE\n",
      "\n",
      "      Extracted 9 rows, 8 columns\n",
      "      Columns: [Name('Metric'), Name('Disease'), Name('Wk_Start'), Name('Wk_End'), Name('Frequency Count')]...\n"
     ]
    }
   ],
   "execution_count": 46
  },
  {
   "cell_type": "code",
   "metadata": {
    "ExecuteTime": {
     "end_time": "2025-08-05T18:31:37.492723Z",
     "start_time": "2025-08-05T18:31:37.482229Z"
    }
   },
   "source": [
    "# Display summary of extracted data\n",
    "print(f\"\\n=== EXTRACTION SUMMARY ===\")\n",
    "print(f\"Total datasets extracted: {len(extracted_data)}\")\n",
    "\n",
    "for name, df in extracted_data.items():\n",
    "    print(f\"\\nDataset: {name}\")\n",
    "    print(f\"  Shape: {df.shape}\")\n",
    "    print(f\"  Columns: {list(df.columns)}\")\n",
    "    print(f\"  Sample data:\")\n",
    "    print(df.head(3).to_string(max_cols=5))"
   ],
   "outputs": [
    {
     "name": "stdout",
     "output_type": "stream",
     "text": [
      "\n",
      "=== EXTRACTION SUMMARY ===\n",
      "Total datasets extracted: 3\n",
      "\n",
      "Dataset: Demo_Percent+ (COVID Flu RSV Tableau Output_2)_\"Time Series_0427D0184F5A45B7973E2512848A1EE4\"\n",
      "  Shape: (1688, 14)\n",
      "  Columns: [Name('FY'), Name('CDCWk'), Name('WkNum'), Name('WkStart'), Name('Disease'), Name('Metric'), Name('Count'), Name('Rate'), Name('ThisWk'), Name('LastWk'), Name('Update Date'), Name('End Date'), Name('WkStrtActual'), Name('WkEndActual')]\n",
      "  Sample data:\n",
      "    \"FY\"  \"CDCWk\"  ...  \"WkStrtActual\" \"WkEndActual\"\n",
      "0  23_24       19  ...      2024-05-05    2024-05-11\n",
      "1  23_24       20  ...      2024-05-12    2024-05-18\n",
      "2  23_24       21  ...      2024-05-19    2024-05-25\n",
      "\n",
      "Dataset: Demo_Percent+ (COVID Flu RSV Tableau Output_2)_\"Demo!Percent_D2C90B937EC749F59B0EDE90A43F1138\"\n",
      "  Shape: (32, 6)\n",
      "  Columns: [Name('Metric'), Name('Category'), Name('Subcategory'), Name('COVID'), Name('Flu'), Name('RSV')]\n",
      "  Sample data:\n",
      "  \"Metric\" \"Category\"  ...     \"Flu\"     \"RSV\"\n",
      "0    Cases     AgeCat  ...  0.082952  0.558297\n",
      "1    Cases     AgeCat  ...  0.385500  0.098682\n",
      "2    Cases     AgeCat  ...  0.238928  0.117607\n",
      "\n",
      "Dataset: Demo_Percent+ (COVID Flu RSV Tableau Output_2)_\"Diff!Table_12C8CA32225C40BEA8180970AB9D03C1\"\n",
      "  Shape: (9, 8)\n",
      "  Columns: [Name('Metric'), Name('Disease'), Name('Wk_Start'), Name('Wk_End'), Name('Frequency Count'), Name('Frequency Count 1'), Name('WeekDiff'), Name('WeekDiffStr')]\n",
      "  Sample data:\n",
      "           \"Metric\" \"Disease\"  ... \"WeekDiff\"      \"WeekDiffStr\"\n",
      "0             Cases     COVID  ...      105.0                105\n",
      "1            Deaths     COVID  ...       -3.0                 -3\n",
      "2  Hospitalizations     COVID  ...        NaN  No data available\n"
     ]
    }
   ],
   "execution_count": 43
  },
  {
   "cell_type": "code",
   "metadata": {
    "ExecuteTime": {
     "end_time": "2025-08-05T18:32:09.990924Z",
     "start_time": "2025-08-05T18:32:09.908502Z"
    }
   },
   "source": [
    "# Save extracted data\n",
    "output_dir = DATA_DIR / \"output\"\n",
    "output_dir.mkdir(exist_ok=True)\n",
    "\n",
    "saved_files = []\n",
    "\n",
    "for name, df in extracted_data.items():\n",
    "    # Save as CSV\n",
    "    csv_path = output_dir / f\"{name}.csv\"\n",
    "    df.to_csv(csv_path, index=False)\n",
    "    saved_files.append(csv_path)\n",
    "\n",
    "    # Save as JSON\n",
    "    json_path = output_dir / f\"{name}.json\"\n",
    "    df.to_json(json_path, orient='records', date_format='iso')\n",
    "    saved_files.append(json_path)\n",
    "\n",
    "    print(f\"✓ Saved {name}: CSV ({csv_path.stat().st_size} bytes), JSON ({json_path.stat().st_size} bytes)\")\n",
    "\n",
    "print(f\"\\n✓ All data saved to: {output_dir}\")\n",
    "print(f\"Total files created: {len(saved_files)}\")"
   ],
   "outputs": [
    {
     "name": "stdout",
     "output_type": "stream",
     "text": [
      "✓ Saved Demo_Percent+ (COVID Flu RSV Tableau Output_2)_\"Time Series_0427D0184F5A45B7973E2512848A1EE4\": CSV (169456 bytes), JSON (978121 bytes)\n",
      "✓ Saved Demo_Percent+ (COVID Flu RSV Tableau Output_2)_\"Demo!Percent_D2C90B937EC749F59B0EDE90A43F1138\": CSV (1993 bytes), JSON (4673 bytes)\n",
      "✓ Saved Demo_Percent+ (COVID Flu RSV Tableau Output_2)_\"Diff!Table_12C8CA32225C40BEA8180970AB9D03C1\": CSV (614 bytes), JSON (2797 bytes)\n",
      "\n",
      "✓ All data saved to: ../../../data/sandiego_epideimilogy/output\n",
      "Total files created: 6\n"
     ]
    }
   ],
   "execution_count": 45
  }
 ],
 "metadata": {
  "kernelspec": {
   "display_name": "Python 3",
   "language": "python",
   "name": "python3"
  },
  "language_info": {
   "codemirror_mode": {
    "name": "ipython",
    "version": 3
   },
   "file_extension": ".py",
   "mimetype": "text/x-python",
   "name": "python",
   "nbconvert_exporter": "python",
   "pygments_lexer": "ipython3",
   "version": "3.8.5"
  }
 },
 "nbformat": 4,
 "nbformat_minor": 4
}
