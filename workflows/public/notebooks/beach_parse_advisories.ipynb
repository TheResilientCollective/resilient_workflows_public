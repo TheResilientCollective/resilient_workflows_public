{
 "cells": [
  {
   "cell_type": "code",
   "id": "initial_id",
   "metadata": {
    "collapsed": true,
    "ExecuteTime": {
     "end_time": "2025-04-10T23:58:40.936782Z",
     "start_time": "2025-04-10T23:58:40.933552Z"
    }
   },
   "source": [
    "import datetime\n",
    "import re\n",
    "\n",
    "message='''\n",
    "<p><span style=\\\"font-size:14px\\\"><strong>Closure: Tijuana Slough Shoreline</strong></span><br />\\r\\n<strong>Stations</strong>: The ocean shoreline from U.S. / Mexico border including&nbsp;Border Field State Park and the Tijuana Slough National Wildlife Refuge&nbsp;due to cross boundary flows.<br />\\r\\n<strong>Status Since: </strong>December 8, 2021<br />\\r\\n<u><strong><a href=\\\"http://www.sandiegocounty.gov/content/dam/sdc/deh/lwqd/Beach&amp;Bay/DEHQ_bb_public_summary.pdf\\\">Bacteria levels exceed health standards. Avoid water contact in the closure&nbsp;area.</a></strong></u></p>\\r\\n\n",
    "'''"
   ],
   "outputs": [],
   "execution_count": 24
  },
  {
   "metadata": {
    "ExecuteTime": {
     "end_time": "2025-04-09T16:42:46.609659Z",
     "start_time": "2025-04-09T16:42:46.603179Z"
    }
   },
   "cell_type": "code",
   "source": [
    "pattern =re.compile(r\"<strong>(.*?)</strong>\", re.DOTALL)\n",
    "matches=pattern.findall( message)\n",
    "matches"
   ],
   "id": "454dff067df81ab2",
   "outputs": [
    {
     "data": {
      "text/plain": [
       "['Closure: Tijuana Slough Shoreline',\n",
       " 'Stations',\n",
       " 'Status Since: ',\n",
       " '<a href=\"http://www.sandiegocounty.gov/content/dam/sdc/deh/lwqd/Beach&amp;Bay/DEHQ_bb_public_summary.pdf\">Bacteria levels exceed health standards. Avoid water contact in the closure&nbsp;area.</a>']"
      ]
     },
     "execution_count": 7,
     "metadata": {},
     "output_type": "execute_result"
    }
   ],
   "execution_count": 7
  },
  {
   "metadata": {
    "ExecuteTime": {
     "end_time": "2025-04-10T23:29:04.269656Z",
     "start_time": "2025-04-10T23:29:04.263979Z"
    }
   },
   "cell_type": "code",
   "source": [
    "pattern = r\"<strong>Status Since:\\s*</strong>\\s*([A-Za-z]+\\s+\\d{1,2},\\s+\\d{4})\"\n",
    "match = re.search(pattern, message)\n",
    "if match:\n",
    "    date_str = match.group(1)\n",
    "    print(\"Extracted date:\", date_str)\n",
    "    dt = datetime.datetime.strptime(date_str, \"%B %d, %Y\")\n",
    "    # Format to abbreviated month (%b) with day as integer (to avoid leading zeros) and the 4-digit year.\n",
    "    date_str= dt.strftime(\"%b {day}, %Y\").format(day=dt.day)\n",
    "    print(\"modified date:\", date_str)\n",
    "else:\n",
    "    print(\"No date found.\")"
   ],
   "id": "692b9315bbbc3efc",
   "outputs": [
    {
     "name": "stdout",
     "output_type": "stream",
     "text": [
      "No date found.\n"
     ]
    }
   ],
   "execution_count": 15
  },
  {
   "metadata": {
    "ExecuteTime": {
     "end_time": "2025-04-11T00:00:31.548245Z",
     "start_time": "2025-04-11T00:00:31.544681Z"
    }
   },
   "cell_type": "code",
   "source": [
    "message='''\"Closure\": \"<p><strong>Advisory:&nbsp;Silver Strand Shoreline</strong><br />\\r\\n<strong>Stations: </strong>The ocean shoreline from north Carnation to south of Avenida Lunar.<br />\\r\\n<strong>Status Since:</strong>&nbsp;April 8, 2025&nbsp;<br />\\r\\n<strong><u>Bacteria levels exceed health standards. Avoid water contact in the advisory area.</u></strong></p>\\r\\n\",\n",
    "'''"
   ],
   "id": "6214979b1d6c4dc3",
   "outputs": [],
   "execution_count": 27
  },
  {
   "metadata": {
    "ExecuteTime": {
     "end_time": "2025-04-11T00:00:33.868766Z",
     "start_time": "2025-04-11T00:00:33.863881Z"
    }
   },
   "cell_type": "code",
   "source": [
    "pattern = re.compile(\n",
    "    r\"<strong>Status Since:\\s*</strong>\\s*(?:&nbsp;)*\\s*([A-Za-z]+\\s+\\d{1,2},\\s*\\d{4})(?:&nbsp;)*\",\n",
    "    re.IGNORECASE\n",
    ")\n",
    "match = pattern.search(message)\n",
    "print(\"matches:\", match)\n",
    "if match:\n",
    "    date_str = match.group(1)\n",
    "    print(\"Extracted date:\", date_str)\n",
    "    dt = datetime.datetime.strptime(date_str, \"%B %d, %Y\")\n",
    "    # Format to abbreviated month (%b) with day as integer (to avoid leading zeros) and the 4-digit year.\n",
    "    date_str= dt.strftime(\"%b {day}, %Y\").format(day=dt.day)\n",
    "    print(\"modified date:\", date_str)\n",
    "else:\n",
    "    print(\"No date found.\")"
   ],
   "id": "b2da6317fc3b06b",
   "outputs": [
    {
     "name": "stdout",
     "output_type": "stream",
     "text": [
      "matches: <re.Match object; span=(180, 235), match='<strong>Status Since:</strong>&nbsp;April 8, 2025>\n",
      "Extracted date: April 8, 2025\n",
      "modified date: Apr 8, 2025\n"
     ]
    }
   ],
   "execution_count": 28
  },
  {
   "metadata": {},
   "cell_type": "code",
   "outputs": [],
   "execution_count": null,
   "source": "",
   "id": "3cdd6451c72f1c"
  }
 ],
 "metadata": {
  "kernelspec": {
   "display_name": "Python 3",
   "language": "python",
   "name": "python3"
  },
  "language_info": {
   "codemirror_mode": {
    "name": "ipython",
    "version": 2
   },
   "file_extension": ".py",
   "mimetype": "text/x-python",
   "name": "python",
   "nbconvert_exporter": "python",
   "pygments_lexer": "ipython2",
   "version": "2.7.6"
  }
 },
 "nbformat": 4,
 "nbformat_minor": 5
}
