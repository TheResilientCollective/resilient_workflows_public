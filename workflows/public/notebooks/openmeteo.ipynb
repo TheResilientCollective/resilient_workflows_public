{
 "cells": [
  {
   "cell_type": "code",
   "id": "initial_id",
   "metadata": {
    "collapsed": true,
    "ExecuteTime": {
     "end_time": "2025-05-09T19:30:48.221645Z",
     "start_time": "2025-05-09T19:30:37.046997Z"
    }
   },
   "source": [
    "import openmeteo_requests\n",
    "\n",
    "import requests_cache\n",
    "import pandas as pd\n",
    "from retry_requests import retry"
   ],
   "outputs": [],
   "execution_count": 1
  },
  {
   "metadata": {},
   "cell_type": "code",
   "outputs": [],
   "execution_count": null,
   "source": "",
   "id": "60ceaf272c6c34e5"
  },
  {
   "metadata": {
    "ExecuteTime": {
     "end_time": "2025-05-09T19:30:53.983661Z",
     "start_time": "2025-05-09T19:30:52.720963Z"
    }
   },
   "cell_type": "code",
   "source": [
    "\n",
    "\n",
    "# Setup the Open-Meteo API client with cache and retry on error\n",
    "cache_session = requests_cache.CachedSession('.cache', expire_after = 3600)\n",
    "retry_session = retry(cache_session, retries = 5, backoff_factor = 0.2)\n",
    "openmeteo = openmeteo_requests.Client(session = retry_session)\n",
    "\n",
    "# Make sure all required weather variables are listed here\n",
    "# The order of variables in hourly or daily is important to assign them correctly below\n",
    "url = \"https://api.open-meteo.com/v1/forecast\"\n",
    "params = {\n",
    "\t\"latitude\": 32.552794,\n",
    "\t\"longitude\": -117.047286,\n",
    "\t\"hourly\": [\"temperature_2m\", \"wind_speed_10m\", \"wind_direction_10m\",\"precipitation\", \"relative_humidity_2m\"],\n",
    "\t\"past_days\": 30\n",
    "}\n",
    "responses = openmeteo.weather_api(url, params=params)\n",
    "\n",
    "# Process first location. Add a for-loop for multiple locations or weather models\n",
    "response = responses[0]\n",
    "print(f\"Coordinates {response.Latitude()}°N {response.Longitude()}°E\")\n",
    "print(f\"Elevation {response.Elevation()} m asl\")\n",
    "print(f\"Timezone {response.Timezone()} {response.TimezoneAbbreviation()}\")\n",
    "print(f\"Timezone difference to GMT+0 {response.UtcOffsetSeconds()} s\")\n",
    "\n",
    "# Process hourly data. The order of variables needs to be the same as requested.\n",
    "hourly = response.Hourly()\n",
    "hourly_temperature_2m = hourly.Variables(0).ValuesAsNumpy()\n",
    "hourly_wind_speed_10m = hourly.Variables(1).ValuesAsNumpy()\n",
    "hourly_wind_direction_10m = hourly.Variables(2).ValuesAsNumpy()\n",
    "hourly_relative_humidity_2m = hourly.Variables(4).ValuesAsNumpy()\n",
    "hourly_precipitation = hourly.Variables(3).ValuesAsNumpy()\n",
    "\n",
    "hourly_data = {\"date\": pd.date_range(\n",
    "\tstart = pd.to_datetime(hourly.Time(), unit = \"s\", utc = True),\n",
    "\tend = pd.to_datetime(hourly.TimeEnd(), unit = \"s\", utc = True),\n",
    "\tfreq = pd.Timedelta(seconds = hourly.Interval()),\n",
    "\tinclusive = \"left\"\n",
    ")}\n",
    "\n",
    "hourly_data[\"temperature_2m\"] = hourly_temperature_2m\n",
    "hourly_data[\"wind_speed_10m\"] = hourly_wind_speed_10m\n",
    "hourly_data[\"wind_direction_10m\"] = hourly_wind_direction_10m\n",
    "hourly_data[\"relative_humidity_2m\"] = hourly_relative_humidity_2m\n",
    "hourly_data[\"precipitation\"] = hourly_precipitation\n",
    "\n",
    "hourly_dataframe = pd.DataFrame(data = hourly_data)\n",
    "print(hourly_dataframe)"
   ],
   "id": "5a2637b8cb437550",
   "outputs": [
    {
     "name": "stdout",
     "output_type": "stream",
     "text": [
      "Coordinates 32.54777908325195°N -117.04148864746094°E\n",
      "Elevation 16.0 m asl\n",
      "Timezone None None\n",
      "Timezone difference to GMT+0 0 s\n"
     ]
    },
    {
     "ename": "TypeError",
     "evalue": "_generate_range() got an unexpected keyword argument 'inclusive'",
     "output_type": "error",
     "traceback": [
      "\u001B[0;31m---------------------------------------------------------------------------\u001B[0m",
      "\u001B[0;31mTypeError\u001B[0m                                 Traceback (most recent call last)",
      "Cell \u001B[0;32mIn[2], line 32\u001B[0m\n\u001B[1;32m     29\u001B[0m hourly_relative_humidity_2m \u001B[38;5;241m=\u001B[39m hourly\u001B[38;5;241m.\u001B[39mVariables(\u001B[38;5;241m4\u001B[39m)\u001B[38;5;241m.\u001B[39mValuesAsNumpy()\n\u001B[1;32m     30\u001B[0m hourly_precipitation \u001B[38;5;241m=\u001B[39m hourly\u001B[38;5;241m.\u001B[39mVariables(\u001B[38;5;241m3\u001B[39m)\u001B[38;5;241m.\u001B[39mValuesAsNumpy()\n\u001B[0;32m---> 32\u001B[0m hourly_data \u001B[38;5;241m=\u001B[39m {\u001B[38;5;124m\"\u001B[39m\u001B[38;5;124mdate\u001B[39m\u001B[38;5;124m\"\u001B[39m: \u001B[43mpd\u001B[49m\u001B[38;5;241;43m.\u001B[39;49m\u001B[43mdate_range\u001B[49m\u001B[43m(\u001B[49m\n\u001B[1;32m     33\u001B[0m \u001B[43m\t\u001B[49m\u001B[43mstart\u001B[49m\u001B[43m \u001B[49m\u001B[38;5;241;43m=\u001B[39;49m\u001B[43m \u001B[49m\u001B[43mpd\u001B[49m\u001B[38;5;241;43m.\u001B[39;49m\u001B[43mto_datetime\u001B[49m\u001B[43m(\u001B[49m\u001B[43mhourly\u001B[49m\u001B[38;5;241;43m.\u001B[39;49m\u001B[43mTime\u001B[49m\u001B[43m(\u001B[49m\u001B[43m)\u001B[49m\u001B[43m,\u001B[49m\u001B[43m \u001B[49m\u001B[43munit\u001B[49m\u001B[43m \u001B[49m\u001B[38;5;241;43m=\u001B[39;49m\u001B[43m \u001B[49m\u001B[38;5;124;43m\"\u001B[39;49m\u001B[38;5;124;43ms\u001B[39;49m\u001B[38;5;124;43m\"\u001B[39;49m\u001B[43m,\u001B[49m\u001B[43m \u001B[49m\u001B[43mutc\u001B[49m\u001B[43m \u001B[49m\u001B[38;5;241;43m=\u001B[39;49m\u001B[43m \u001B[49m\u001B[38;5;28;43;01mTrue\u001B[39;49;00m\u001B[43m)\u001B[49m\u001B[43m,\u001B[49m\n\u001B[1;32m     34\u001B[0m \u001B[43m\t\u001B[49m\u001B[43mend\u001B[49m\u001B[43m \u001B[49m\u001B[38;5;241;43m=\u001B[39;49m\u001B[43m \u001B[49m\u001B[43mpd\u001B[49m\u001B[38;5;241;43m.\u001B[39;49m\u001B[43mto_datetime\u001B[49m\u001B[43m(\u001B[49m\u001B[43mhourly\u001B[49m\u001B[38;5;241;43m.\u001B[39;49m\u001B[43mTimeEnd\u001B[49m\u001B[43m(\u001B[49m\u001B[43m)\u001B[49m\u001B[43m,\u001B[49m\u001B[43m \u001B[49m\u001B[43munit\u001B[49m\u001B[43m \u001B[49m\u001B[38;5;241;43m=\u001B[39;49m\u001B[43m \u001B[49m\u001B[38;5;124;43m\"\u001B[39;49m\u001B[38;5;124;43ms\u001B[39;49m\u001B[38;5;124;43m\"\u001B[39;49m\u001B[43m,\u001B[49m\u001B[43m \u001B[49m\u001B[43mutc\u001B[49m\u001B[43m \u001B[49m\u001B[38;5;241;43m=\u001B[39;49m\u001B[43m \u001B[49m\u001B[38;5;28;43;01mTrue\u001B[39;49;00m\u001B[43m)\u001B[49m\u001B[43m,\u001B[49m\n\u001B[1;32m     35\u001B[0m \u001B[43m\t\u001B[49m\u001B[43mfreq\u001B[49m\u001B[43m \u001B[49m\u001B[38;5;241;43m=\u001B[39;49m\u001B[43m \u001B[49m\u001B[43mpd\u001B[49m\u001B[38;5;241;43m.\u001B[39;49m\u001B[43mTimedelta\u001B[49m\u001B[43m(\u001B[49m\u001B[43mseconds\u001B[49m\u001B[43m \u001B[49m\u001B[38;5;241;43m=\u001B[39;49m\u001B[43m \u001B[49m\u001B[43mhourly\u001B[49m\u001B[38;5;241;43m.\u001B[39;49m\u001B[43mInterval\u001B[49m\u001B[43m(\u001B[49m\u001B[43m)\u001B[49m\u001B[43m)\u001B[49m\u001B[43m,\u001B[49m\n\u001B[1;32m     36\u001B[0m \u001B[43m\t\u001B[49m\u001B[43minclusive\u001B[49m\u001B[43m \u001B[49m\u001B[38;5;241;43m=\u001B[39;49m\u001B[43m \u001B[49m\u001B[38;5;124;43m\"\u001B[39;49m\u001B[38;5;124;43mleft\u001B[39;49m\u001B[38;5;124;43m\"\u001B[39;49m\n\u001B[1;32m     37\u001B[0m \u001B[43m)\u001B[49m}\n\u001B[1;32m     39\u001B[0m hourly_data[\u001B[38;5;124m\"\u001B[39m\u001B[38;5;124mtemperature_2m\u001B[39m\u001B[38;5;124m\"\u001B[39m] \u001B[38;5;241m=\u001B[39m hourly_temperature_2m\n\u001B[1;32m     40\u001B[0m hourly_data[\u001B[38;5;124m\"\u001B[39m\u001B[38;5;124mwind_speed_10m\u001B[39m\u001B[38;5;124m\"\u001B[39m] \u001B[38;5;241m=\u001B[39m hourly_wind_speed_10m\n",
      "File \u001B[0;32m~/development/dev_resilient/resilient_workflows/venv_3_9/lib/python3.9/site-packages/pandas/core/indexes/datetimes.py:1097\u001B[0m, in \u001B[0;36mdate_range\u001B[0;34m(start, end, periods, freq, tz, normalize, name, closed, **kwargs)\u001B[0m\n\u001B[1;32m   1094\u001B[0m \u001B[38;5;28;01mif\u001B[39;00m freq \u001B[38;5;129;01mis\u001B[39;00m \u001B[38;5;28;01mNone\u001B[39;00m \u001B[38;5;129;01mand\u001B[39;00m com\u001B[38;5;241m.\u001B[39many_none(periods, start, end):\n\u001B[1;32m   1095\u001B[0m     freq \u001B[38;5;241m=\u001B[39m \u001B[38;5;124m\"\u001B[39m\u001B[38;5;124mD\u001B[39m\u001B[38;5;124m\"\u001B[39m\n\u001B[0;32m-> 1097\u001B[0m dtarr \u001B[38;5;241m=\u001B[39m \u001B[43mDatetimeArray\u001B[49m\u001B[38;5;241;43m.\u001B[39;49m\u001B[43m_generate_range\u001B[49m\u001B[43m(\u001B[49m\n\u001B[1;32m   1098\u001B[0m \u001B[43m    \u001B[49m\u001B[43mstart\u001B[49m\u001B[38;5;241;43m=\u001B[39;49m\u001B[43mstart\u001B[49m\u001B[43m,\u001B[49m\n\u001B[1;32m   1099\u001B[0m \u001B[43m    \u001B[49m\u001B[43mend\u001B[49m\u001B[38;5;241;43m=\u001B[39;49m\u001B[43mend\u001B[49m\u001B[43m,\u001B[49m\n\u001B[1;32m   1100\u001B[0m \u001B[43m    \u001B[49m\u001B[43mperiods\u001B[49m\u001B[38;5;241;43m=\u001B[39;49m\u001B[43mperiods\u001B[49m\u001B[43m,\u001B[49m\n\u001B[1;32m   1101\u001B[0m \u001B[43m    \u001B[49m\u001B[43mfreq\u001B[49m\u001B[38;5;241;43m=\u001B[39;49m\u001B[43mfreq\u001B[49m\u001B[43m,\u001B[49m\n\u001B[1;32m   1102\u001B[0m \u001B[43m    \u001B[49m\u001B[43mtz\u001B[49m\u001B[38;5;241;43m=\u001B[39;49m\u001B[43mtz\u001B[49m\u001B[43m,\u001B[49m\n\u001B[1;32m   1103\u001B[0m \u001B[43m    \u001B[49m\u001B[43mnormalize\u001B[49m\u001B[38;5;241;43m=\u001B[39;49m\u001B[43mnormalize\u001B[49m\u001B[43m,\u001B[49m\n\u001B[1;32m   1104\u001B[0m \u001B[43m    \u001B[49m\u001B[43mclosed\u001B[49m\u001B[38;5;241;43m=\u001B[39;49m\u001B[43mclosed\u001B[49m\u001B[43m,\u001B[49m\n\u001B[1;32m   1105\u001B[0m \u001B[43m    \u001B[49m\u001B[38;5;241;43m*\u001B[39;49m\u001B[38;5;241;43m*\u001B[39;49m\u001B[43mkwargs\u001B[49m\u001B[43m,\u001B[49m\n\u001B[1;32m   1106\u001B[0m \u001B[43m\u001B[49m\u001B[43m)\u001B[49m\n\u001B[1;32m   1107\u001B[0m \u001B[38;5;28;01mreturn\u001B[39;00m DatetimeIndex\u001B[38;5;241m.\u001B[39m_simple_new(dtarr, name\u001B[38;5;241m=\u001B[39mname)\n",
      "\u001B[0;31mTypeError\u001B[0m: _generate_range() got an unexpected keyword argument 'inclusive'"
     ]
    }
   ],
   "execution_count": 2
  },
  {
   "metadata": {
    "ExecuteTime": {
     "end_time": "2025-02-14T18:33:04.541055Z",
     "start_time": "2025-02-14T18:33:04.528315Z"
    }
   },
   "cell_type": "code",
   "source": "hourly_dataframe.to_csv('../../../../data/weather/openmeteo/out/hourly.csv', index=False)\n",
   "id": "67740295e8ba2818",
   "outputs": [],
   "execution_count": 3
  },
  {
   "metadata": {
    "ExecuteTime": {
     "end_time": "2025-02-14T18:33:26.124979Z",
     "start_time": "2025-02-14T18:33:26.117543Z"
    }
   },
   "cell_type": "code",
   "source": [
    "from foursquare.data_sdk import DataSDK, MediaType\n",
    "import os\n",
    "refresh_token=os.getenv(\"RC_FSQ_REFRESH_TOKEN\")\n",
    "#client = DataSDK(refresh_token=refresh_token)\n",
    "client = DataSDK()"
   ],
   "id": "21f875dadaf6583f",
   "outputs": [],
   "execution_count": 5
  },
  {
   "metadata": {
    "ExecuteTime": {
     "end_time": "2025-02-14T18:33:28.632110Z",
     "start_time": "2025-02-14T18:33:27.887565Z"
    }
   },
   "cell_type": "code",
   "source": [
    "client.upload_dataframe(\n",
    "            hourly_dataframe,\n",
    "           dataset=\"42b2c74b-de4f-43e3-b93c-bb24a181f584\",\n",
    "            name='Weather',\n",
    "            description=\"Weather From OpenMeteo via dataframe\",)"
   ],
   "id": "947d5592434ae5ae",
   "outputs": [
    {
     "name": "stderr",
     "output_type": "stream",
     "text": [
      "Compressing file\n",
      "Uploading: 100%|██████████| 15.3k/15.3k [00:00<00:00, 22.8kB/s]\n"
     ]
    },
    {
     "data": {
      "text/plain": [
       "Dataset(id=UUID('42b2c74b-de4f-43e3-b93c-bb24a181f584'), name='Weather', type=<DatasetType.MANAGED: 'managed'>, created_at=datetime.datetime(2025, 2, 13, 18, 16, 52, tzinfo=TzInfo(UTC)), updated_at=datetime.datetime(2025, 2, 14, 18, 33, 28, tzinfo=TzInfo(UTC)), description='Weather From OpenMeteo via dataframe', is_valid=True, data_connector=None, metadata=DatasetMetadata(media_type='text/csv', size=59069, source=None, tileset_data_url=None, tileset_metadata_url=None, image_url=None, metadata_url=None, data_status=None))"
      ]
     },
     "execution_count": 6,
     "metadata": {},
     "output_type": "execute_result"
    }
   ],
   "execution_count": 6
  },
  {
   "metadata": {
    "ExecuteTime": {
     "end_time": "2025-02-14T18:33:32.100385Z",
     "start_time": "2025-02-14T18:33:32.095133Z"
    }
   },
   "cell_type": "code",
   "source": "hourly_dataframe.set_index(\"date\", inplace=True)\n",
   "id": "9e89504b636b3963",
   "outputs": [],
   "execution_count": 7
  },
  {
   "metadata": {
    "ExecuteTime": {
     "end_time": "2025-02-14T00:36:15.239599Z",
     "start_time": "2025-02-14T00:36:15.232188Z"
    }
   },
   "cell_type": "code",
   "source": "hourly_dataframe['wind_speed_10m']",
   "id": "1cec35bd029942d5",
   "outputs": [
    {
     "data": {
      "text/plain": [
       "date\n",
       "2025-01-15 00:00:00+00:00     5.634891\n",
       "2025-01-15 01:00:00+00:00     1.484318\n",
       "2025-01-15 02:00:00+00:00    19.052811\n",
       "2025-01-15 03:00:00+00:00    12.574260\n",
       "2025-01-15 04:00:00+00:00    14.145756\n",
       "                               ...    \n",
       "2025-02-20 19:00:00+00:00     6.569383\n",
       "2025-02-20 20:00:00+00:00     9.826088\n",
       "2025-02-20 21:00:00+00:00    12.387348\n",
       "2025-02-20 22:00:00+00:00    13.551501\n",
       "2025-02-20 23:00:00+00:00    13.246826\n",
       "Name: wind_speed_10m, Length: 888, dtype: float32"
      ]
     },
     "execution_count": 15,
     "metadata": {},
     "output_type": "execute_result"
    }
   ],
   "execution_count": 15
  },
  {
   "metadata": {},
   "cell_type": "markdown",
   "source": "Add daily for max speed, and direction",
   "id": "4fc15298e63aca5d"
  },
  {
   "metadata": {},
   "cell_type": "markdown",
   "source": "Historica l data\n",
   "id": "19518c031e832e07"
  },
  {
   "metadata": {
    "ExecuteTime": {
     "end_time": "2025-05-09T19:39:34.994678Z",
     "start_time": "2025-05-09T19:39:34.966555Z"
    }
   },
   "cell_type": "code",
   "source": [
    "\n",
    "cache_session = requests_cache.CachedSession('.cache', expire_after=3600)\n",
    "retry_session = retry(cache_session, retries=5, backoff_factor=0.2)\n",
    "openmeteo = openmeteo_requests.Client(session=retry_session)\n",
    "\n",
    "# Make sure all required weather variables are listed here\n",
    "# The order of variables in hourly or daily is important to assign them correctly below\n",
    "url = \"https://archive-api.open-meteo.com/v1/archive\"\n",
    "params = {\n",
    "\t\"latitude\": 52.52,\n",
    "\t\"longitude\": 13.41,\n",
    "\t\"start_date\": \"2024-01-01\",\n",
    "\t\"end_date\": \"2024-12-31\",\n",
    "\t\"hourly\": [\"temperature_2m\", \"wind_speed_10m\", \"wind_direction_10m\", \"wind_gusts_10m\", \"precipitation\", \"relative_humidity_2m\"]\n",
    "}\n",
    "responses = openmeteo.weather_api(url, params=params)\n",
    "\n",
    "# Process first location. Add a for-loop for multiple locations or weather models\n",
    "response = responses[0]\n",
    "print(f\"Coordinates {response.Latitude()}°N {response.Longitude()}°E\")\n",
    "print(f\"Elevation {response.Elevation()} m asl\")\n",
    "print(f\"Timezone {response.Timezone()}{response.TimezoneAbbreviation()}\")\n",
    "print(f\"Timezone difference to GMT+0 {response.UtcOffsetSeconds()} s\")\n",
    "\n",
    "# Process hourly data. The order of variables needs to be the same as requested.\n",
    "hourly = response.Hourly()\n",
    "hourly_temperature_2m = hourly.Variables(0).ValuesAsNumpy()\n",
    "hourly_wind_speed_10m = hourly.Variables(1).ValuesAsNumpy()\n",
    "hourly_wind_direction_10m = hourly.Variables(2).ValuesAsNumpy()\n",
    "hourly_wind_gusts_10m = hourly.Variables(3).ValuesAsNumpy()\n",
    "hourly_precipitation = hourly.Variables(4).ValuesAsNumpy()\n",
    "hourly_relative_humidity_2m = hourly.Variables(5).ValuesAsNumpy()\n",
    "\n",
    "hourly_data = {\"date\": pd.date_range(\n",
    "\tstart = pd.to_datetime(hourly.Time(), unit = \"s\", utc = True),\n",
    "\tend = pd.to_datetime(hourly.TimeEnd(), unit = \"s\", utc = True),\n",
    "\tfreq = pd.Timedelta(seconds = hourly.Interval()),\n",
    "\tclosed = \"left\"\n",
    ")}\n",
    "\n",
    "hourly_data[\"temperature_2m\"] = hourly_temperature_2m\n",
    "hourly_data[\"wind_speed_10m\"] = hourly_wind_speed_10m\n",
    "hourly_data[\"wind_direction_10m\"] = hourly_wind_direction_10m\n",
    "hourly_data[\"wind_gusts_10m\"] = hourly_wind_gusts_10m\n",
    "hourly_data[\"precipitation\"] = hourly_precipitation\n",
    "hourly_data[\"relative_humidity_2m\"] = hourly_relative_humidity_2m\n",
    "\n",
    "hourly_dataframe = pd.DataFrame(data = hourly_data)\n",
    "hourly_dataframe"
   ],
   "id": "a5092e667a4aa33c",
   "outputs": [
    {
     "name": "stdout",
     "output_type": "stream",
     "text": [
      "Coordinates 52.5483283996582°N 13.407821655273438°E\n",
      "Elevation 38.0 m asl\n",
      "Timezone NoneNone\n",
      "Timezone difference to GMT+0 0 s\n"
     ]
    },
    {
     "data": {
      "text/plain": [
       "                          date  temperature_2m  wind_speed_10m  \\\n",
       "0    2024-01-01 00:00:00+00:00          5.0085       14.118243   \n",
       "1    2024-01-01 01:00:00+00:00          5.4085       13.661038   \n",
       "2    2024-01-01 02:00:00+00:00          5.0585       14.003029   \n",
       "3    2024-01-01 03:00:00+00:00          4.6585       14.458382   \n",
       "4    2024-01-01 04:00:00+00:00          4.4085       14.003029   \n",
       "...                        ...             ...             ...   \n",
       "8779 2024-12-31 19:00:00+00:00          1.8585       16.928614   \n",
       "8780 2024-12-31 20:00:00+00:00          1.5585       16.813387   \n",
       "8781 2024-12-31 21:00:00+00:00          1.3085       18.108572   \n",
       "8782 2024-12-31 22:00:00+00:00          1.1585       18.723461   \n",
       "8783 2024-12-31 23:00:00+00:00          0.7085       19.118168   \n",
       "\n",
       "      wind_direction_10m  wind_gusts_10m  precipitation  relative_humidity_2m  \n",
       "0             199.359085       23.400000            0.0             86.903526  \n",
       "1             198.435043       24.119999            0.0             85.421883  \n",
       "2             197.969238       23.400000            0.0             85.081627  \n",
       "3             198.886185       24.480000            0.0             85.643791  \n",
       "4             197.969238       24.119999            0.0             86.535805  \n",
       "...                  ...             ...            ...                   ...  \n",
       "8779          224.569260       34.919998            0.0             83.798660  \n",
       "8780          217.606064       35.639999            0.0             84.068581  \n",
       "8781          217.325592       37.799999            0.0             82.211578  \n",
       "8782          217.971664       38.880001            0.0             81.890335  \n",
       "8783          217.733109       39.959999            0.0             83.657967  \n",
       "\n",
       "[8784 rows x 7 columns]"
      ],
      "text/html": [
       "<div>\n",
       "<style scoped>\n",
       "    .dataframe tbody tr th:only-of-type {\n",
       "        vertical-align: middle;\n",
       "    }\n",
       "\n",
       "    .dataframe tbody tr th {\n",
       "        vertical-align: top;\n",
       "    }\n",
       "\n",
       "    .dataframe thead th {\n",
       "        text-align: right;\n",
       "    }\n",
       "</style>\n",
       "<table border=\"1\" class=\"dataframe\">\n",
       "  <thead>\n",
       "    <tr style=\"text-align: right;\">\n",
       "      <th></th>\n",
       "      <th>date</th>\n",
       "      <th>temperature_2m</th>\n",
       "      <th>wind_speed_10m</th>\n",
       "      <th>wind_direction_10m</th>\n",
       "      <th>wind_gusts_10m</th>\n",
       "      <th>precipitation</th>\n",
       "      <th>relative_humidity_2m</th>\n",
       "    </tr>\n",
       "  </thead>\n",
       "  <tbody>\n",
       "    <tr>\n",
       "      <th>0</th>\n",
       "      <td>2024-01-01 00:00:00+00:00</td>\n",
       "      <td>5.0085</td>\n",
       "      <td>14.118243</td>\n",
       "      <td>199.359085</td>\n",
       "      <td>23.400000</td>\n",
       "      <td>0.0</td>\n",
       "      <td>86.903526</td>\n",
       "    </tr>\n",
       "    <tr>\n",
       "      <th>1</th>\n",
       "      <td>2024-01-01 01:00:00+00:00</td>\n",
       "      <td>5.4085</td>\n",
       "      <td>13.661038</td>\n",
       "      <td>198.435043</td>\n",
       "      <td>24.119999</td>\n",
       "      <td>0.0</td>\n",
       "      <td>85.421883</td>\n",
       "    </tr>\n",
       "    <tr>\n",
       "      <th>2</th>\n",
       "      <td>2024-01-01 02:00:00+00:00</td>\n",
       "      <td>5.0585</td>\n",
       "      <td>14.003029</td>\n",
       "      <td>197.969238</td>\n",
       "      <td>23.400000</td>\n",
       "      <td>0.0</td>\n",
       "      <td>85.081627</td>\n",
       "    </tr>\n",
       "    <tr>\n",
       "      <th>3</th>\n",
       "      <td>2024-01-01 03:00:00+00:00</td>\n",
       "      <td>4.6585</td>\n",
       "      <td>14.458382</td>\n",
       "      <td>198.886185</td>\n",
       "      <td>24.480000</td>\n",
       "      <td>0.0</td>\n",
       "      <td>85.643791</td>\n",
       "    </tr>\n",
       "    <tr>\n",
       "      <th>4</th>\n",
       "      <td>2024-01-01 04:00:00+00:00</td>\n",
       "      <td>4.4085</td>\n",
       "      <td>14.003029</td>\n",
       "      <td>197.969238</td>\n",
       "      <td>24.119999</td>\n",
       "      <td>0.0</td>\n",
       "      <td>86.535805</td>\n",
       "    </tr>\n",
       "    <tr>\n",
       "      <th>...</th>\n",
       "      <td>...</td>\n",
       "      <td>...</td>\n",
       "      <td>...</td>\n",
       "      <td>...</td>\n",
       "      <td>...</td>\n",
       "      <td>...</td>\n",
       "      <td>...</td>\n",
       "    </tr>\n",
       "    <tr>\n",
       "      <th>8779</th>\n",
       "      <td>2024-12-31 19:00:00+00:00</td>\n",
       "      <td>1.8585</td>\n",
       "      <td>16.928614</td>\n",
       "      <td>224.569260</td>\n",
       "      <td>34.919998</td>\n",
       "      <td>0.0</td>\n",
       "      <td>83.798660</td>\n",
       "    </tr>\n",
       "    <tr>\n",
       "      <th>8780</th>\n",
       "      <td>2024-12-31 20:00:00+00:00</td>\n",
       "      <td>1.5585</td>\n",
       "      <td>16.813387</td>\n",
       "      <td>217.606064</td>\n",
       "      <td>35.639999</td>\n",
       "      <td>0.0</td>\n",
       "      <td>84.068581</td>\n",
       "    </tr>\n",
       "    <tr>\n",
       "      <th>8781</th>\n",
       "      <td>2024-12-31 21:00:00+00:00</td>\n",
       "      <td>1.3085</td>\n",
       "      <td>18.108572</td>\n",
       "      <td>217.325592</td>\n",
       "      <td>37.799999</td>\n",
       "      <td>0.0</td>\n",
       "      <td>82.211578</td>\n",
       "    </tr>\n",
       "    <tr>\n",
       "      <th>8782</th>\n",
       "      <td>2024-12-31 22:00:00+00:00</td>\n",
       "      <td>1.1585</td>\n",
       "      <td>18.723461</td>\n",
       "      <td>217.971664</td>\n",
       "      <td>38.880001</td>\n",
       "      <td>0.0</td>\n",
       "      <td>81.890335</td>\n",
       "    </tr>\n",
       "    <tr>\n",
       "      <th>8783</th>\n",
       "      <td>2024-12-31 23:00:00+00:00</td>\n",
       "      <td>0.7085</td>\n",
       "      <td>19.118168</td>\n",
       "      <td>217.733109</td>\n",
       "      <td>39.959999</td>\n",
       "      <td>0.0</td>\n",
       "      <td>83.657967</td>\n",
       "    </tr>\n",
       "  </tbody>\n",
       "</table>\n",
       "<p>8784 rows × 7 columns</p>\n",
       "</div>"
      ]
     },
     "execution_count": 9,
     "metadata": {},
     "output_type": "execute_result"
    }
   ],
   "execution_count": 9
  }
 ],
 "metadata": {
  "kernelspec": {
   "display_name": "Python 3",
   "language": "python",
   "name": "python3"
  },
  "language_info": {
   "codemirror_mode": {
    "name": "ipython",
    "version": 2
   },
   "file_extension": ".py",
   "mimetype": "text/x-python",
   "name": "python",
   "nbconvert_exporter": "python",
   "pygments_lexer": "ipython2",
   "version": "2.7.6"
  }
 },
 "nbformat": 4,
 "nbformat_minor": 5
}
