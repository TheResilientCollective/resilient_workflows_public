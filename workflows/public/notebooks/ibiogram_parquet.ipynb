{
 "cells": [
  {
   "cell_type": "code",
   "execution_count": 2,
   "id": "initial_id",
   "metadata": {
    "collapsed": true,
    "ExecuteTime": {
     "end_time": "2024-04-04T18:05:58.356705Z",
     "start_time": "2024-04-04T18:05:56.453477Z"
    }
   },
   "outputs": [],
   "source": [
    "import pandas as pd\n",
    "import geopandas as gpd\n",
    "#import duckdb\n",
    "import csv\n",
    "import os\n",
    "import sys\n",
    "import logging  \n",
    "\n",
    "logging.basicConfig(stream=sys.stdout, level=logging.INFO, format=\"%(asctime)s %(message)s\")\n",
    "logger=logging.getLogger(__name__)\n",
    "logger.setLevel(level=logging.DEBUG)"
   ]
  },
  {
   "cell_type": "code",
   "outputs": [
    {
     "name": "stdout",
     "output_type": "stream",
     "text": [
      "2024-04-04 11:05:58,975 base dir: /Users/valentin/development/dev_resilient/resilient_workflows/sheild/notebooks\n"
     ]
    }
   ],
   "source": [
    "base_dir = os.getcwd()\n",
    "logger.info(\"base dir: {}\".format(base_dir))\n",
    "\n",
    "data_dir = os.path.join(base_dir, \"../../data/ibiogram/latest/\")\n",
    "files = {\n",
    "    \"demo\": {\"file\":\"decs-1290-demo.txt\",\"parse_dates\":[], \"dtype\": {}},\n",
    "    \n",
    "\"problems\":{\"file\":\"decs-1290-problems.txt\",\"parse_dates\":[\"NOTED_DATE\"], \"dtype\":{}},\n",
    "\"visits\":{\"file\":\"decs-1290-visits.txt\",\n",
    "          \"parse_dates\":[\"HOSP_ADMSN_TIME\",\"HOSP_DISCH_TIME\"],\n",
    "          \"dtype\":{\n",
    "              \"PAT_ENC_CSN_DI\": 'string'\n",
    "          }},\n",
    "\"sensitivity\":{\"file\":\"decs-1290-sensitivity.txt\",\"parse_dates\":[\"RESULT_DATE\"], \"dtype\":{}},\n",
    "}\n",
    "parquet_dir = os.path.join(base_dir, \"../../data/ibiogram/output/parquet/\")"
   ],
   "metadata": {
    "collapsed": false,
    "ExecuteTime": {
     "end_time": "2024-04-04T18:05:58.977393Z",
     "start_time": "2024-04-04T18:05:58.973551Z"
    }
   },
   "id": "ec2892437240648e",
   "execution_count": 3
  },
  {
   "cell_type": "code",
   "outputs": [
    {
     "name": "stdout",
     "output_type": "stream",
     "text": [
      "2024-04-04 11:06:03,468 Converting demo to parquet\n",
      "2024-04-04 11:06:07,155 Parquet complete\n",
      "2024-04-04 11:06:07,187 Converting problems to parquet\n",
      "2024-04-04 11:06:34,937 Parquet complete\n",
      "2024-04-04 11:06:35,111 Converting visits to parquet\n",
      "2024-04-04 11:06:39,351 Parquet complete\n",
      "2024-04-04 11:06:39,383 Converting sensitivity to parquet\n",
      "2024-04-04 11:06:41,655 Parquet complete\n"
     ]
    }
   ],
   "source": [
    "def convertToParquet(file  ):\n",
    "    logger.info(f\"Converting {file} to parquet\")\n",
    "    df = pd.read_csv(os.path.join(data_dir, files[file][\"file\"]), delimiter=\"|\",\n",
    "                    parse_dates=files[file][\"parse_dates\"],\n",
    "                     dtype=files[file][\"dtype\"]) \n",
    "    # for d in files[file][\"parse_dates\"]:\n",
    "    #     tsname = f\"{d}-timestampe\"\n",
    "    #     df[d] = pd.to_datetime(df[d])\n",
    "    df.to_parquet(path=os.path.join(parquet_dir, f\"{file}.parquet\"))\n",
    "    logger.info(f\"Parquet complete\")\n",
    "# now run the function\n",
    "for f in files: convertToParquet(f)"
   ],
   "metadata": {
    "collapsed": false,
    "ExecuteTime": {
     "end_time": "2024-04-04T18:06:41.668763Z",
     "start_time": "2024-04-04T18:06:03.466875Z"
    }
   },
   "id": "11ef0ce6f01b2900",
   "execution_count": 4
  },
  {
   "cell_type": "code",
   "outputs": [],
   "source": [],
   "metadata": {
    "collapsed": false
   },
   "id": "8664089a993bf14d"
  }
 ],
 "metadata": {
  "kernelspec": {
   "display_name": "Python 3",
   "language": "python",
   "name": "python3"
  },
  "language_info": {
   "codemirror_mode": {
    "name": "ipython",
    "version": 2
   },
   "file_extension": ".py",
   "mimetype": "text/x-python",
   "name": "python",
   "nbconvert_exporter": "python",
   "pygments_lexer": "ipython2",
   "version": "2.7.6"
  }
 },
 "nbformat": 4,
 "nbformat_minor": 5
}
