{
 "cells": [
  {
   "metadata": {},
   "cell_type": "markdown",
   "source": "https://wabi-us-gov-iowa-api.analysis.usgovcloudapi.net/public/reports/querydata?synchronous=true",
   "id": "7bfadb09f619d7ed"
  },
  {
   "metadata": {
    "ExecuteTime": {
     "end_time": "2025-06-30T23:55:09.244648Z",
     "start_time": "2025-06-30T23:55:08.563122Z"
    }
   },
   "cell_type": "code",
   "source": [
    "import requests\n",
    "import json\n",
    "import pandas as pd\n",
    "from datetime import datetime\n",
    "headers = {\"Content-Type\":\"application/json; charset=utf-8\"\n",
    "           ,\"x-powerbi-resourcekey\":\"4b92a22d-c5c1-4980-aa08-3f219122e6aa\" }\n",
    "\n",
    "payload = {\"version\":\"1.0.0\",\"queries\":[{\"Query\":{\"Commands\":[{\"SemanticQueryDataShapeCommand\":{\"Query\":{\"Version\":2,\"From\":[{\"Name\":\"_\",\"Entity\":\"_measures\",\"Type\":0},{\"Name\":\"r\",\"Entity\":\"RollingAvgs\",\"Type\":0},{\"Name\":\"d\",\"Entity\":\"Dates\",\"Type\":0},{\"Name\":\"_1\",\"Entity\":\"_titles\",\"Type\":0},{\"Name\":\"p\",\"Entity\":\"Param - MWD\",\"Type\":0}],\"Select\":[{\"Measure\":{\"Expression\":{\"SourceRef\":{\"Source\":\"_\"}},\"Property\":\"n\"},\"Name\":\"_measures.n\",\"NativeReferenceName\":\"Case Count\"},{\"Measure\":{\"Expression\":{\"SourceRef\":{\"Source\":\"_\"}},\"Property\":\"epi_curve_note\"},\"Name\":\"_measures.epi_curve_note\",\"NativeReferenceName\":\"Note\"},{\"Measure\":{\"Expression\":{\"SourceRef\":{\"Source\":\"r\"}},\"Property\":\"rollingavg_table\"},\"Name\":\"RollingAvgs.rollingavg_table\",\"NativeReferenceName\":\"7-Day Average\"},{\"Column\":{\"Expression\":{\"SourceRef\":{\"Source\":\"d\"}},\"Property\":\"week_start_dt\"},\"Name\":\"Dates.week_start_dt\",\"NativeReferenceName\":\"Episode Week\"},{\"Measure\":{\"Expression\":{\"SourceRef\":{\"Source\":\"_\"}},\"Property\":\"epi_curve_text_color\"},\"Name\":\"_measures.epi_curve_text_color\"},{\"Measure\":{\"Expression\":{\"SourceRef\":{\"Source\":\"_\"}},\"Property\":\"epi_curve_text_avg_color\"},\"Name\":\"_measures.epi_curve_text_avg_color\"},{\"Measure\":{\"Expression\":{\"SourceRef\":{\"Source\":\"_1\"}},\"Property\":\"epi_curve_title\"},\"Name\":\"_titles.epi_curve_title\"}],\"Where\":[{\"Condition\":{\"In\":{\"Expressions\":[{\"Column\":{\"Expression\":{\"SourceRef\":{\"Source\":\"p\"}},\"Property\":\"Fields\"}}],\"Values\":[[{\"Literal\":{\"Value\":\"'''Dates''[week_start_dt]'\"}}]]}}}]},\"Binding\":{\"Primary\":{\"Groupings\":[{\"Projections\":[0,1,2,3,4,5],\"Subtotal\":1}]},\"Projections\":[6],\"DataReduction\":{\"DataVolume\":3,\"Primary\":{\"Window\":{\"Count\":500}}},\"SuppressedJoinPredicates\":[4,5],\"Version\":1},\"ExecutionMetricsKind\":1}}]},\"CacheKey\":\"{\\\"Commands\\\":[{\\\"SemanticQueryDataShapeCommand\\\":{\\\"Query\\\":{\\\"Version\\\":2,\\\"From\\\":[{\\\"Name\\\":\\\"_\\\",\\\"Entity\\\":\\\"_measures\\\",\\\"Type\\\":0},{\\\"Name\\\":\\\"r\\\",\\\"Entity\\\":\\\"RollingAvgs\\\",\\\"Type\\\":0},{\\\"Name\\\":\\\"d\\\",\\\"Entity\\\":\\\"Dates\\\",\\\"Type\\\":0},{\\\"Name\\\":\\\"_1\\\",\\\"Entity\\\":\\\"_titles\\\",\\\"Type\\\":0},{\\\"Name\\\":\\\"p\\\",\\\"Entity\\\":\\\"Param - MWD\\\",\\\"Type\\\":0}],\\\"Select\\\":[{\\\"Measure\\\":{\\\"Expression\\\":{\\\"SourceRef\\\":{\\\"Source\\\":\\\"_\\\"}},\\\"Property\\\":\\\"n\\\"},\\\"Name\\\":\\\"_measures.n\\\",\\\"NativeReferenceName\\\":\\\"Case Count\\\"},{\\\"Measure\\\":{\\\"Expression\\\":{\\\"SourceRef\\\":{\\\"Source\\\":\\\"_\\\"}},\\\"Property\\\":\\\"epi_curve_note\\\"},\\\"Name\\\":\\\"_measures.epi_curve_note\\\",\\\"NativeReferenceName\\\":\\\"Note\\\"},{\\\"Measure\\\":{\\\"Expression\\\":{\\\"SourceRef\\\":{\\\"Source\\\":\\\"r\\\"}},\\\"Property\\\":\\\"rollingavg_table\\\"},\\\"Name\\\":\\\"RollingAvgs.rollingavg_table\\\",\\\"NativeReferenceName\\\":\\\"7-Day Average\\\"},{\\\"Column\\\":{\\\"Expression\\\":{\\\"SourceRef\\\":{\\\"Source\\\":\\\"d\\\"}},\\\"Property\\\":\\\"week_start_dt\\\"},\\\"Name\\\":\\\"Dates.week_start_dt\\\",\\\"NativeReferenceName\\\":\\\"Episode Week\\\"},{\\\"Measure\\\":{\\\"Expression\\\":{\\\"SourceRef\\\":{\\\"Source\\\":\\\"_\\\"}},\\\"Property\\\":\\\"epi_curve_text_color\\\"},\\\"Name\\\":\\\"_measures.epi_curve_text_color\\\"},{\\\"Measure\\\":{\\\"Expression\\\":{\\\"SourceRef\\\":{\\\"Source\\\":\\\"_\\\"}},\\\"Property\\\":\\\"epi_curve_text_avg_color\\\"},\\\"Name\\\":\\\"_measures.epi_curve_text_avg_color\\\"},{\\\"Measure\\\":{\\\"Expression\\\":{\\\"SourceRef\\\":{\\\"Source\\\":\\\"_1\\\"}},\\\"Property\\\":\\\"epi_curve_title\\\"},\\\"Name\\\":\\\"_titles.epi_curve_title\\\"}],\\\"Where\\\":[{\\\"Condition\\\":{\\\"In\\\":{\\\"Expressions\\\":[{\\\"Column\\\":{\\\"Expression\\\":{\\\"SourceRef\\\":{\\\"Source\\\":\\\"p\\\"}},\\\"Property\\\":\\\"Fields\\\"}}],\\\"Values\\\":[[{\\\"Literal\\\":{\\\"Value\\\":\\\"'''Dates''[week_start_dt]'\\\"}}]]}}}]},\\\"Binding\\\":{\\\"Primary\\\":{\\\"Groupings\\\":[{\\\"Projections\\\":[0,1,2,3,4,5],\\\"Subtotal\\\":1}]},\\\"Projections\\\":[6],\\\"DataReduction\\\":{\\\"DataVolume\\\":3,\\\"Primary\\\":{\\\"Window\\\":{\\\"Count\\\":500}}},\\\"SuppressedJoinPredicates\\\":[4,5],\\\"Version\\\":1},\\\"ExecutionMetricsKind\\\":1}}]}\",\"QueryId\":\"\",\"ApplicationContext\":{\"DatasetId\":\"ef8eaa57-8505-48f9-98db-97efa77f32b3\",\"Sources\":[{\"ReportId\":\"b2460244-f012-444e-9c95-81d48968da32\",\"VisualId\":\"11bd57ce0058a8dc517c\"}]}}],\"cancelQueries\":[],\"modelId\":797078}"
   ],
   "id": "707ffb252a4927b1",
   "outputs": [],
   "execution_count": 1
  },
  {
   "metadata": {
    "ExecuteTime": {
     "end_time": "2025-06-30T23:55:15.663517Z",
     "start_time": "2025-06-30T23:55:15.374951Z"
    }
   },
   "cell_type": "code",
   "source": [
    "response = requests.post(\n",
    "    \"https://wabi-us-gov-iowa-api.analysis.usgovcloudapi.net/public/reports/querydata?synchronous=true\",\n",
    "    headers=headers,\n",
    "    json=payload\n",
    ")\n",
    "data = response.json()"
   ],
   "id": "e8db933c148e078f",
   "outputs": [],
   "execution_count": 2
  },
  {
   "metadata": {
    "ExecuteTime": {
     "end_time": "2025-06-30T23:55:20.012973Z",
     "start_time": "2025-06-30T23:55:19.997104Z"
    }
   },
   "cell_type": "code",
   "source": [
    "rows = (\n",
    "    data[\"results\"][0][\"result\"][\"data\"][\"dsr\"][\"DS\"][0][\"PH\"][1][\"DM1\"]\n",
    ")\n",
    "\n",
    "# Extract records\n",
    "records = []\n",
    "for row in rows:\n",
    "    cols = row[\"C\"]\n",
    "    # Some rows might have only a date or a note at the end\n",
    "    if len(cols) >= 2:\n",
    "        ts = cols[0]\n",
    "        count = cols[1]\n",
    "        # Convert the ms timestamp to date\n",
    "        date = datetime.utcfromtimestamp(ts / 1000).date()\n",
    "        records.append({\"week_start_date\": date, \"cases\": count})\n",
    "    elif len(cols) == 1 and isinstance(cols[0], int):\n",
    "        # Only date, count is missing\n",
    "        date = datetime.utcfromtimestamp(cols[0] / 1000).date()\n",
    "        records.append({\"week_start_date\": date, \"cases\": None})\n",
    "\n",
    "# Save to CSV\n",
    "df = pd.DataFrame(records)\n",
    "df.to_csv(\"mpox_cases_by_week.csv\", index=False)\n",
    "print(df.head())"
   ],
   "id": "a9b044cdda8fe51d",
   "outputs": [
    {
     "name": "stdout",
     "output_type": "stream",
     "text": [
      "  week_start_date  cases\n",
      "0      2022-05-15    1.0\n",
      "1      2022-05-22    0.0\n",
      "2      2022-05-29    4.0\n",
      "3      2022-06-05    8.0\n",
      "4      2022-06-12   18.0\n"
     ]
    },
    {
     "name": "stderr",
     "output_type": "stream",
     "text": [
      "/var/folders/t2/t39bprkn16dg9nr4v6c18v0w0000gn/T/ipykernel_46116/916753629.py:14: DeprecationWarning: datetime.datetime.utcfromtimestamp() is deprecated and scheduled for removal in a future version. Use timezone-aware objects to represent datetimes in UTC: datetime.datetime.fromtimestamp(timestamp, datetime.UTC).\n",
      "  date = datetime.utcfromtimestamp(ts / 1000).date()\n",
      "/var/folders/t2/t39bprkn16dg9nr4v6c18v0w0000gn/T/ipykernel_46116/916753629.py:18: DeprecationWarning: datetime.datetime.utcfromtimestamp() is deprecated and scheduled for removal in a future version. Use timezone-aware objects to represent datetimes in UTC: datetime.datetime.fromtimestamp(timestamp, datetime.UTC).\n",
      "  date = datetime.utcfromtimestamp(cols[0] / 1000).date()\n"
     ]
    }
   ],
   "execution_count": 3
  }
 ],
 "metadata": {
  "kernelspec": {
   "display_name": "Python 3",
   "language": "python",
   "name": "python3"
  },
  "language_info": {
   "codemirror_mode": {
    "name": "ipython",
    "version": 2
   },
   "file_extension": ".py",
   "mimetype": "text/x-python",
   "name": "python",
   "nbconvert_exporter": "python",
   "pygments_lexer": "ipython2",
   "version": "2.7.6"
  }
 },
 "nbformat": 4,
 "nbformat_minor": 5
}
