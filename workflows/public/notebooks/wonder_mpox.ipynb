{
 "cells": [
  {
   "cell_type": "code",
   "execution_count": null,
   "id": "initial_id",
   "metadata": {
    "collapsed": true
   },
   "outputs": [],
   "source": [
    "import pandas as pd\n",
    "\n",
    "\n"
   ]
  },
  {
   "metadata": {},
   "cell_type": "code",
   "outputs": [],
   "execution_count": null,
   "source": [
    "disease_list = [\n",
    "    {\"disease\": \"MPOX\",\n",
    "     \"wonder_table\": \"968\",\n",
    "     \"startyear\":\"2024\", },\n",
    "     {\"disease\": \"Plague\",\n",
    "     \"wonder_table\": \"1000\",\n",
    "     \"startyear\":\"2024\", },\n",
    "    {\"disease\": \"Plague\",\n",
    "     \"wonder_table\": \"1j\",\n",
    "     \"startyear\":\"2019\", },\n",
    "     {\"disease\": \"Plague_old\",\n",
    "     \"wonder_table\": \"1j\",\n",
    "     \"startyear\":\"2010\",\n",
    "      \"endyear\":\"2016\" },\n",
    "         {\"disease\": \"dengue_old\",\n",
    "     \"wonder_table\": \"2B\",\n",
    "     \"startyear\":\"2010\",\n",
    "      \"endyear\":\"2011\" }\n",
    "]"
   ],
   "id": "196a9ec17e13c60e"
  },
  {
   "metadata": {},
   "cell_type": "markdown",
   "source": [
    "wonder url:\n",
    "https://wonder.cdc.gov/nndss/nndss_reps.asp?mmwr_year=2013&mmwr_week=38&mmwr_table=2B&request=Export\n",
    "\n",
    "https://wonder.cdc.gov/nndss/nndss_reps.asp?mmwr_year=2016&mmwr_week=38&mmwr_table=2B&request=Export\n",
    "https://wonder.cdc.gov/nndss/nndss_reps.asp?mmwr_year=2010&mmwr_week=38&mmwr_table=2B&request=Export"
   ],
   "id": "94687f041b88563d"
  }
 ],
 "metadata": {
  "kernelspec": {
   "display_name": "Python 3",
   "language": "python",
   "name": "python3"
  },
  "language_info": {
   "codemirror_mode": {
    "name": "ipython",
    "version": 2
   },
   "file_extension": ".py",
   "mimetype": "text/x-python",
   "name": "python",
   "nbconvert_exporter": "python",
   "pygments_lexer": "ipython2",
   "version": "2.7.6"
  }
 },
 "nbformat": 4,
 "nbformat_minor": 5
}
