{
 "cells": [
  {
   "cell_type": "code",
   "id": "initial_id",
   "metadata": {
    "collapsed": true,
    "ExecuteTime": {
     "end_time": "2025-05-16T19:31:08.829792Z",
     "start_time": "2025-05-16T19:31:06.798245Z"
    }
   },
   "source": "!pip install zeep requests lxml suds-py3 icecream",
   "outputs": [
    {
     "name": "stdout",
     "output_type": "stream",
     "text": [
      "Requirement already satisfied: zeep in /Users/valentin/development/dev_earthcube/infrastructuredashboard/.venv/lib/python3.12/site-packages (4.3.1)\r\n",
      "Requirement already satisfied: requests in /Users/valentin/development/dev_earthcube/infrastructuredashboard/.venv/lib/python3.12/site-packages (2.32.3)\r\n",
      "Requirement already satisfied: lxml in /Users/valentin/development/dev_earthcube/infrastructuredashboard/.venv/lib/python3.12/site-packages (5.3.0)\r\n",
      "Requirement already satisfied: suds-py3 in /Users/valentin/development/dev_earthcube/infrastructuredashboard/.venv/lib/python3.12/site-packages (1.4.5.0)\r\n",
      "Requirement already satisfied: icecream in /Users/valentin/development/dev_earthcube/infrastructuredashboard/.venv/lib/python3.12/site-packages (2.1.4)\r\n",
      "Requirement already satisfied: attrs>=17.2.0 in /Users/valentin/development/dev_earthcube/infrastructuredashboard/.venv/lib/python3.12/site-packages (from zeep) (24.2.0)\r\n",
      "Requirement already satisfied: isodate>=0.5.4 in /Users/valentin/development/dev_earthcube/infrastructuredashboard/.venv/lib/python3.12/site-packages (from zeep) (0.6.1)\r\n",
      "Requirement already satisfied: platformdirs>=1.4.0 in /Users/valentin/development/dev_earthcube/infrastructuredashboard/.venv/lib/python3.12/site-packages (from zeep) (4.3.8)\r\n",
      "Requirement already satisfied: requests-toolbelt>=0.7.1 in /Users/valentin/development/dev_earthcube/infrastructuredashboard/.venv/lib/python3.12/site-packages (from zeep) (1.0.0)\r\n",
      "Requirement already satisfied: requests-file>=1.5.1 in /Users/valentin/development/dev_earthcube/infrastructuredashboard/.venv/lib/python3.12/site-packages (from zeep) (2.1.0)\r\n",
      "Requirement already satisfied: pytz in /Users/valentin/development/dev_earthcube/infrastructuredashboard/.venv/lib/python3.12/site-packages (from zeep) (2024.1)\r\n",
      "Requirement already satisfied: charset-normalizer<4,>=2 in /Users/valentin/development/dev_earthcube/infrastructuredashboard/.venv/lib/python3.12/site-packages (from requests) (3.3.2)\r\n",
      "Requirement already satisfied: idna<4,>=2.5 in /Users/valentin/development/dev_earthcube/infrastructuredashboard/.venv/lib/python3.12/site-packages (from requests) (3.7)\r\n",
      "Requirement already satisfied: urllib3<3,>=1.21.1 in /Users/valentin/development/dev_earthcube/infrastructuredashboard/.venv/lib/python3.12/site-packages (from requests) (2.2.2)\r\n",
      "Requirement already satisfied: certifi>=2017.4.17 in /Users/valentin/development/dev_earthcube/infrastructuredashboard/.venv/lib/python3.12/site-packages (from requests) (2024.7.4)\r\n",
      "Requirement already satisfied: colorama>=0.3.9 in /Users/valentin/development/dev_earthcube/infrastructuredashboard/.venv/lib/python3.12/site-packages (from icecream) (0.4.6)\r\n",
      "Requirement already satisfied: pygments>=2.2.0 in /Users/valentin/development/dev_earthcube/infrastructuredashboard/.venv/lib/python3.12/site-packages (from icecream) (2.18.0)\r\n",
      "Requirement already satisfied: executing>=2.1.0 in /Users/valentin/development/dev_earthcube/infrastructuredashboard/.venv/lib/python3.12/site-packages (from icecream) (2.2.0)\r\n",
      "Requirement already satisfied: asttokens>=2.0.1 in /Users/valentin/development/dev_earthcube/infrastructuredashboard/.venv/lib/python3.12/site-packages (from icecream) (3.0.0)\r\n",
      "Requirement already satisfied: six in /Users/valentin/development/dev_earthcube/infrastructuredashboard/.venv/lib/python3.12/site-packages (from isodate>=0.5.4->zeep) (1.16.0)\r\n",
      "\r\n",
      "\u001B[1m[\u001B[0m\u001B[34;49mnotice\u001B[0m\u001B[1;39;49m]\u001B[0m\u001B[39;49m A new release of pip is available: \u001B[0m\u001B[31;49m23.2.1\u001B[0m\u001B[39;49m -> \u001B[0m\u001B[32;49m25.1.1\u001B[0m\r\n",
      "\u001B[1m[\u001B[0m\u001B[34;49mnotice\u001B[0m\u001B[1;39;49m]\u001B[0m\u001B[39;49m To update, run: \u001B[0m\u001B[32;49mpip install --upgrade pip\u001B[0m\r\n"
     ]
    }
   ],
   "execution_count": 2
  },
  {
   "metadata": {},
   "cell_type": "markdown",
   "source": [
    "### Importing Libraries\n",
    "This cell imports the necessary libraries for interacting with the SOAP web service, parsing XML, and debugging.\n",
    "- `zeep`: A modern SOAP client for Python.\n",
    "- `requests`: Used by `zeep` for making HTTP requests.\n",
    "- `xml.etree.ElementTree`: For parsing XML responses.\n",
    "- `suds-py3`: An alternative SOAP client for Python 3.\n",
    "- `icecream`: For easy debugging print statements."
   ],
   "id": "b917353231f8e828"
  },
  {
   "metadata": {
    "ExecuteTime": {
     "end_time": "2025-05-16T19:31:17.604341Z",
     "start_time": "2025-05-16T19:31:17.305432Z"
    }
   },
   "cell_type": "code",
   "source": [
    "from zeep import Client\n",
    "from zeep.transports import Transport\n",
    "from requests import Session\n",
    "from requests.auth import HTTPBasicAuth\n",
    "import xml.etree.ElementTree as ET\n",
    "from suds.client import Client as SudsClient\n",
    "from icecream import ic\n",
    "import os\n",
    "import logging\n",
    "\n",
    "# Configure logging for"
   ],
   "id": "f064145a9a5b70d4",
   "outputs": [],
   "execution_count": 3
  },
  {
   "metadata": {
    "ExecuteTime": {
     "end_time": "2025-05-16T19:31:50.099117Z",
     "start_time": "2025-05-16T19:31:50.096316Z"
    }
   },
   "cell_type": "code",
   "source": [
    "def create_soap_client(wsdl_url):\n",
    "    \"\"\"Creates a Zeep SOAP client with custom settings.\"\"\"\n",
    "    session = Session()\n",
    "    # Optional: Add basic authentication if required\n",
    "    # session.auth = HTTPBasicAuth('user', 'password')\n",
    "\n",
    "    transport = Transport(session=session)\n",
    "    client = Client(wsdl_url, transport=transport)\n",
    "    return client\n"
   ],
   "id": "db3853b4ca347a9",
   "outputs": [],
   "execution_count": 5
  },
  {
   "metadata": {},
   "cell_type": "markdown",
   "source": [
    "### Find Station Code (Zeep)\n",
    "This function finds the station"
   ],
   "id": "1801ef6e41684c3"
  },
  {
   "metadata": {
    "ExecuteTime": {
     "end_time": "2025-05-16T19:32:30.685815Z",
     "start_time": "2025-05-16T19:32:30.682792Z"
    }
   },
   "cell_type": "code",
   "source": [
    "def find_station_code(client, station_name):\n",
    "    \"\"\"Finds the station code for a given station name.\"\"\"\n",
    "    try:\n",
    "        result = client.service.exportStationCodesXML()\n",
    "        root = ET.fromstring(result)\n",
    "        for station in root.findall('.//station'):\n",
    "            name = station.find('stationname').text\n",
    "            code = station.find('stationcode').text\n",
    "            if name == station_name:\n",
    "                return code\n",
    "        return None\n",
    "    except Exception as e:\n",
    "        ic(f\"Error finding station code: {e}\")\n",
    "        return None\n"
   ],
   "id": "90aa151a567a460b",
   "outputs": [],
   "execution_count": 7
  },
  {
   "metadata": {},
   "cell_type": "markdown",
   "source": [
    "### Export All Parameters (Zeep)\n",
    "This function exports all parameters for a given station code by calling the `exportAllParamsXML"
   ],
   "id": "81373d5dd5988f78"
  },
  {
   "metadata": {
    "ExecuteTime": {
     "end_time": "2025-05-16T19:32:37.446740Z",
     "start_time": "2025-05-16T19:32:37.443650Z"
    }
   },
   "cell_type": "code",
   "source": [
    "def export_all_params(client, station_code):\n",
    "    \"\"\"Exports all parameters for a given station code.\"\"\"\n",
    "    try:\n",
    "        result = client.service.exportAllParamsXML(station_code)\n",
    "        return result\n",
    "    except Exception as e:\n",
    "        ic(f\"Error exporting parameters: {e}\")\n",
    "        return None\n"
   ],
   "id": "c462153ee2db9579",
   "outputs": [
    {
     "ename": "SyntaxError",
     "evalue": "expected ':' (2839230251.py, line 6)",
     "output_type": "error",
     "traceback": [
      "  \u001B[36mCell\u001B[39m\u001B[36m \u001B[39m\u001B[32mIn[8]\u001B[39m\u001B[32m, line 6\u001B[39m\n\u001B[31m    \u001B[39m\u001B[31mexcept Exception as e\u001B[39m\n                         ^\n\u001B[31mSyntaxError\u001B[39m\u001B[31m:\u001B[39m expected ':'\n"
     ]
    }
   ],
   "execution_count": 8
  },
  {
   "metadata": {},
   "cell_type": "markdown",
   "source": [
    "### Main Execution (Zeep)\n",
    "This section defines the WSDL URL, creates the Zeep SOAP client, finds the station code for \"Tijuana\", exports its parameters, and prints the results. Error"
   ],
   "id": "e052d8938793f63f"
  },
  {
   "metadata": {
    "ExecuteTime": {
     "end_time": "2025-05-16T19:33:21.579893Z",
     "start_time": "2025-05-16T19:33:21.074960Z"
    }
   },
   "cell_type": "code",
   "source": [
    "# Define the WSDL URL\n",
    "wsdl_url = 'https://cdmo.baruch.sc.edu/webservices2/requests.cfc?wsdl'\n",
    "station_to_find = \"Tijuana\"\n",
    "\n",
    "# Create the SOAP client\n",
    "zeep_client = create_soap_client(wsdl_url)\n",
    "\n",
    "if zeep_client:\n",
    "    ic(f\"Zeep client created successfully for WSDL: {wsdl_url}\")\n",
    "\n",
    "    # Find the station code for \"Tijuana\"\n",
    "    tijuana_code = find_station_code(zeep_client, station_to_find)\n",
    "\n",
    "    if tijuana_code:\n",
    "        ic(f\"Station code for {station_to_find}: {tijuana_code}\")\n",
    "\n",
    "        # Export all parameters for the station\n",
    "        station_params_xml = export_all_params(zeep_client, tijuana_code)\n",
    "\n",
    "        if station_params_xml:\n",
    "            ic(f\"Parameters for {station_to_find} (XML):\")\n",
    "            print(station_params_xml)\n",
    "        else:\n",
    "            ic(f\"Could not retrieve parameters for {station_to_find}.\")\n",
    "    else:\n",
    "        ic(f\"Could not find station code for {station_to_find}.\")\n"
   ],
   "id": "f25824f2824aaf60",
   "outputs": [
    {
     "name": "stderr",
     "output_type": "stream",
     "text": [
      "/Users/valentin/development/dev_earthcube/infrastructuredashboard/.venv/lib/python3.12/site-packages/zeep/wsdl/wsdl.py:346: UserWarning: The wsdl:message for '{http://webservices2}exportSingleParamXMLResponse' contains an invalid part ('exportSingleParamXMLReturn'): invalid xsd type or elements\n",
      "  warnings.warn(str(exc))\n",
      "/Users/valentin/development/dev_earthcube/infrastructuredashboard/.venv/lib/python3.12/site-packages/zeep/wsdl/wsdl.py:346: UserWarning: The wsdl:message for '{http://webservices2}exportAllParamsDateRangeXMLNewResponse' contains an invalid part ('exportAllParamsDateRangeXMLNewReturn'): invalid xsd type or elements\n",
      "  warnings.warn(str(exc))\n",
      "/Users/valentin/development/dev_earthcube/infrastructuredashboard/.venv/lib/python3.12/site-packages/zeep/wsdl/wsdl.py:346: UserWarning: The wsdl:message for '{http://webservices2}exportAllParamsDateRangeXMLResponse' contains an invalid part ('exportAllParamsDateRangeXMLReturn'): invalid xsd type or elements\n",
      "  warnings.warn(str(exc))\n",
      "/Users/valentin/development/dev_earthcube/infrastructuredashboard/.venv/lib/python3.12/site-packages/zeep/wsdl/wsdl.py:346: UserWarning: The wsdl:message for '{http://webservices2}NERRFilterStationCodesXMLResponse' contains an invalid part ('NERRFilterStationCodesXMLReturn'): invalid xsd type or elements\n",
      "  warnings.warn(str(exc))\n",
      "/Users/valentin/development/dev_earthcube/infrastructuredashboard/.venv/lib/python3.12/site-packages/zeep/wsdl/wsdl.py:346: UserWarning: The wsdl:message for '{http://webservices2}exportStationCodesXMLNewResponse' contains an invalid part ('exportStationCodesXMLNewReturn'): invalid xsd type or elements\n",
      "  warnings.warn(str(exc))\n",
      "/Users/valentin/development/dev_earthcube/infrastructuredashboard/.venv/lib/python3.12/site-packages/zeep/wsdl/wsdl.py:346: UserWarning: The wsdl:message for '{http://webservices2}NERRFilterStationCodesXMLNewResponse' contains an invalid part ('NERRFilterStationCodesXMLNewReturn'): invalid xsd type or elements\n",
      "  warnings.warn(str(exc))\n",
      "/Users/valentin/development/dev_earthcube/infrastructuredashboard/.venv/lib/python3.12/site-packages/zeep/wsdl/wsdl.py:346: UserWarning: The wsdl:message for '{http://webservices2}exportStationCodesXMLResponse' contains an invalid part ('exportStationCodesXMLReturn'): invalid xsd type or elements\n",
      "  warnings.warn(str(exc))\n",
      "/Users/valentin/development/dev_earthcube/infrastructuredashboard/.venv/lib/python3.12/site-packages/zeep/wsdl/wsdl.py:346: UserWarning: The wsdl:message for '{http://webservices2}exportAllParamsXMLNewResponse' contains an invalid part ('exportAllParamsXMLNewReturn'): invalid xsd type or elements\n",
      "  warnings.warn(str(exc))\n",
      "/Users/valentin/development/dev_earthcube/infrastructuredashboard/.venv/lib/python3.12/site-packages/zeep/wsdl/wsdl.py:346: UserWarning: The wsdl:message for '{http://webservices2}exportSingleParamXMLNewResponse' contains an invalid part ('exportSingleParamXMLNewReturn'): invalid xsd type or elements\n",
      "  warnings.warn(str(exc))\n",
      "/Users/valentin/development/dev_earthcube/infrastructuredashboard/.venv/lib/python3.12/site-packages/zeep/wsdl/wsdl.py:346: UserWarning: The wsdl:message for '{http://webservices2}exportAllParamsXMLResponse' contains an invalid part ('exportAllParamsXMLReturn'): invalid xsd type or elements\n",
      "  warnings.warn(str(exc))\n",
      "/Users/valentin/development/dev_earthcube/infrastructuredashboard/.venv/lib/python3.12/site-packages/zeep/wsdl/definitions.py:147: UserWarning: The wsdl:operation 'exportAllParamsXML' was not found in the wsdl:portType '{http://webservices2}Requests'\n",
      "  warnings.warn(str(exc))\n",
      "/Users/valentin/development/dev_earthcube/infrastructuredashboard/.venv/lib/python3.12/site-packages/zeep/wsdl/definitions.py:147: UserWarning: The wsdl:operation 'exportAllParamsDateRangeXMLNew' was not found in the wsdl:portType '{http://webservices2}Requests'\n",
      "  warnings.warn(str(exc))\n",
      "/Users/valentin/development/dev_earthcube/infrastructuredashboard/.venv/lib/python3.12/site-packages/zeep/wsdl/definitions.py:147: UserWarning: The wsdl:operation 'NERRFilterStationCodesXML' was not found in the wsdl:portType '{http://webservices2}Requests'\n",
      "  warnings.warn(str(exc))\n",
      "/Users/valentin/development/dev_earthcube/infrastructuredashboard/.venv/lib/python3.12/site-packages/zeep/wsdl/definitions.py:147: UserWarning: The wsdl:operation 'exportStationCodesXML' was not found in the wsdl:portType '{http://webservices2}Requests'\n",
      "  warnings.warn(str(exc))\n",
      "/Users/valentin/development/dev_earthcube/infrastructuredashboard/.venv/lib/python3.12/site-packages/zeep/wsdl/definitions.py:147: UserWarning: The wsdl:operation 'exportAllParamsXMLNew' was not found in the wsdl:portType '{http://webservices2}Requests'\n",
      "  warnings.warn(str(exc))\n",
      "/Users/valentin/development/dev_earthcube/infrastructuredashboard/.venv/lib/python3.12/site-packages/zeep/wsdl/definitions.py:147: UserWarning: The wsdl:operation 'exportStationCodesXMLNew' was not found in the wsdl:portType '{http://webservices2}Requests'\n",
      "  warnings.warn(str(exc))\n",
      "/Users/valentin/development/dev_earthcube/infrastructuredashboard/.venv/lib/python3.12/site-packages/zeep/wsdl/definitions.py:147: UserWarning: The wsdl:operation 'exportSingleParamXMLNew' was not found in the wsdl:portType '{http://webservices2}Requests'\n",
      "  warnings.warn(str(exc))\n",
      "/Users/valentin/development/dev_earthcube/infrastructuredashboard/.venv/lib/python3.12/site-packages/zeep/wsdl/definitions.py:147: UserWarning: The wsdl:operation 'NERRFilterStationCodesXMLNew' was not found in the wsdl:portType '{http://webservices2}Requests'\n",
      "  warnings.warn(str(exc))\n",
      "/Users/valentin/development/dev_earthcube/infrastructuredashboard/.venv/lib/python3.12/site-packages/zeep/wsdl/definitions.py:147: UserWarning: The wsdl:operation 'exportSingleParamXML' was not found in the wsdl:portType '{http://webservices2}Requests'\n",
      "  warnings.warn(str(exc))\n",
      "/Users/valentin/development/dev_earthcube/infrastructuredashboard/.venv/lib/python3.12/site-packages/zeep/wsdl/definitions.py:147: UserWarning: The wsdl:operation 'exportAllParamsDateRangeXML' was not found in the wsdl:portType '{http://webservices2}Requests'\n",
      "  warnings.warn(str(exc))\n",
      "ic| f\"Zeep client created successfully for WSDL: {wsdl_url}\": ('Zeep client created successfully for WSDL: '\n",
      "                                                               'https://cdmo.baruch.sc.edu/webservices2/requests.cfc?wsdl')\n",
      "ic| f\"Error finding station code: {e}\": \"Error finding station code: Service has no operation 'exportStationCodesXML'\"\n",
      "ic| f\"Could not find station code for {station_to_find}.\": 'Could not find station code for Tijuana.'\n"
     ]
    }
   ],
   "execution_count": 10
  },
  {
   "metadata": {},
   "cell_type": "markdown",
   "source": [
    "### Suds-py3 Client Demonstration\n",
    "This section demonstrates the use of the `suds-py3` client. It initializes the"
   ],
   "id": "5f74024c83d5a38f"
  },
  {
   "metadata": {},
   "cell_type": "markdown",
   "source": [
    "Let me help you handle the missing namespace issue in SOAP requests. I'll add code to demonstrate namespace handling and error mitigation.\n",
    "\n"
   ],
   "id": "519182f70aba58be"
  },
  {
   "metadata": {},
   "cell_type": "markdown",
   "source": [
    "### Handling Missing XML-SOAP Namespace\n",
    "When dealing with SOAP services that require the \"http://xml.apache.org/xml-soap\" namespace, we can use custom namespace bindings and transport settings to handle this issue."
   ],
   "id": "7a2fc906d40c5ffd"
  },
  {
   "metadata": {},
   "cell_type": "code",
   "outputs": [],
   "execution_count": null,
   "source": [
    "from zeep.plugins import HistoryPlugin\n",
    "from zeep.xsd.const import XML_NS\n",
    "from zeep.exceptions import Fault\n",
    "from zeep.wsse.username import UsernameToken\n",
    "\n",
    "# Create a history plugin to track SOAP messages\n",
    "history = HistoryPlugin()\n",
    "\n",
    "\n",
    "# Custom transport with namespace handling\n",
    "def create_soap_client_with_namespaces(wsdl_url):\n",
    "    session = Session()\n",
    "    transport = Transport(session=session)\n",
    "\n",
    "    # Define additional namespaces\n",
    "    settings = {\n",
    "        'xsd': 'http://www.w3.org/2001/XMLSchema',\n",
    "        'soap': 'http://schemas.xmlsoap.org/soap/envelope/',\n",
    "        'xml-soap': 'http://xml.apache.org/xml-soap'\n",
    "    }\n",
    "\n",
    "    # Create client with custom settings\n",
    "    client = Client(\n",
    "        wsdl_url,\n",
    "        transport=transport,\n",
    "        plugins=[history],\n",
    "        strict=False,\n",
    "        xml_huge_tree=True\n",
    "    )\n",
    "\n",
    "    # Add namespaces to the client's context\n",
    "    client.transport.session.headers['Content-Type'] = 'text/xml;charset=UTF-8'\n",
    "\n",
    "    return client, history"
   ],
   "id": "bbacf2ccd6b818c7"
  },
  {
   "metadata": {},
   "cell_type": "code",
   "outputs": [],
   "execution_count": null,
   "source": [
    "# Test the client with namespace handling\n",
    "try:\n",
    "    enhanced_client, history = create_soap_client_with_namespaces(wsdl_url)\n",
    "\n",
    "    # Make a test call\n",
    "    result = enhanced_client.service.exportStationCodesXML()\n",
    "\n",
    "    # Print the last sent envelope for debugging\n",
    "    last_sent = history.last_sent\n",
    "    if last_sent:\n",
    "        print(\"Last sent SOAP envelope:\")\n",
    "        print(last_sent['envelope'])\n",
    "\n",
    "except Fault as e:\n",
    "    ic(f\"SOAP Fault: {e}\")\n",
    "except Exception as e:\n",
    "    ic(f\"Error: {e}\")"
   ],
   "id": "a32eca542ec9fbe2"
  },
  {
   "metadata": {},
   "cell_type": "markdown",
   "source": [
    "### Error Handling Tips\n",
    "If you still encounter namespace issues:\n",
    "1. The code above adds explicit namespace bindings\n",
    "2. Sets strict mode to False for more lenient XML parsing\n",
    "3. Includes debugging with HistoryPlugin to inspect SOAP messages\n",
    "4. Uses enhanced transport settings with proper content type headers\n"
   ],
   "id": "765764f92bd54fcf"
  },
  {
   "metadata": {
    "ExecuteTime": {
     "end_time": "2025-05-16T19:47:47.323952Z",
     "start_time": "2025-05-16T19:47:46.970756Z"
    }
   },
   "cell_type": "code",
   "source": [
    "# Using suds-py3 client with xml-soap namespace\n",
    "try:\n",
    "    # Create Suds client with custom namespace\n",
    "    from suds.xsd.doctor import Import, ImportDoctor\n",
    "    try:\n",
    "        # Define the missing namespace and its location (if you have a local copy or alternative source)\n",
    "        missing_namespace = \"http://xml.apache.org/xml-soap\"\n",
    "        # If you have a local copy of the schema, provide the path:\n",
    "        # location = \"file:///path/to/local/apache-soap.xsd\"\n",
    "        # If there's no direct replacement, you might just need to tell SUDS to ignore or handle it loosely:\n",
    "        location = None # Or a dummy location if needed\n",
    "\n",
    "        # Create an Import object\n",
    "        imp = Import(missing_namespace, location)\n",
    "        doctor = ImportDoctor(imp)\n",
    "    except Exception as e:\n",
    "        print('Error creating Import object:', e)\n",
    "\n",
    "\n",
    "    # Create an ImportDoctor and register the import\n",
    "\n",
    "\n",
    "    suds_client = SudsClient(wsdl_url, doctor=doctor)\n",
    "    suds_client.options.transport.options.timeout = 300\n",
    "\n",
    "\n",
    "\n",
    "    ic(\"Suds-py3 client created successfully.\")\n",
    "\n",
    "    ic(\"Available Suds-py3 methods:\")\n",
    "    print(suds_client)\n",
    "\n",
    "    # Call a sample method using suds-py3\n",
    "    suds_result = suds_client.service.exportStationCodesXML()\n",
    "    ic(\"Result from suds-py3 exportStationCodesXML\")\n",
    "    ic(suds_result)\n",
    "except Exception as e:\n",
    "    ic(f\"Error using Suds-py3 client: {e}\")\n"
   ],
   "id": "151a6f3738725439",
   "outputs": [
    {
     "name": "stderr",
     "output_type": "stream",
     "text": [
      "ic| 'Suds-py3 client created successfully.'\n",
      "ic| 'Available Suds-py3 methods:'\n"
     ]
    },
    {
     "name": "stdout",
     "output_type": "stream",
     "text": [
      "\n",
      "Suds ( https://github.com/cackharot/suds-py3 )  version: 1.4.5.0 IN  build: 20211115\n",
      "\n",
      "Service ( RequestsService ) tns=\"http://webservices2\"\n",
      "   Prefixes (2)\n",
      "      ns0 = \"http://rpc.xml.coldfusion\"\n",
      "      ns1 = \"http://schemas.xmlsoap.org/soap/encoding/\"\n",
      "   Ports (1):\n",
      "      (requests.cfc)\n",
      "         Methods (11):\n",
      "            NERRFilterStationCodesXML(xs:string NERRFilter, )\n",
      "            NERRFilterStationCodesXMLNew(xs:string NERRFilter, )\n",
      "            exportAllParamsDateRangeXML(xs:string Station_Code, xs:string minDate, xs:string maxDate, xs:string param, )\n",
      "            exportAllParamsDateRangeXMLNew(xs:string Station_Code, xs:string minDate, xs:string maxDate, xs:string param, xs:string wildcard, )\n",
      "            exportAllParamsXML(xs:string Station_Code, xs:string recs, )\n",
      "            exportAllParamsXMLNew(xs:string Station_Code, xs:string recs, xs:string wildcard, )\n",
      "            exportSingleParamXML(xs:string Station_Code, xs:string recs, xs:string param, )\n",
      "            exportSingleParamXMLNew(xs:string Station_Code, xs:string recs, xs:string param, xs:string wildcard, )\n",
      "            exportStationCodesXML()\n",
      "            exportStationCodesXMLNew(xs:string wildcard, )\n",
      "            getReserveData(xs:string wildcard, xs:string stationCode, xs:string parameter, )\n",
      "         Types (49):\n",
      "            ns1:Array\n",
      "            ns0:CFCInvocationException\n",
      "            ns1:ENTITIES\n",
      "            ns1:ENTITY\n",
      "            ns1:ID\n",
      "            ns1:IDREF\n",
      "            ns1:IDREFS\n",
      "            ns1:NCName\n",
      "            ns1:NMTOKEN\n",
      "            ns1:NMTOKENS\n",
      "            ns1:NOTATION\n",
      "            ns1:Name\n",
      "            ns1:QName\n",
      "            ns1:Struct\n",
      "            ns1:anyURI\n",
      "            ns1:arrayCoordinate\n",
      "            ns1:base64\n",
      "            ns1:base64Binary\n",
      "            ns1:boolean\n",
      "            ns1:byte\n",
      "            ns1:date\n",
      "            ns1:dateTime\n",
      "            ns1:decimal\n",
      "            ns1:double\n",
      "            ns1:duration\n",
      "            ns1:float\n",
      "            ns1:gDay\n",
      "            ns1:gMonth\n",
      "            ns1:gMonthDay\n",
      "            ns1:gYear\n",
      "            ns1:gYearMonth\n",
      "            ns1:hexBinary\n",
      "            ns1:int\n",
      "            ns1:integer\n",
      "            ns1:language\n",
      "            ns1:long\n",
      "            ns1:negativeInteger\n",
      "            ns1:nonNegativeInteger\n",
      "            ns1:nonPositiveInteger\n",
      "            ns1:normalizedString\n",
      "            ns1:positiveInteger\n",
      "            ns1:short\n",
      "            ns1:string\n",
      "            ns1:time\n",
      "            ns1:token\n",
      "            ns1:unsignedByte\n",
      "            ns1:unsignedInt\n",
      "            ns1:unsignedLong\n",
      "            ns1:unsignedShort\n",
      "--------------------------------------------------------------------------------\n"
     ]
    },
    {
     "name": "stderr",
     "output_type": "stream",
     "text": [
      "ic| f\"Error using Suds-py3 client: {e}\": (\"Error using Suds-py3 client: Type not found: '(Document, \"\n",
      "                                          \"http://xml.apache.org/xml-soap, )'\")\n"
     ]
    }
   ],
   "execution_count": 23
  },
  {
   "metadata": {},
   "cell_type": "markdown",
   "source": [
    "### Get Service Information (Suds-py3)\n",
    "This section gets and prints service information using the `suds-py"
   ],
   "id": "4aeb6b305b834653"
  },
  {
   "metadata": {
    "ExecuteTime": {
     "end_time": "2025-05-16T19:35:12.257076Z",
     "start_time": "2025-05-16T19:35:12.243751Z"
    }
   },
   "cell_type": "code",
   "source": [
    "try:\n",
    "    ic(\"Suds-py3 service information:\")\n",
    "    print(suds_client.sd[0].ports[0].methods)\n",
    "except Exception as e:\n",
    "    ic(f\"Error getting Suds-py3 service information: {e}\")"
   ],
   "id": "b029b6e96cbfd2ae",
   "outputs": [
    {
     "name": "stderr",
     "output_type": "stream",
     "text": [
      "ic| 'Suds-py3 service information:'\n",
      "ic| f\"Error getting Suds-py3 service information: {e}\": (\"Error getting Suds-py3 service information: 'tuple' object has no attribute \"\n",
      "                                                         \"'methods'\")\n"
     ]
    }
   ],
   "execution_count": 14
  },
  {
   "metadata": {
    "ExecuteTime": {
     "end_time": "2025-05-16T19:56:03.069050Z",
     "start_time": "2025-05-16T19:56:01.095406Z"
    }
   },
   "cell_type": "code",
   "source": [
    "from suds.client import Client\n",
    "\n",
    "soapClient = Client(\"http://cdmo.baruch.sc.edu/webservices2/requests.cfc?wsdl\", timeout=90, retxml=True)\n",
    "\n",
    "#Get the station codes SOAP request example.\n",
    "station_codes = soapClient.service.exportStationCodesXML()\n",
    "print (station_codes)\n",
    "\n",
    "#Get all parameters from the station NIWOLMET for the date range of 2014-12-30 to 2014-12-31\n",
    "params = soapClient.service.exportAllParamsDateRangeXML('niwolmet', '2014-12-30', '2014-12-31', '*')\n",
    "print (params)\n",
    "\n"
   ],
   "id": "e29f53cfbc80440a",
   "outputs": [
    {
     "name": "stdout",
     "output_type": "stream",
     "text": [
      "b'<?xml version=\"1.0\" encoding=\"utf-8\"?><soapenv:Envelope xmlns:soapenv=\"http://schemas.xmlsoap.org/soap/envelope/\" xmlns:xsd=\"http://www.w3.org/2001/XMLSchema\" xmlns:xsi=\"http://www.w3.org/2001/XMLSchema-instance\">\\n <soapenv:Body>\\n  <ns1:exportStationCodesXMLResponse soapenv:encodingStyle=\"http://schemas.xmlsoap.org/soap/encoding/\" xmlns:ns1=\"http://webservices2\">\\n   <exportStationCodesXMLReturn xsi:type=\"ns2:Document\" xmlns:ns2=\"http://xml.apache.org/xml-soap\">\\n    <returnData>\\n    \\t\\t    <data>Invalid ip 76.175.204.235</data>\\n\\n    \\t</returnData>\\n   </exportStationCodesXMLReturn>\\n  </ns1:exportStationCodesXMLResponse>\\n </soapenv:Body>\\n</soapenv:Envelope>'\n",
      "b'<?xml version=\"1.0\" encoding=\"utf-8\"?><soapenv:Envelope xmlns:soapenv=\"http://schemas.xmlsoap.org/soap/envelope/\" xmlns:xsd=\"http://www.w3.org/2001/XMLSchema\" xmlns:xsi=\"http://www.w3.org/2001/XMLSchema-instance\">\\n <soapenv:Body>\\n  <ns1:exportAllParamsDateRangeXMLResponse soapenv:encodingStyle=\"http://schemas.xmlsoap.org/soap/encoding/\" xmlns:ns1=\"http://webservices2\">\\n   <exportAllParamsDateRangeXMLReturn xsi:type=\"ns2:Document\" xmlns:ns2=\"http://xml.apache.org/xml-soap\">\\n    <returnData>\\n    \\t\\t    <data>Invalid ip 76.175.204.235</data>\\n\\n    \\t</returnData>\\n   </exportAllParamsDateRangeXMLReturn>\\n  </ns1:exportAllParamsDateRangeXMLResponse>\\n </soapenv:Body>\\n</soapenv:Envelope>'\n"
     ]
    }
   ],
   "execution_count": 25
  }
 ],
 "metadata": {
  "kernelspec": {
   "display_name": "Python 3",
   "language": "python",
   "name": "python3"
  },
  "language_info": {
   "codemirror_mode": {
    "name": "ipython",
    "version": 2
   },
   "file_extension": ".py",
   "mimetype": "text/x-python",
   "name": "python",
   "nbconvert_exporter": "python",
   "pygments_lexer": "ipython2",
   "version": "2.7.6"
  }
 },
 "nbformat": 4,
 "nbformat_minor": 5
}
