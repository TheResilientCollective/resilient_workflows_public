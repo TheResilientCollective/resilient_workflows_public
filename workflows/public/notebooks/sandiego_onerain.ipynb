{
 "cells": [
  {
   "metadata": {},
   "cell_type": "markdown",
   "source": [
    "Data Site https://sandiego.onerain.com/\n",
    "\n",
    "These sites are unstable. They may not be available at all times.\n",
    "\n",
    "Site: Goat Canyon: https://sandiego.onerain.com/site/?site_id=8&site=87ce910e-0827-45b0-a142-44530a808bed\n",
    "\n",
    "smugglers gultch: https://sandiego.onerain.com/site/?site_id=7&site=2f198436-e967-4c4a-b713-44276102b345\n",
    "\n",
    "Weather San Ysidro: https://sandiego.onerain.com/site/?site_id=6&site=a0a9ea9e-7922-4240-8428-95c0c2c7f3b3\n",
    "\n",
    "TJ Estuary: https://sandiego.onerain.com/site/?site_id=9&site=a8283365-1925-4cb0-917e-dd1106b0509b\n",
    "\n"
   ],
   "id": "79ae26c5636356dd"
  },
  {
   "cell_type": "code",
   "execution_count": null,
   "id": "initial_id",
   "metadata": {
    "collapsed": true
   },
   "outputs": [],
   "source": [
    ""
   ]
  },
  {
   "metadata": {},
   "cell_type": "code",
   "outputs": [],
   "execution_count": null,
   "source": "",
   "id": "7fd8db237789b0c3"
  }
 ],
 "metadata": {
  "kernelspec": {
   "display_name": "Python 3",
   "language": "python",
   "name": "python3"
  },
  "language_info": {
   "codemirror_mode": {
    "name": "ipython",
    "version": 2
   },
   "file_extension": ".py",
   "mimetype": "text/x-python",
   "name": "python",
   "nbconvert_exporter": "python",
   "pygments_lexer": "ipython2",
   "version": "2.7.6"
  }
 },
 "nbformat": 4,
 "nbformat_minor": 5
}
