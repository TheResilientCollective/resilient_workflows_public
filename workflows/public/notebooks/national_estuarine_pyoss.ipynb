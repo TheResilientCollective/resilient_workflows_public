{
 "cells": [
  {
   "metadata": {},
   "cell_type": "markdown",
   "source": "see https://github.com/ioos/pyoos/blob/master/notebooks/NERRS.ipynb\n",
   "id": "f38305de778eda6d"
  },
  {
   "cell_type": "code",
   "id": "initial_id",
   "metadata": {
    "collapsed": true,
    "ExecuteTime": {
     "end_time": "2025-05-16T18:47:34.578592Z",
     "start_time": "2025-05-16T18:47:05.254505Z"
    }
   },
   "source": "!pip install pyoos\n",
   "outputs": [
    {
     "name": "stdout",
     "output_type": "stream",
     "text": [
      "Collecting pyoos\r\n",
      "  Downloading pyoos-0.8.4.tar.gz (43 kB)\r\n",
      "\u001B[2K     \u001B[90m━━━━━━━━━━━━━━━━━━━━━━━━━━━━━━━━━━━━━━━━\u001B[0m \u001B[32m43.3/43.3 kB\u001B[0m \u001B[31m1.7 MB/s\u001B[0m eta \u001B[36m0:00:00\u001B[0m\r\n",
      "\u001B[?25h  Installing build dependencies ... \u001B[?25ldone\r\n",
      "\u001B[?25h  Getting requirements to build wheel ... \u001B[?25ldone\r\n",
      "\u001B[?25h  Preparing metadata (pyproject.toml) ... \u001B[?25ldone\r\n",
      "\u001B[?25hCollecting paegan>=1.1 (from pyoos)\r\n",
      "  Downloading paegan-1.1.4.tar.gz (54 kB)\r\n",
      "\u001B[2K     \u001B[90m━━━━━━━━━━━━━━━━━━━━━━━━━━━━━━━━━━━━━━━━\u001B[0m \u001B[32m54.6/54.6 kB\u001B[0m \u001B[31m3.2 MB/s\u001B[0m eta \u001B[36m0:00:00\u001B[0m\r\n",
      "\u001B[?25h  Installing build dependencies ... \u001B[?25ldone\r\n",
      "\u001B[?25h  Getting requirements to build wheel ... \u001B[?25ldone\r\n",
      "\u001B[?25h  Preparing metadata (pyproject.toml) ... \u001B[?25ldone\r\n",
      "\u001B[?25hCollecting OWSLib>=0.8.3 (from pyoos)\r\n",
      "  Obtaining dependency information for OWSLib>=0.8.3 from https://files.pythonhosted.org/packages/57/8a/e6afe0fee383db8fa22f0a1645a33e0f606349125f943e0c5223e19d252c/owslib-0.33.0-py3-none-any.whl.metadata\r\n",
      "  Downloading owslib-0.33.0-py3-none-any.whl.metadata (6.9 kB)\r\n",
      "Requirement already satisfied: requests in /Users/valentin/development/dev_earthcube/infrastructuredashboard/.venv/lib/python3.12/site-packages (from pyoos) (2.32.3)\r\n",
      "Collecting Fiona>=0.16.1 (from pyoos)\r\n",
      "  Obtaining dependency information for Fiona>=0.16.1 from https://files.pythonhosted.org/packages/73/ab/036c418d531afb74abe4ca9a8be487b863901fe7b42ddba1ba2fb0681d77/fiona-1.10.1-cp312-cp312-macosx_10_15_x86_64.whl.metadata\r\n",
      "  Downloading fiona-1.10.1-cp312-cp312-macosx_10_15_x86_64.whl.metadata (56 kB)\r\n",
      "\u001B[2K     \u001B[90m━━━━━━━━━━━━━━━━━━━━━━━━━━━━━━━━━━━━━━━━\u001B[0m \u001B[32m56.6/56.6 kB\u001B[0m \u001B[31m4.8 MB/s\u001B[0m eta \u001B[36m0:00:00\u001B[0m\r\n",
      "\u001B[?25hRequirement already satisfied: beautifulsoup4>=4.2.1 in /Users/valentin/development/dev_earthcube/infrastructuredashboard/.venv/lib/python3.12/site-packages (from pyoos) (4.12.3)\r\n",
      "Requirement already satisfied: lxml>=3.2.0 in /Users/valentin/development/dev_earthcube/infrastructuredashboard/.venv/lib/python3.12/site-packages (from pyoos) (5.3.0)\r\n",
      "Requirement already satisfied: six in /Users/valentin/development/dev_earthcube/infrastructuredashboard/.venv/lib/python3.12/site-packages (from pyoos) (1.16.0)\r\n",
      "Requirement already satisfied: soupsieve>1.2 in /Users/valentin/development/dev_earthcube/infrastructuredashboard/.venv/lib/python3.12/site-packages (from beautifulsoup4>=4.2.1->pyoos) (2.6)\r\n",
      "Requirement already satisfied: attrs>=19.2.0 in /Users/valentin/development/dev_earthcube/infrastructuredashboard/.venv/lib/python3.12/site-packages (from Fiona>=0.16.1->pyoos) (24.2.0)\r\n",
      "Requirement already satisfied: certifi in /Users/valentin/development/dev_earthcube/infrastructuredashboard/.venv/lib/python3.12/site-packages (from Fiona>=0.16.1->pyoos) (2024.7.4)\r\n",
      "Requirement already satisfied: click~=8.0 in /Users/valentin/development/dev_earthcube/infrastructuredashboard/.venv/lib/python3.12/site-packages (from Fiona>=0.16.1->pyoos) (8.1.7)\r\n",
      "Collecting click-plugins>=1.0 (from Fiona>=0.16.1->pyoos)\r\n",
      "  Obtaining dependency information for click-plugins>=1.0 from https://files.pythonhosted.org/packages/e9/da/824b92d9942f4e472702488857914bdd50f73021efea15b4cad9aca8ecef/click_plugins-1.1.1-py2.py3-none-any.whl.metadata\r\n",
      "  Using cached click_plugins-1.1.1-py2.py3-none-any.whl.metadata (6.4 kB)\r\n",
      "Collecting cligj>=0.5 (from Fiona>=0.16.1->pyoos)\r\n",
      "  Obtaining dependency information for cligj>=0.5 from https://files.pythonhosted.org/packages/73/86/43fa9f15c5b9fb6e82620428827cd3c284aa933431405d1bcf5231ae3d3e/cligj-0.7.2-py3-none-any.whl.metadata\r\n",
      "  Using cached cligj-0.7.2-py3-none-any.whl.metadata (5.0 kB)\r\n",
      "Requirement already satisfied: python-dateutil in /Users/valentin/development/dev_earthcube/infrastructuredashboard/.venv/lib/python3.12/site-packages (from OWSLib>=0.8.3->pyoos) (2.9.0.post0)\r\n",
      "Requirement already satisfied: pyyaml in /Users/valentin/development/dev_earthcube/infrastructuredashboard/.venv/lib/python3.12/site-packages (from OWSLib>=0.8.3->pyoos) (6.0.2)\r\n",
      "Requirement already satisfied: numpy>=1.7.0 in /Users/valentin/development/dev_earthcube/infrastructuredashboard/.venv/lib/python3.12/site-packages (from paegan>=1.1->pyoos) (2.1.0)\r\n",
      "Collecting scipy (from paegan>=1.1->pyoos)\r\n",
      "  Obtaining dependency information for scipy from https://files.pythonhosted.org/packages/af/43/0bce905a965f36c58ff80d8bea33f1f9351b05fad4beaad4eae34699b7a1/scipy-1.15.3-cp312-cp312-macosx_14_0_x86_64.whl.metadata\r\n",
      "  Downloading scipy-1.15.3-cp312-cp312-macosx_14_0_x86_64.whl.metadata (61 kB)\r\n",
      "\u001B[2K     \u001B[90m━━━━━━━━━━━━━━━━━━━━━━━━━━━━━━━━━━━━━━━━\u001B[0m \u001B[32m62.0/62.0 kB\u001B[0m \u001B[31m4.2 MB/s\u001B[0m eta \u001B[36m0:00:00\u001B[0m\r\n",
      "\u001B[?25hCollecting netCDF4>=1.0.2 (from paegan>=1.1->pyoos)\r\n",
      "  Obtaining dependency information for netCDF4>=1.0.2 from https://files.pythonhosted.org/packages/52/7f/3a0f18a39efca0e093b54d634b66573c25ecab5c482d73138ae14aa55c6d/netCDF4-1.7.2-cp312-cp312-macosx_12_0_x86_64.whl.metadata\r\n",
      "  Downloading netCDF4-1.7.2-cp312-cp312-macosx_12_0_x86_64.whl.metadata (1.8 kB)\r\n",
      "Collecting Shapely>=1.2.15 (from paegan>=1.1->pyoos)\r\n",
      "  Obtaining dependency information for Shapely>=1.2.15 from https://files.pythonhosted.org/packages/4e/d1/6a9371ec39d3ef08e13225594e6c55b045209629afd9e6d403204507c2a8/shapely-2.1.0-cp312-cp312-macosx_10_13_x86_64.whl.metadata\r\n",
      "  Downloading shapely-2.1.0-cp312-cp312-macosx_10_13_x86_64.whl.metadata (6.8 kB)\r\n",
      "Requirement already satisfied: pytz in /Users/valentin/development/dev_earthcube/infrastructuredashboard/.venv/lib/python3.12/site-packages (from paegan>=1.1->pyoos) (2024.1)\r\n",
      "Requirement already satisfied: charset-normalizer<4,>=2 in /Users/valentin/development/dev_earthcube/infrastructuredashboard/.venv/lib/python3.12/site-packages (from requests->pyoos) (3.3.2)\r\n",
      "Requirement already satisfied: idna<4,>=2.5 in /Users/valentin/development/dev_earthcube/infrastructuredashboard/.venv/lib/python3.12/site-packages (from requests->pyoos) (3.7)\r\n",
      "Requirement already satisfied: urllib3<3,>=1.21.1 in /Users/valentin/development/dev_earthcube/infrastructuredashboard/.venv/lib/python3.12/site-packages (from requests->pyoos) (2.2.2)\r\n",
      "Collecting cftime (from netCDF4>=1.0.2->paegan>=1.1->pyoos)\r\n",
      "  Obtaining dependency information for cftime from https://files.pythonhosted.org/packages/50/81/0bb28d54088a61592f61a11e7fcabcea6d261c47af79e18d0f9cbcd940ae/cftime-1.6.4.post1-cp312-cp312-macosx_10_13_x86_64.whl.metadata\r\n",
      "  Downloading cftime-1.6.4.post1-cp312-cp312-macosx_10_13_x86_64.whl.metadata (8.7 kB)\r\n",
      "Downloading fiona-1.10.1-cp312-cp312-macosx_10_15_x86_64.whl (16.1 MB)\r\n",
      "\u001B[2K   \u001B[90m━━━━━━━━━━━━━━━━━━━━━━━━━━━━━━━━━━━━━━━━\u001B[0m \u001B[32m16.1/16.1 MB\u001B[0m \u001B[31m10.6 MB/s\u001B[0m eta \u001B[36m0:00:00\u001B[0m00:01\u001B[0m00:01\u001B[0m\r\n",
      "\u001B[?25hDownloading owslib-0.33.0-py3-none-any.whl (240 kB)\r\n",
      "\u001B[2K   \u001B[90m━━━━━━━━━━━━━━━━━━━━━━━━━━━━━━━━━━━━━━━━\u001B[0m \u001B[32m240.1/240.1 kB\u001B[0m \u001B[31m15.6 MB/s\u001B[0m eta \u001B[36m0:00:00\u001B[0m\r\n",
      "\u001B[?25hUsing cached click_plugins-1.1.1-py2.py3-none-any.whl (7.5 kB)\r\n",
      "Using cached cligj-0.7.2-py3-none-any.whl (7.1 kB)\r\n",
      "Downloading netCDF4-1.7.2-cp312-cp312-macosx_12_0_x86_64.whl (3.0 MB)\r\n",
      "\u001B[2K   \u001B[90m━━━━━━━━━━━━━━━━━━━━━━━━━━━━━━━━━━━━━━━━\u001B[0m \u001B[32m3.0/3.0 MB\u001B[0m \u001B[31m14.8 MB/s\u001B[0m eta \u001B[36m0:00:00\u001B[0m00:01\u001B[0m00:01\u001B[0m\r\n",
      "\u001B[?25hDownloading shapely-2.1.0-cp312-cp312-macosx_10_13_x86_64.whl (1.8 MB)\r\n",
      "\u001B[2K   \u001B[90m━━━━━━━━━━━━━━━━━━━━━━━━━━━━━━━━━━━━━━━━\u001B[0m \u001B[32m1.8/1.8 MB\u001B[0m \u001B[31m34.7 MB/s\u001B[0m eta \u001B[36m0:00:00\u001B[0ma \u001B[36m0:00:01\u001B[0m\r\n",
      "\u001B[?25hDownloading scipy-1.15.3-cp312-cp312-macosx_14_0_x86_64.whl (25.2 MB)\r\n",
      "\u001B[2K   \u001B[90m━━━━━━━━━━━━━━━━━━━━━━━━━━━━━━━━━━━━━━━━\u001B[0m \u001B[32m25.2/25.2 MB\u001B[0m \u001B[31m39.7 MB/s\u001B[0m eta \u001B[36m0:00:00\u001B[0m00:01\u001B[0m00:01\u001B[0m\r\n",
      "\u001B[?25hDownloading cftime-1.6.4.post1-cp312-cp312-macosx_10_13_x86_64.whl (226 kB)\r\n",
      "\u001B[2K   \u001B[90m━━━━━━━━━━━━━━━━━━━━━━━━━━━━━━━━━━━━━━━━\u001B[0m \u001B[32m226.6/226.6 kB\u001B[0m \u001B[31m17.2 MB/s\u001B[0m eta \u001B[36m0:00:00\u001B[0m\r\n",
      "\u001B[?25hBuilding wheels for collected packages: pyoos, paegan\r\n",
      "  Building wheel for pyoos (pyproject.toml) ... \u001B[?25ldone\r\n",
      "\u001B[?25h  Created wheel for pyoos: filename=pyoos-0.8.4-py3-none-any.whl size=44862 sha256=55dc90424a4d10597ebf69bdf5f095120b374d9744100ae9d5cc42b2feeb27fa\r\n",
      "  Stored in directory: /Users/valentin/Library/Caches/pip/wheels/4f/0d/c1/770dd5b57fe00b33cd44947bc4868ba6d20ab5fee017e269e3\r\n",
      "  Building wheel for paegan (pyproject.toml) ... \u001B[?25ldone\r\n",
      "\u001B[?25h  Created wheel for paegan: filename=paegan-1.1.4-py3-none-any.whl size=61335 sha256=9cf6cc7607b977dd9f8b3dcebc4741db56830344e69f2a0adb1032d536618f6d\r\n",
      "  Stored in directory: /Users/valentin/Library/Caches/pip/wheels/93/d4/f0/11c7a1728ed7c29af465758077af4f0d1297778d82b732878f\r\n",
      "Successfully built pyoos paegan\r\n",
      "Installing collected packages: Shapely, scipy, cligj, click-plugins, cftime, OWSLib, netCDF4, Fiona, paegan, pyoos\r\n",
      "Successfully installed Fiona-1.10.1 OWSLib-0.33.0 Shapely-2.1.0 cftime-1.6.4.post1 click-plugins-1.1.1 cligj-0.7.2 netCDF4-1.7.2 paegan-1.1.4 pyoos-0.8.4 scipy-1.15.3\r\n",
      "\r\n",
      "\u001B[1m[\u001B[0m\u001B[34;49mnotice\u001B[0m\u001B[1;39;49m]\u001B[0m\u001B[39;49m A new release of pip is available: \u001B[0m\u001B[31;49m23.2.1\u001B[0m\u001B[39;49m -> \u001B[0m\u001B[32;49m25.1.1\u001B[0m\r\n",
      "\u001B[1m[\u001B[0m\u001B[34;49mnotice\u001B[0m\u001B[1;39;49m]\u001B[0m\u001B[39;49m To update, run: \u001B[0m\u001B[32;49mpip install --upgrade pip\u001B[0m\r\n"
     ]
    }
   ],
   "execution_count": 2
  },
  {
   "metadata": {
    "ExecuteTime": {
     "end_time": "2025-05-16T18:53:17.245881Z",
     "start_time": "2025-05-16T18:53:14.152102Z"
    }
   },
   "cell_type": "code",
   "source": [
    "from datetime import datetime, timedelta\n",
    "import pandas as pd\n",
    "from pyoos.collectors.nerrs.nerrs_soap import NerrsSoap\n"
   ],
   "id": "a1fb40d2e1616fa3",
   "outputs": [],
   "execution_count": 3
  },
  {
   "metadata": {
    "ExecuteTime": {
     "end_time": "2025-05-16T19:00:32.669739Z",
     "start_time": "2025-05-16T19:00:32.448006Z"
    }
   },
   "cell_type": "code",
   "source": [
    "# NERRS/CDMO access token.\n",
    "accesstoken = 'TOKEN STRING'\n",
    "\n",
    "# Initialize pyoos NERRS collector object\n",
    "nerrsData = NerrsSoap()"
   ],
   "id": "2e124316a9405ef1",
   "outputs": [
    {
     "ename": "ValueError",
     "evalue": "Unicode strings with encoding declaration are not supported. Please use bytes input or XML fragments without declaration.",
     "output_type": "error",
     "traceback": [
      "\u001B[31m---------------------------------------------------------------------------\u001B[39m",
      "\u001B[31mValueError\u001B[39m                                Traceback (most recent call last)",
      "\u001B[36mCell\u001B[39m\u001B[36m \u001B[39m\u001B[32mIn[4]\u001B[39m\u001B[32m, line 5\u001B[39m\n\u001B[32m      2\u001B[39m accesstoken = \u001B[33m'\u001B[39m\u001B[33mTOKEN STRING\u001B[39m\u001B[33m'\u001B[39m\n\u001B[32m      4\u001B[39m \u001B[38;5;66;03m# Initialize pyoos NERRS collector object\u001B[39;00m\n\u001B[32m----> \u001B[39m\u001B[32m5\u001B[39m nerrsData = \u001B[43mNerrsSoap\u001B[49m\u001B[43m(\u001B[49m\u001B[43m)\u001B[49m\n",
      "\u001B[36mFile \u001B[39m\u001B[32m~/development/dev_earthcube/infrastructuredashboard/.venv/lib/python3.12/site-packages/pyoos/collectors/nerrs/nerrs_soap.py:20\u001B[39m, in \u001B[36mNerrsSoap.__init__\u001B[39m\u001B[34m(self, **kwargs)\u001B[39m\n\u001B[32m     18\u001B[39m \u001B[38;5;28mself\u001B[39m.wsdl_url = \u001B[33m'\u001B[39m\u001B[33mhttp://cdmo.baruch.sc.edu/webservices2/requests.cfc?wsdl\u001B[39m\u001B[33m'\u001B[39m\n\u001B[32m     19\u001B[39m \u001B[38;5;28mself\u001B[39m.wildcard = kwargs.get(\u001B[33m\"\u001B[39m\u001B[33mwildcard\u001B[39m\u001B[33m\"\u001B[39m)\n\u001B[32m---> \u001B[39m\u001B[32m20\u001B[39m \u001B[38;5;28mself\u001B[39m.stations = \u001B[38;5;28;43mself\u001B[39;49m\u001B[43m.\u001B[49m\u001B[43mget_stations\u001B[49m\u001B[43m(\u001B[49m\u001B[43m)\u001B[49m\n",
      "\u001B[36mFile \u001B[39m\u001B[32m~/development/dev_earthcube/infrastructuredashboard/.venv/lib/python3.12/site-packages/pyoos/collectors/nerrs/nerrs_soap.py:40\u001B[39m, in \u001B[36mNerrsSoap.get_stations\u001B[39m\u001B[34m(self)\u001B[39m\n\u001B[32m     37\u001B[39m \u001B[38;5;250m    \u001B[39m\u001B[33;03m\"\"\"<exportStationCodesXMLNew />\"\"\"\u001B[39;00m\n\u001B[32m     38\u001B[39m     xml_obj = etree.Element(\u001B[33m\"\u001B[39m\u001B[33mexportStationCodesXMLNew\u001B[39m\u001B[33m\"\u001B[39m)\n\u001B[32m---> \u001B[39m\u001B[32m40\u001B[39m env = \u001B[38;5;28;43mself\u001B[39;49m\u001B[43m.\u001B[49m\u001B[43m_makesoap\u001B[49m\u001B[43m(\u001B[49m\u001B[43mxml_obj\u001B[49m\u001B[43m)\u001B[49m\n\u001B[32m     42\u001B[39m stats = []\n\u001B[32m     43\u001B[39m \u001B[38;5;28;01mfor\u001B[39;00m data \u001B[38;5;129;01min\u001B[39;00m env.findall(\u001B[33m\"\u001B[39m\u001B[33m.//data\u001B[39m\u001B[33m\"\u001B[39m):\n",
      "\u001B[36mFile \u001B[39m\u001B[32m~/development/dev_earthcube/infrastructuredashboard/.venv/lib/python3.12/site-packages/pyoos/collectors/nerrs/nerrs_soap.py:69\u001B[39m, in \u001B[36mNerrsSoap._makesoap\u001B[39m\u001B[34m(self, xmlelement)\u001B[39m\n\u001B[32m     57\u001B[39m \u001B[38;5;28;01mdef\u001B[39;00m \u001B[34m_makesoap\u001B[39m(\u001B[38;5;28mself\u001B[39m, xmlelement):\n\u001B[32m     58\u001B[39m     request = \u001B[33m\"\"\"\u001B[39m\u001B[33m<?xml version=\u001B[39m\u001B[33m\"\u001B[39m\u001B[33m1.0\u001B[39m\u001B[33m\"\u001B[39m\u001B[33m encoding=\u001B[39m\u001B[33m\"\u001B[39m\u001B[33mUTF-8\u001B[39m\u001B[33m\"\u001B[39m\u001B[33m?>\u001B[39m\n\u001B[32m     59\u001B[39m \u001B[33m    <SOAP-ENV:Envelope  SOAP-ENV:encodingStyle=\u001B[39m\u001B[33m\"\u001B[39m\u001B[33mhttp://schemas.xmlsoap.org/soap/encoding/\u001B[39m\u001B[33m\"\u001B[39m\n\u001B[32m     60\u001B[39m \u001B[33m                        xmlns:SOAP-ENV=\u001B[39m\u001B[33m\"\u001B[39m\u001B[33mhttp://schemas.xmlsoap.org/soap/envelope/\u001B[39m\u001B[33m\"\u001B[39m\n\u001B[32m   (...)\u001B[39m\u001B[32m     67\u001B[39m \u001B[33m    </SOAP-ENV:Envelope>\u001B[39m\n\u001B[32m     68\u001B[39m \u001B[33m    \u001B[39m\u001B[33m\"\"\"\u001B[39m\n\u001B[32m---> \u001B[39m\u001B[32m69\u001B[39m     enve = \u001B[43metree\u001B[49m\u001B[43m.\u001B[49m\u001B[43mfromstring\u001B[49m\u001B[43m(\u001B[49m\u001B[43mrequest\u001B[49m\u001B[43m)\u001B[49m\n\u001B[32m     71\u001B[39m     body = enve.find(\u001B[33m\"\u001B[39m\u001B[33m.//\u001B[39m\u001B[33m{\u001B[39m\u001B[38;5;132;01m%s\u001B[39;00m\u001B[33m}Body\u001B[39m\u001B[33m\"\u001B[39m % \u001B[33m\"\u001B[39m\u001B[33mhttp://schemas.xmlsoap.org/soap/envelope/\u001B[39m\u001B[33m\"\u001B[39m)\n\u001B[32m     72\u001B[39m     body.append(xmlelement)\n",
      "\u001B[36mFile \u001B[39m\u001B[32msrc/lxml/etree.pyx:3306\u001B[39m, in \u001B[36mlxml.etree.fromstring\u001B[39m\u001B[34m()\u001B[39m\n",
      "\u001B[36mFile \u001B[39m\u001B[32msrc/lxml/parser.pxi:1990\u001B[39m, in \u001B[36mlxml.etree._parseMemoryDocument\u001B[39m\u001B[34m()\u001B[39m\n",
      "\u001B[31mValueError\u001B[39m: Unicode strings with encoding declaration are not supported. Please use bytes input or XML fragments without declaration."
     ]
    }
   ],
   "execution_count": 4
  }
 ],
 "metadata": {
  "kernelspec": {
   "display_name": "Python 3",
   "language": "python",
   "name": "python3"
  },
  "language_info": {
   "codemirror_mode": {
    "name": "ipython",
    "version": 2
   },
   "file_extension": ".py",
   "mimetype": "text/x-python",
   "name": "python",
   "nbconvert_exporter": "python",
   "pygments_lexer": "ipython2",
   "version": "2.7.6"
  }
 },
 "nbformat": 4,
 "nbformat_minor": 5
}
