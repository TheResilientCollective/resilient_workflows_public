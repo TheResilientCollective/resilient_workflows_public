{
 "cells": [
  {
   "cell_type": "markdown",
   "source": [
    "Simplify Geometries"
   ],
   "metadata": {
    "collapsed": false
   },
   "id": "7703e303f43057ef"
  },
  {
   "cell_type": "code",
   "execution_count": 1,
   "id": "initial_id",
   "metadata": {
    "collapsed": true,
    "ExecuteTime": {
     "end_time": "2024-04-23T20:23:48.266091Z",
     "start_time": "2024-04-23T20:23:45.250451Z"
    }
   },
   "outputs": [
    {
     "name": "stdout",
     "output_type": "stream",
     "text": [
      "2024-04-23 13:23:48,263 base dir: /Users/valentin/development/dev_resilient/resilient_workflows/sheild/notebooks\n"
     ]
    }
   ],
   "source": [
    "import pandas as pd\n",
    "import geopandas as gpd\n",
    "#import duckdb\n",
    "import csv\n",
    "import os\n",
    "import sys\n",
    "import logging  \n",
    "from keplergl import KeplerGl\n",
    "logging.basicConfig(stream=sys.stdout, level=logging.INFO, format=\"%(asctime)s %(message)s\")\n",
    "logger=logging.getLogger(__name__)\n",
    "logger.setLevel(level=logging.DEBUG)\n",
    "\n",
    "base_dir = os.getcwd()\n",
    "logger.info(\"base dir: {}\".format(base_dir))"
   ]
  },
  {
   "cell_type": "markdown",
   "source": [],
   "metadata": {
    "collapsed": false
   },
   "id": "502d53e9468fe3a5"
  },
  {
   "cell_type": "code",
   "outputs": [],
   "source": [
    "zip_codes_gdf = gpd.read_file(os.path.join(base_dir, \"../../data/geographic/sd_county/sd_county_zip_codes.gpkg\"))\n",
    "zip_codes_gdf = zip_codes_gdf.set_crs(epsg=4326)\n",
    "zip_codes_gdf = zip_codes_gdf.simplify(1/360)\n",
    "\n",
    "import fiona; fiona.supported_drivers\n",
    "\n",
    "zip_codes_gdf.to_parquet(os.path.join(output_dir,\"zip_focus.parquet\" ))\n",
    "zip_codes_gdf.to_file(os.path.join(output_dir,\"zip_focus.geojson\" ) , driver='GeoJSON')\n",
    "zip_codes_gdf.to_file(os.path.join(output_dir,\"zip_focus.flatgeobuf\" ) , driver='FlatGeobuf')\n",
    " \n",
    "zip_codes_gdf.plot()"
   ],
   "metadata": {
    "collapsed": false,
    "is_executing": true,
    "ExecuteTime": {
     "start_time": "2024-04-23T20:31:29.765394Z"
    }
   },
   "id": "3584230d95634e82",
   "execution_count": null
  },
  {
   "cell_type": "code",
   "outputs": [],
   "source": [
    "zip_codes_gdf['LON'] = zip_codes_gdf.centroid.x\n",
    "zip_codes_gdf['LAT'] = zip_codes_gdf.centroid.y \n",
    "zip_codes_gdf['POINT']= zip_codes_gdf.centroid\n",
    "zip_points_gdf=zip_codes_gdf.set_geometry(\"POINT\",drop=True, inplace=False) "
   ],
   "metadata": {
    "collapsed": false
   },
   "id": "f431983c731b8471"
  }
 ],
 "metadata": {
  "kernelspec": {
   "display_name": "Python 3",
   "language": "python",
   "name": "python3"
  },
  "language_info": {
   "codemirror_mode": {
    "name": "ipython",
    "version": 2
   },
   "file_extension": ".py",
   "mimetype": "text/x-python",
   "name": "python",
   "nbconvert_exporter": "python",
   "pygments_lexer": "ipython2",
   "version": "2.7.6"
  }
 },
 "nbformat": 4,
 "nbformat_minor": 5
}
