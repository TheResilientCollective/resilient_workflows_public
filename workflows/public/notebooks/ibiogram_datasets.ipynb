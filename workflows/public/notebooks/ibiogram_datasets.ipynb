{
 "cells": [
  {
   "cell_type": "markdown",
   "source": [
    "IBIOGRAM Build datasets for map service\n",
    "\n",
    "This first requires that the files be converted to parquet\n"
   ],
   "metadata": {
    "collapsed": false
   },
   "id": "c6d2d0ecc1d44167"
  },
  {
   "cell_type": "code",
   "outputs": [],
   "source": [
    "import pandas as pd\n",
    "import geopandas as gpd\n",
    "from shapely.geometry import Point\n",
    "#import duckdb\n",
    "import csv\n",
    "import os\n",
    "import sys\n",
    "import logging  \n",
    "from keplergl import KeplerGl\n",
    "logging.basicConfig(stream=sys.stdout, level=logging.INFO, format=\"%(asctime)s %(message)s\")\n",
    "logger=logging.getLogger(__name__)\n",
    "logger.setLevel(level=logging.DEBUG)\n"
   ],
   "metadata": {
    "collapsed": false,
    "ExecuteTime": {
     "end_time": "2024-05-07T19:31:52.876540Z",
     "start_time": "2024-05-07T19:31:50.225814Z"
    }
   },
   "id": "ef3cf0ec6a33daf1",
   "execution_count": 1
  },
  {
   "cell_type": "code",
   "outputs": [
    {
     "name": "stdout",
     "output_type": "stream",
     "text": [
      "2024-05-07 12:31:52,879 base dir: /Users/valentin/development/dev_resilient/resilient_workflows/sheild/notebooks\n"
     ]
    }
   ],
   "source": [
    "base_dir = os.getcwd()\n",
    "logger.info(\"base dir: {}\".format(base_dir))\n",
    "\n",
    "data_dir = os.path.join(base_dir, \"../../data/ibiogram/latest/\")\n",
    "files = {\n",
    "    \"demo\": {\"file\":\"decs-1290-demo.txt\",\"parse_dates\":[], \"dtype\": {}},\n",
    "    \n",
    "\"problems\":{\"file\":\"decs-1290-problems.txt\",\"parse_dates\":[\"NOTED_DATE\"], \"dtype\":{}},\n",
    "\"visits\":{\"file\":\"decs-1290-visits.txt\",\n",
    "          \"parse_dates\":[\"HOSP_ADMSN_TIME\",\"HOSP_DISCH_TIME\"],\n",
    "          \"dtype\":{\n",
    "              \"PAT_ENC_CSN_DI\": 'string'\n",
    "          }},\n",
    "\"sensitivity\":{\"file\":\"decs-1290-sensitivity.txt\",\"parse_dates\":[\"RESULT_DATE\"], \"dtype\":{}},\n",
    "}\n",
    "output_dir = os.path.join(base_dir, \"../../data/ibiogram/output/\")"
   ],
   "metadata": {
    "collapsed": false,
    "ExecuteTime": {
     "end_time": "2024-05-07T19:31:52.881776Z",
     "start_time": "2024-05-07T19:31:52.877777Z"
    }
   },
   "id": "e702e56567009dd6",
   "execution_count": 2
  },
  {
   "cell_type": "markdown",
   "source": [
    "Load Zip shapefiles"
   ],
   "metadata": {
    "collapsed": false
   },
   "id": "cca21e4b82f73c32"
  },
  {
   "cell_type": "code",
   "execution_count": 3,
   "id": "initial_id",
   "metadata": {
    "collapsed": true,
    "ExecuteTime": {
     "end_time": "2024-05-07T19:31:55.314758Z",
     "start_time": "2024-05-07T19:31:54.483900Z"
    }
   },
   "outputs": [
    {
     "name": "stderr",
     "output_type": "stream",
     "text": [
      "/var/folders/t2/t39bprkn16dg9nr4v6c18v0w0000gn/T/ipykernel_68908/3105166035.py:3: UserWarning: Geometry is in a geographic CRS. Results from 'centroid' are likely incorrect. Use 'GeoSeries.to_crs()' to re-project geometries to a projected CRS before this operation.\n",
      "\n",
      "  zip_codes_gdf['LON'] = zip_codes_gdf.centroid.x\n",
      "/var/folders/t2/t39bprkn16dg9nr4v6c18v0w0000gn/T/ipykernel_68908/3105166035.py:4: UserWarning: Geometry is in a geographic CRS. Results from 'centroid' are likely incorrect. Use 'GeoSeries.to_crs()' to re-project geometries to a projected CRS before this operation.\n",
      "\n",
      "  zip_codes_gdf['LAT'] = zip_codes_gdf.centroid.y\n",
      "/var/folders/t2/t39bprkn16dg9nr4v6c18v0w0000gn/T/ipykernel_68908/3105166035.py:5: UserWarning: Geometry is in a geographic CRS. Results from 'centroid' are likely incorrect. Use 'GeoSeries.to_crs()' to re-project geometries to a projected CRS before this operation.\n",
      "\n",
      "  zip_codes_gdf['POINT']= zip_codes_gdf.centroid\n"
     ]
    },
    {
     "data": {
      "text/plain": "     OBJECTID ZIP_CODE                                           geometry  \\\n0           1    91901  MULTIPOLYGON (((-116.60749 32.79858, -116.6101...   \n1           2    91902  MULTIPOLYGON (((-116.96415 32.67248, -116.9643...   \n2           3    91905  MULTIPOLYGON (((-116.20848 32.66050, -116.2086...   \n3           4    91906  MULTIPOLYGON (((-116.35730 32.70081, -116.3565...   \n4           5    91910  MULTIPOLYGON (((-117.07281 32.65629, -117.0727...   \n..        ...      ...                                                ...   \n117       118    92590  MULTIPOLYGON (((-117.25103 33.45183, -117.2513...   \n118       119    92592  MULTIPOLYGON (((-116.87247 33.42673, -116.8759...   \n119       120    92672  MULTIPOLYGON (((-117.57400 33.45341, -117.5736...   \n120       121    92673  MULTIPOLYGON (((-117.57400 33.45341, -117.5743...   \n121       122    92675  MULTIPOLYGON (((-117.56455 33.45234, -117.5651...   \n\n            LON        LAT                        POINT  \n0   -116.714872  32.807958  POINT (-116.71487 32.80796)  \n1   -117.005161  32.674016  POINT (-117.00516 32.67402)  \n2   -116.301852  32.726552  POINT (-116.30185 32.72655)  \n3   -116.516699  32.696103  POINT (-116.51670 32.69610)  \n4   -117.055637  32.637943  POINT (-117.05564 32.63794)  \n..          ...        ...                          ...  \n117 -117.274805  33.459686  POINT (-117.27481 33.45969)  \n118 -117.008187  33.429030  POINT (-117.00819 33.42903)  \n119 -117.536888  33.385831  POINT (-117.53689 33.38583)  \n120 -117.577576  33.452593  POINT (-117.57758 33.45259)  \n121 -117.547922  33.456492  POINT (-117.54792 33.45649)  \n\n[122 rows x 6 columns]",
      "text/html": "<div>\n<style scoped>\n    .dataframe tbody tr th:only-of-type {\n        vertical-align: middle;\n    }\n\n    .dataframe tbody tr th {\n        vertical-align: top;\n    }\n\n    .dataframe thead th {\n        text-align: right;\n    }\n</style>\n<table border=\"1\" class=\"dataframe\">\n  <thead>\n    <tr style=\"text-align: right;\">\n      <th></th>\n      <th>OBJECTID</th>\n      <th>ZIP_CODE</th>\n      <th>geometry</th>\n      <th>LON</th>\n      <th>LAT</th>\n      <th>POINT</th>\n    </tr>\n  </thead>\n  <tbody>\n    <tr>\n      <th>0</th>\n      <td>1</td>\n      <td>91901</td>\n      <td>MULTIPOLYGON (((-116.60749 32.79858, -116.6101...</td>\n      <td>-116.714872</td>\n      <td>32.807958</td>\n      <td>POINT (-116.71487 32.80796)</td>\n    </tr>\n    <tr>\n      <th>1</th>\n      <td>2</td>\n      <td>91902</td>\n      <td>MULTIPOLYGON (((-116.96415 32.67248, -116.9643...</td>\n      <td>-117.005161</td>\n      <td>32.674016</td>\n      <td>POINT (-117.00516 32.67402)</td>\n    </tr>\n    <tr>\n      <th>2</th>\n      <td>3</td>\n      <td>91905</td>\n      <td>MULTIPOLYGON (((-116.20848 32.66050, -116.2086...</td>\n      <td>-116.301852</td>\n      <td>32.726552</td>\n      <td>POINT (-116.30185 32.72655)</td>\n    </tr>\n    <tr>\n      <th>3</th>\n      <td>4</td>\n      <td>91906</td>\n      <td>MULTIPOLYGON (((-116.35730 32.70081, -116.3565...</td>\n      <td>-116.516699</td>\n      <td>32.696103</td>\n      <td>POINT (-116.51670 32.69610)</td>\n    </tr>\n    <tr>\n      <th>4</th>\n      <td>5</td>\n      <td>91910</td>\n      <td>MULTIPOLYGON (((-117.07281 32.65629, -117.0727...</td>\n      <td>-117.055637</td>\n      <td>32.637943</td>\n      <td>POINT (-117.05564 32.63794)</td>\n    </tr>\n    <tr>\n      <th>...</th>\n      <td>...</td>\n      <td>...</td>\n      <td>...</td>\n      <td>...</td>\n      <td>...</td>\n      <td>...</td>\n    </tr>\n    <tr>\n      <th>117</th>\n      <td>118</td>\n      <td>92590</td>\n      <td>MULTIPOLYGON (((-117.25103 33.45183, -117.2513...</td>\n      <td>-117.274805</td>\n      <td>33.459686</td>\n      <td>POINT (-117.27481 33.45969)</td>\n    </tr>\n    <tr>\n      <th>118</th>\n      <td>119</td>\n      <td>92592</td>\n      <td>MULTIPOLYGON (((-116.87247 33.42673, -116.8759...</td>\n      <td>-117.008187</td>\n      <td>33.429030</td>\n      <td>POINT (-117.00819 33.42903)</td>\n    </tr>\n    <tr>\n      <th>119</th>\n      <td>120</td>\n      <td>92672</td>\n      <td>MULTIPOLYGON (((-117.57400 33.45341, -117.5736...</td>\n      <td>-117.536888</td>\n      <td>33.385831</td>\n      <td>POINT (-117.53689 33.38583)</td>\n    </tr>\n    <tr>\n      <th>120</th>\n      <td>121</td>\n      <td>92673</td>\n      <td>MULTIPOLYGON (((-117.57400 33.45341, -117.5743...</td>\n      <td>-117.577576</td>\n      <td>33.452593</td>\n      <td>POINT (-117.57758 33.45259)</td>\n    </tr>\n    <tr>\n      <th>121</th>\n      <td>122</td>\n      <td>92675</td>\n      <td>MULTIPOLYGON (((-117.56455 33.45234, -117.5651...</td>\n      <td>-117.547922</td>\n      <td>33.456492</td>\n      <td>POINT (-117.54792 33.45649)</td>\n    </tr>\n  </tbody>\n</table>\n<p>122 rows × 6 columns</p>\n</div>"
     },
     "execution_count": 3,
     "metadata": {},
     "output_type": "execute_result"
    }
   ],
   "source": [
    "zip_codes_gdf = gpd.read_file(os.path.join(base_dir, \"../../data/geographic/sd_county/sd_county_zip_codes.gpkg\"))\n",
    "zip_codes_gdf = zip_codes_gdf.set_crs(epsg=4326)\n",
    "zip_codes_gdf['LON'] = zip_codes_gdf.centroid.x\n",
    "zip_codes_gdf['LAT'] = zip_codes_gdf.centroid.y \n",
    "zip_codes_gdf['POINT']= zip_codes_gdf.centroid\n",
    "zip_points_gdf=zip_codes_gdf.set_geometry(\"POINT\",drop=True, inplace=False) \n",
    " \n",
    "zip_codes_gdf"
   ]
  },
  {
   "cell_type": "markdown",
   "source": [
    "ZIP Codes US"
   ],
   "metadata": {
    "collapsed": false
   },
   "id": "5e9209a734f25f39"
  },
  {
   "cell_type": "code",
   "outputs": [
    {
     "data": {
      "text/plain": "  ZIP_CODE  latitude  longitude                     geometry\n0    99553   54.1430  -165.7854  POINT (-165.78540 54.14300)\n1    99571   55.1858  -162.7211  POINT (-162.72110 55.18580)\n2    99583   54.8542  -163.4113  POINT (-163.41130 54.85420)\n3    99612   55.0628  -162.3056  POINT (-162.30560 55.06280)\n4    99661   55.3192  -160.4914  POINT (-160.49140 55.31920)",
      "text/html": "<div>\n<style scoped>\n    .dataframe tbody tr th:only-of-type {\n        vertical-align: middle;\n    }\n\n    .dataframe tbody tr th {\n        vertical-align: top;\n    }\n\n    .dataframe thead th {\n        text-align: right;\n    }\n</style>\n<table border=\"1\" class=\"dataframe\">\n  <thead>\n    <tr style=\"text-align: right;\">\n      <th></th>\n      <th>ZIP_CODE</th>\n      <th>latitude</th>\n      <th>longitude</th>\n      <th>geometry</th>\n    </tr>\n  </thead>\n  <tbody>\n    <tr>\n      <th>0</th>\n      <td>99553</td>\n      <td>54.1430</td>\n      <td>-165.7854</td>\n      <td>POINT (-165.78540 54.14300)</td>\n    </tr>\n    <tr>\n      <th>1</th>\n      <td>99571</td>\n      <td>55.1858</td>\n      <td>-162.7211</td>\n      <td>POINT (-162.72110 55.18580)</td>\n    </tr>\n    <tr>\n      <th>2</th>\n      <td>99583</td>\n      <td>54.8542</td>\n      <td>-163.4113</td>\n      <td>POINT (-163.41130 54.85420)</td>\n    </tr>\n    <tr>\n      <th>3</th>\n      <td>99612</td>\n      <td>55.0628</td>\n      <td>-162.3056</td>\n      <td>POINT (-162.30560 55.06280)</td>\n    </tr>\n    <tr>\n      <th>4</th>\n      <td>99661</td>\n      <td>55.3192</td>\n      <td>-160.4914</td>\n      <td>POINT (-160.49140 55.31920)</td>\n    </tr>\n  </tbody>\n</table>\n</div>"
     },
     "execution_count": 4,
     "metadata": {},
     "output_type": "execute_result"
    }
   ],
   "source": [
    "#ountry code      : iso country code, 2 characters\n",
    "#postal code       : varchar(20)\n",
    "#place name        : varchar(180)\n",
    "#admin name1       : 1. order subdivision (state) varchar(100)\n",
    "#admin code1       : 1. order subdivision (state) varchar(20)\n",
    "#admin name2       : 2. order subdivision (county/province) varchar(100)\n",
    "#admin code2       : 2. order subdivision (county/province) varchar(20)\n",
    "#admin name3       : 3. order subdivision (community) varchar(100)\n",
    "#admin code3       : 3. order subdivision (community) varchar(20)\n",
    "#latitude          : estimated latitude (wgs84)\n",
    "#longitude         : estimated longitude (wgs84)\n",
    "#accuracy          : accuracy of lat/lng from 1=estimated, 4=geonameid, 6=centroid of addresses or shape\n",
    "geo_data_dir = os.path.join(base_dir, \"../../data/geographic/\")\n",
    "FILE_NAME = f\"{geo_data_dir}/us_zip_point/US.txt\"\n",
    "FILE_HEADER = ['Country', 'ZIP_CODE', 'Place_name', \n",
    "               'ADMIN_NAME_1', 'ADMIN_CODE_1',\n",
    "               'ADMIN_NAME_2', 'ADMIN_CODE_2',\n",
    "               'ADMIN_NAME_3', 'ADMIN_CODE_3',\n",
    "               'latitude', 'longitude',\n",
    "              'accuracy' ]\n",
    "USE_COLS = ['ZIP_CODE', 'latitude', 'longitude']\n",
    "DTYPE= {'ZIP_CODE':str,}\n",
    "uszip_df = pd.read_csv(\n",
    "    FILE_NAME, delimiter=\"\\t\", header=None,\n",
    "    names=FILE_HEADER, usecols=USE_COLS,\n",
    "dtype=DTYPE)\n",
    "\n",
    "uszip_gdf = gpd.GeoDataFrame(uszip_df, \n",
    "    geometry = gpd.points_from_xy(uszip_df['longitude'], uszip_df['latitude']), \n",
    "    crs = 'EPSG:4326')\n",
    "\n",
    "uszip_gdf.head()"
   ],
   "metadata": {
    "collapsed": false,
    "ExecuteTime": {
     "end_time": "2024-05-07T19:32:01.109298Z",
     "start_time": "2024-05-07T19:32:01.040219Z"
    }
   },
   "id": "4ffd6ca8bcc92cd0",
   "execution_count": 4
  },
  {
   "cell_type": "markdown",
   "source": [
    "Load Parquet\n",
    "In the long term, these will be on an s3 store, and may be stored in Apache Arrow to allow for subsetting"
   ],
   "metadata": {
    "collapsed": false
   },
   "id": "3b3b3fad88c87077"
  },
  {
   "cell_type": "code",
   "outputs": [],
   "source": [
    "demo_df = pd.read_parquet(os.path.join(output_dir, \"parquet\",\"demo.parquet\"))\n",
    "demo_df.dropna(subset=['ZIP'], inplace=True)\n",
    "demo_df = demo_df[ (demo_df['ZIP'].str.startswith('9') )]\n",
    "demo_df['ZIP_CODE']=demo_df['ZIP']\n",
    "sens_df= pd.read_parquet(os.path.join(output_dir,\"parquet\", \"sensitivity.parquet\"))\n"
   ],
   "metadata": {
    "collapsed": false,
    "ExecuteTime": {
     "end_time": "2024-05-07T19:32:07.637012Z",
     "start_time": "2024-05-07T19:32:05.899909Z"
    }
   },
   "id": "a958e55d77abc139",
   "execution_count": 5
  },
  {
   "cell_type": "code",
   "outputs": [
    {
     "data": {
      "text/plain": "                                           count\ngenus         species        SUSCEPT            \nABIOTROPHIA   DEFECTIVA      Intermediate      4\n                             Resistant         6\n                             Susceptible      41\nACHROMOBACTER                Intermediate     16\n                             Resistant       143\n...                                          ...\nYERSINIA      ENTEROCOLITICA Resistant        46\n                             Susceptible     157\n              FREDERIKSENII  Resistant         1\n                             Susceptible       5\n              ROHDEI         Susceptible      14\n\n[1387 rows x 1 columns]",
      "text/html": "<div>\n<style scoped>\n    .dataframe tbody tr th:only-of-type {\n        vertical-align: middle;\n    }\n\n    .dataframe tbody tr th {\n        vertical-align: top;\n    }\n\n    .dataframe thead th {\n        text-align: right;\n    }\n</style>\n<table border=\"1\" class=\"dataframe\">\n  <thead>\n    <tr style=\"text-align: right;\">\n      <th></th>\n      <th></th>\n      <th></th>\n      <th>count</th>\n    </tr>\n    <tr>\n      <th>genus</th>\n      <th>species</th>\n      <th>SUSCEPT</th>\n      <th></th>\n    </tr>\n  </thead>\n  <tbody>\n    <tr>\n      <th rowspan=\"3\" valign=\"top\">ABIOTROPHIA</th>\n      <th rowspan=\"3\" valign=\"top\">DEFECTIVA</th>\n      <th>Intermediate</th>\n      <td>4</td>\n    </tr>\n    <tr>\n      <th>Resistant</th>\n      <td>6</td>\n    </tr>\n    <tr>\n      <th>Susceptible</th>\n      <td>41</td>\n    </tr>\n    <tr>\n      <th rowspan=\"2\" valign=\"top\">ACHROMOBACTER</th>\n      <th rowspan=\"2\" valign=\"top\"></th>\n      <th>Intermediate</th>\n      <td>16</td>\n    </tr>\n    <tr>\n      <th>Resistant</th>\n      <td>143</td>\n    </tr>\n    <tr>\n      <th>...</th>\n      <th>...</th>\n      <th>...</th>\n      <td>...</td>\n    </tr>\n    <tr>\n      <th rowspan=\"5\" valign=\"top\">YERSINIA</th>\n      <th rowspan=\"2\" valign=\"top\">ENTEROCOLITICA</th>\n      <th>Resistant</th>\n      <td>46</td>\n    </tr>\n    <tr>\n      <th>Susceptible</th>\n      <td>157</td>\n    </tr>\n    <tr>\n      <th rowspan=\"2\" valign=\"top\">FREDERIKSENII</th>\n      <th>Resistant</th>\n      <td>1</td>\n    </tr>\n    <tr>\n      <th>Susceptible</th>\n      <td>5</td>\n    </tr>\n    <tr>\n      <th>ROHDEI</th>\n      <th>Susceptible</th>\n      <td>14</td>\n    </tr>\n  </tbody>\n</table>\n<p>1387 rows × 1 columns</p>\n</div>"
     },
     "execution_count": 6,
     "metadata": {},
     "output_type": "execute_result"
    }
   ],
   "source": [
    "organisims= sens_df[\"ORGANISM\"].unique()\n",
    "\n",
    "def SpitSpeciesGenus(organismRow):\n",
    "    terms = organismRow.split(\" \", maxsplit=1)\n",
    "    if (len(terms) ==1):\n",
    "        return terms[0], \"\"\n",
    "    else:\n",
    "        return terms[0], terms[1]\n",
    "    \n",
    "sens_df[\"genus\"],sens_df[\"species\"] = zip(*sens_df[\"ORGANISM\"].apply(SpitSpeciesGenus))\n",
    "sens_df\n",
    "organisims_list = sens_df[[\"ORGANISM\",\"genus\",\"species\" , \"SUSCEPT\"]].groupby([  \"genus\",\"species\", \"ORGANISM\"\n",
    "                                                                    ]).agg(count=(\"ORGANISM\", \"count\"))\n",
    "organisims_list.to_csv(os.path.join(output_dir,\"pathogen\",f\"bacteria_names_count.csv\" ))\n",
    "\n",
    "genus_list = (sens_df[[\"genus\", \"SUSCEPT\"]].\n",
    "              groupby([  \"genus\", \"SUSCEPT\" ], as_index=False).agg(count=(\"SUSCEPT\", \"count\")))\n",
    "genus_list.sort_values(\"count\", ascending=False).to_csv(os.path.join(output_dir,\"pathogen\",f\"bacteria_genus_suspect_count.csv\" ))\n",
    "genus_list = sens_df[[\"genus\", \"SUSCEPT\"]].groupby([  \"genus\" ], as_index=False).agg(count=(\"SUSCEPT\", \"count\"))\n",
    "genus_list.sort_values(\"count\", ascending=False).to_csv(os.path.join(output_dir,\"pathogen\",f\"bacteria_genus.csv\" ))\n",
    "\n",
    "organisims= sens_df[[\"ORGANISM\",\"genus\",\"species\", \"SUSCEPT\" ]].groupby([\"genus\",\"species\",\"SUSCEPT\" ]).agg(count=(\"ORGANISM\", \"count\"))\n",
    "\n",
    "organisims"
   ],
   "metadata": {
    "collapsed": false,
    "ExecuteTime": {
     "end_time": "2024-05-07T19:32:12.798918Z",
     "start_time": "2024-05-07T19:32:11.026763Z"
    }
   },
   "id": "ef36c671a2e555b3",
   "execution_count": 6
  },
  {
   "cell_type": "code",
   "outputs": [
    {
     "data": {
      "text/plain": "    index    MRN_DI    ZIP_CODE PAT_SEX  \\\n0       0  90000001       92131       M   \n1       1  90000002       92101       F   \n2       2  90000003       92071       M   \n3       3  90000004       92122       F   \n4       4  90000005       92129       M   \n5       5  90000006       92123       M   \n6       6  90000007       91950       M   \n7       7  90000008       92596       F   \n8       8  90000009       91914       M   \n9       9  90000010       91978       F   \n10     10  90000011       92122       F   \n11     11  90000012       92040       M   \n12     12  90000013       92078       M   \n13     13  90000014       92130       F   \n14     14  90000015       92106       F   \n15     15  90000016       92024       M   \n16     16  90000017       92028       M   \n17     17  90000018       92154       M   \n18     18  90000019       92121       M   \n19     19  90000020       92036       M   \n20     20  90000021       92011       F   \n21     21  90000022       92120       M   \n22     22  90000023  92126-2719       F   \n23     23  90000024       92116       F   \n24     24  90000025  92019-4235       M   \n25     25  90000025  92019-4235       M   \n26     26  90000026       92122       M   \n27     27  90000027       92543       M   \n28     28  90000028  92024-6850       F   \n29     29  90000029       92078       F   \n30     30  90000029       92078       F   \n31     31  90000029       92078       F   \n32     32  90000030  91911-3554       M   \n33     33  90000031       91950       M   \n34     34  90000032       92009       F   \n35     35  90000033       92037       M   \n36     36  90000034       92111       M   \n37     37  90000035       92198       F   \n38     38  90000036  92028-9574       F   \n39     39  90000037       92129       F   \n40     40  90000038       92126       F   \n41     41  90000039  92122-5763       F   \n42     42  90000040       92037       M   \n43     43  90000041       92109       M   \n44     44  90000042       92064       F   \n45     45  90000043  92126-3414       M   \n46     46  90000044       92126       M   \n47     47  90000045       92106       F   \n48     48  90000046       95060       M   \n49     49  90000047       90623       M   \n\n                                             PAT_RACE  \n0                                               White  \n1                                               White  \n2                                               White  \n3                                               White  \n4                                               Asian  \n5                                               White  \n6                                               White  \n7                                               White  \n8                            Other Race or Mixed Race  \n9                                               White  \n10                           Other Race or Mixed Race  \n11                                              Asian  \n12  Unknown (Patient cannot or refuses to declare ...  \n13                          Black or African American  \n14                                              Asian  \n15                                              White  \n16                                              White  \n17                           Other Race or Mixed Race  \n18                           Other Race or Mixed Race  \n19                                              White  \n20                           Other Race or Mixed Race  \n21                                              White  \n22                                              White  \n23                                              White  \n24                                              Asian  \n25                                              White  \n26                                              Asian  \n27                          Black or African American  \n28                                              Asian  \n29                          Black or African American  \n30                           Other Race or Mixed Race  \n31                                              White  \n32                           Other Race or Mixed Race  \n33                           Other Race or Mixed Race  \n34                                              White  \n35                                              White  \n36                                              Asian  \n37                                              White  \n38                           Other Race or Mixed Race  \n39                                              Asian  \n40                                              White  \n41                                              Asian  \n42                                              White  \n43                                              White  \n44                                              White  \n45                                              White  \n46  Unknown (Patient cannot or refuses to declare ...  \n47                                              White  \n48                                              White  \n49                                              White  ",
      "text/html": "<div>\n<style scoped>\n    .dataframe tbody tr th:only-of-type {\n        vertical-align: middle;\n    }\n\n    .dataframe tbody tr th {\n        vertical-align: top;\n    }\n\n    .dataframe thead th {\n        text-align: right;\n    }\n</style>\n<table border=\"1\" class=\"dataframe\">\n  <thead>\n    <tr style=\"text-align: right;\">\n      <th></th>\n      <th>index</th>\n      <th>MRN_DI</th>\n      <th>ZIP_CODE</th>\n      <th>PAT_SEX</th>\n      <th>PAT_RACE</th>\n    </tr>\n  </thead>\n  <tbody>\n    <tr>\n      <th>0</th>\n      <td>0</td>\n      <td>90000001</td>\n      <td>92131</td>\n      <td>M</td>\n      <td>White</td>\n    </tr>\n    <tr>\n      <th>1</th>\n      <td>1</td>\n      <td>90000002</td>\n      <td>92101</td>\n      <td>F</td>\n      <td>White</td>\n    </tr>\n    <tr>\n      <th>2</th>\n      <td>2</td>\n      <td>90000003</td>\n      <td>92071</td>\n      <td>M</td>\n      <td>White</td>\n    </tr>\n    <tr>\n      <th>3</th>\n      <td>3</td>\n      <td>90000004</td>\n      <td>92122</td>\n      <td>F</td>\n      <td>White</td>\n    </tr>\n    <tr>\n      <th>4</th>\n      <td>4</td>\n      <td>90000005</td>\n      <td>92129</td>\n      <td>M</td>\n      <td>Asian</td>\n    </tr>\n    <tr>\n      <th>5</th>\n      <td>5</td>\n      <td>90000006</td>\n      <td>92123</td>\n      <td>M</td>\n      <td>White</td>\n    </tr>\n    <tr>\n      <th>6</th>\n      <td>6</td>\n      <td>90000007</td>\n      <td>91950</td>\n      <td>M</td>\n      <td>White</td>\n    </tr>\n    <tr>\n      <th>7</th>\n      <td>7</td>\n      <td>90000008</td>\n      <td>92596</td>\n      <td>F</td>\n      <td>White</td>\n    </tr>\n    <tr>\n      <th>8</th>\n      <td>8</td>\n      <td>90000009</td>\n      <td>91914</td>\n      <td>M</td>\n      <td>Other Race or Mixed Race</td>\n    </tr>\n    <tr>\n      <th>9</th>\n      <td>9</td>\n      <td>90000010</td>\n      <td>91978</td>\n      <td>F</td>\n      <td>White</td>\n    </tr>\n    <tr>\n      <th>10</th>\n      <td>10</td>\n      <td>90000011</td>\n      <td>92122</td>\n      <td>F</td>\n      <td>Other Race or Mixed Race</td>\n    </tr>\n    <tr>\n      <th>11</th>\n      <td>11</td>\n      <td>90000012</td>\n      <td>92040</td>\n      <td>M</td>\n      <td>Asian</td>\n    </tr>\n    <tr>\n      <th>12</th>\n      <td>12</td>\n      <td>90000013</td>\n      <td>92078</td>\n      <td>M</td>\n      <td>Unknown (Patient cannot or refuses to declare ...</td>\n    </tr>\n    <tr>\n      <th>13</th>\n      <td>13</td>\n      <td>90000014</td>\n      <td>92130</td>\n      <td>F</td>\n      <td>Black or African American</td>\n    </tr>\n    <tr>\n      <th>14</th>\n      <td>14</td>\n      <td>90000015</td>\n      <td>92106</td>\n      <td>F</td>\n      <td>Asian</td>\n    </tr>\n    <tr>\n      <th>15</th>\n      <td>15</td>\n      <td>90000016</td>\n      <td>92024</td>\n      <td>M</td>\n      <td>White</td>\n    </tr>\n    <tr>\n      <th>16</th>\n      <td>16</td>\n      <td>90000017</td>\n      <td>92028</td>\n      <td>M</td>\n      <td>White</td>\n    </tr>\n    <tr>\n      <th>17</th>\n      <td>17</td>\n      <td>90000018</td>\n      <td>92154</td>\n      <td>M</td>\n      <td>Other Race or Mixed Race</td>\n    </tr>\n    <tr>\n      <th>18</th>\n      <td>18</td>\n      <td>90000019</td>\n      <td>92121</td>\n      <td>M</td>\n      <td>Other Race or Mixed Race</td>\n    </tr>\n    <tr>\n      <th>19</th>\n      <td>19</td>\n      <td>90000020</td>\n      <td>92036</td>\n      <td>M</td>\n      <td>White</td>\n    </tr>\n    <tr>\n      <th>20</th>\n      <td>20</td>\n      <td>90000021</td>\n      <td>92011</td>\n      <td>F</td>\n      <td>Other Race or Mixed Race</td>\n    </tr>\n    <tr>\n      <th>21</th>\n      <td>21</td>\n      <td>90000022</td>\n      <td>92120</td>\n      <td>M</td>\n      <td>White</td>\n    </tr>\n    <tr>\n      <th>22</th>\n      <td>22</td>\n      <td>90000023</td>\n      <td>92126-2719</td>\n      <td>F</td>\n      <td>White</td>\n    </tr>\n    <tr>\n      <th>23</th>\n      <td>23</td>\n      <td>90000024</td>\n      <td>92116</td>\n      <td>F</td>\n      <td>White</td>\n    </tr>\n    <tr>\n      <th>24</th>\n      <td>24</td>\n      <td>90000025</td>\n      <td>92019-4235</td>\n      <td>M</td>\n      <td>Asian</td>\n    </tr>\n    <tr>\n      <th>25</th>\n      <td>25</td>\n      <td>90000025</td>\n      <td>92019-4235</td>\n      <td>M</td>\n      <td>White</td>\n    </tr>\n    <tr>\n      <th>26</th>\n      <td>26</td>\n      <td>90000026</td>\n      <td>92122</td>\n      <td>M</td>\n      <td>Asian</td>\n    </tr>\n    <tr>\n      <th>27</th>\n      <td>27</td>\n      <td>90000027</td>\n      <td>92543</td>\n      <td>M</td>\n      <td>Black or African American</td>\n    </tr>\n    <tr>\n      <th>28</th>\n      <td>28</td>\n      <td>90000028</td>\n      <td>92024-6850</td>\n      <td>F</td>\n      <td>Asian</td>\n    </tr>\n    <tr>\n      <th>29</th>\n      <td>29</td>\n      <td>90000029</td>\n      <td>92078</td>\n      <td>F</td>\n      <td>Black or African American</td>\n    </tr>\n    <tr>\n      <th>30</th>\n      <td>30</td>\n      <td>90000029</td>\n      <td>92078</td>\n      <td>F</td>\n      <td>Other Race or Mixed Race</td>\n    </tr>\n    <tr>\n      <th>31</th>\n      <td>31</td>\n      <td>90000029</td>\n      <td>92078</td>\n      <td>F</td>\n      <td>White</td>\n    </tr>\n    <tr>\n      <th>32</th>\n      <td>32</td>\n      <td>90000030</td>\n      <td>91911-3554</td>\n      <td>M</td>\n      <td>Other Race or Mixed Race</td>\n    </tr>\n    <tr>\n      <th>33</th>\n      <td>33</td>\n      <td>90000031</td>\n      <td>91950</td>\n      <td>M</td>\n      <td>Other Race or Mixed Race</td>\n    </tr>\n    <tr>\n      <th>34</th>\n      <td>34</td>\n      <td>90000032</td>\n      <td>92009</td>\n      <td>F</td>\n      <td>White</td>\n    </tr>\n    <tr>\n      <th>35</th>\n      <td>35</td>\n      <td>90000033</td>\n      <td>92037</td>\n      <td>M</td>\n      <td>White</td>\n    </tr>\n    <tr>\n      <th>36</th>\n      <td>36</td>\n      <td>90000034</td>\n      <td>92111</td>\n      <td>M</td>\n      <td>Asian</td>\n    </tr>\n    <tr>\n      <th>37</th>\n      <td>37</td>\n      <td>90000035</td>\n      <td>92198</td>\n      <td>F</td>\n      <td>White</td>\n    </tr>\n    <tr>\n      <th>38</th>\n      <td>38</td>\n      <td>90000036</td>\n      <td>92028-9574</td>\n      <td>F</td>\n      <td>Other Race or Mixed Race</td>\n    </tr>\n    <tr>\n      <th>39</th>\n      <td>39</td>\n      <td>90000037</td>\n      <td>92129</td>\n      <td>F</td>\n      <td>Asian</td>\n    </tr>\n    <tr>\n      <th>40</th>\n      <td>40</td>\n      <td>90000038</td>\n      <td>92126</td>\n      <td>F</td>\n      <td>White</td>\n    </tr>\n    <tr>\n      <th>41</th>\n      <td>41</td>\n      <td>90000039</td>\n      <td>92122-5763</td>\n      <td>F</td>\n      <td>Asian</td>\n    </tr>\n    <tr>\n      <th>42</th>\n      <td>42</td>\n      <td>90000040</td>\n      <td>92037</td>\n      <td>M</td>\n      <td>White</td>\n    </tr>\n    <tr>\n      <th>43</th>\n      <td>43</td>\n      <td>90000041</td>\n      <td>92109</td>\n      <td>M</td>\n      <td>White</td>\n    </tr>\n    <tr>\n      <th>44</th>\n      <td>44</td>\n      <td>90000042</td>\n      <td>92064</td>\n      <td>F</td>\n      <td>White</td>\n    </tr>\n    <tr>\n      <th>45</th>\n      <td>45</td>\n      <td>90000043</td>\n      <td>92126-3414</td>\n      <td>M</td>\n      <td>White</td>\n    </tr>\n    <tr>\n      <th>46</th>\n      <td>46</td>\n      <td>90000044</td>\n      <td>92126</td>\n      <td>M</td>\n      <td>Unknown (Patient cannot or refuses to declare ...</td>\n    </tr>\n    <tr>\n      <th>47</th>\n      <td>47</td>\n      <td>90000045</td>\n      <td>92106</td>\n      <td>F</td>\n      <td>White</td>\n    </tr>\n    <tr>\n      <th>48</th>\n      <td>48</td>\n      <td>90000046</td>\n      <td>95060</td>\n      <td>M</td>\n      <td>White</td>\n    </tr>\n    <tr>\n      <th>49</th>\n      <td>49</td>\n      <td>90000047</td>\n      <td>90623</td>\n      <td>M</td>\n      <td>White</td>\n    </tr>\n  </tbody>\n</table>\n</div>"
     },
     "execution_count": 7,
     "metadata": {},
     "output_type": "execute_result"
    }
   ],
   "source": [
    "\n",
    "mrn_zip_gby = demo_df[[\"MRN_DI\",\"ZIP_CODE\",\"PAT_SEX\",\"PAT_RACE\"]].groupby(by=[\"MRN_DI\",\"ZIP_CODE\",'PAT_SEX',\"PAT_RACE\",], as_index=False).count()\n",
    "mrn_zip_df = mrn_zip_gby.reset_index()\n",
    "mrn_zip_df.head(50)"
   ],
   "metadata": {
    "collapsed": false,
    "ExecuteTime": {
     "end_time": "2024-05-07T19:32:19.466269Z",
     "start_time": "2024-05-07T19:32:18.990406Z"
    }
   },
   "id": "c15343c02bd7af98",
   "execution_count": 7
  },
  {
   "cell_type": "code",
   "outputs": [
    {
     "data": {
      "text/plain": "          genus    species               ORGANISM    ANTIBIOTIC       SUSCEPT  \\\n0   ABIOTROPHIA  DEFECTIVA  ABIOTROPHIA DEFECTIVA    Ampicillin     Resistant   \n1   ABIOTROPHIA  DEFECTIVA  ABIOTROPHIA DEFECTIVA    Ampicillin   Susceptible   \n2   ABIOTROPHIA  DEFECTIVA  ABIOTROPHIA DEFECTIVA   Ceftriaxone     Resistant   \n3   ABIOTROPHIA  DEFECTIVA  ABIOTROPHIA DEFECTIVA   Ceftriaxone     Resistant   \n4   ABIOTROPHIA  DEFECTIVA  ABIOTROPHIA DEFECTIVA   Ceftriaxone   Susceptible   \n5   ABIOTROPHIA  DEFECTIVA  ABIOTROPHIA DEFECTIVA   Ceftriaxone   Susceptible   \n6   ABIOTROPHIA  DEFECTIVA  ABIOTROPHIA DEFECTIVA   Ceftriaxone   Susceptible   \n7   ABIOTROPHIA  DEFECTIVA  ABIOTROPHIA DEFECTIVA   Ceftriaxone   Susceptible   \n8   ABIOTROPHIA  DEFECTIVA  ABIOTROPHIA DEFECTIVA   Ceftriaxone   Susceptible   \n9   ABIOTROPHIA  DEFECTIVA  ABIOTROPHIA DEFECTIVA   Ceftriaxone   Susceptible   \n10  ABIOTROPHIA  DEFECTIVA  ABIOTROPHIA DEFECTIVA   Ceftriaxone   Susceptible   \n11  ABIOTROPHIA  DEFECTIVA  ABIOTROPHIA DEFECTIVA   Ceftriaxone   Susceptible   \n12  ABIOTROPHIA  DEFECTIVA  ABIOTROPHIA DEFECTIVA   Ceftriaxone   Susceptible   \n13  ABIOTROPHIA  DEFECTIVA  ABIOTROPHIA DEFECTIVA   Clindamycin   Susceptible   \n14  ABIOTROPHIA  DEFECTIVA  ABIOTROPHIA DEFECTIVA   Clindamycin   Susceptible   \n15  ABIOTROPHIA  DEFECTIVA  ABIOTROPHIA DEFECTIVA   Clindamycin   Susceptible   \n16  ABIOTROPHIA  DEFECTIVA  ABIOTROPHIA DEFECTIVA  Levofloxacin   Susceptible   \n17  ABIOTROPHIA  DEFECTIVA  ABIOTROPHIA DEFECTIVA  Levofloxacin   Susceptible   \n18  ABIOTROPHIA  DEFECTIVA  ABIOTROPHIA DEFECTIVA  Levofloxacin   Susceptible   \n19  ABIOTROPHIA  DEFECTIVA  ABIOTROPHIA DEFECTIVA  Levofloxacin   Susceptible   \n20  ABIOTROPHIA  DEFECTIVA  ABIOTROPHIA DEFECTIVA     Meropenem   Susceptible   \n21  ABIOTROPHIA  DEFECTIVA  ABIOTROPHIA DEFECTIVA     Meropenem   Susceptible   \n22  ABIOTROPHIA  DEFECTIVA  ABIOTROPHIA DEFECTIVA     Meropenem   Susceptible   \n23  ABIOTROPHIA  DEFECTIVA  ABIOTROPHIA DEFECTIVA     Meropenem   Susceptible   \n24  ABIOTROPHIA  DEFECTIVA  ABIOTROPHIA DEFECTIVA     Meropenem   Susceptible   \n25  ABIOTROPHIA  DEFECTIVA  ABIOTROPHIA DEFECTIVA     Meropenem   Susceptible   \n26  ABIOTROPHIA  DEFECTIVA  ABIOTROPHIA DEFECTIVA     Meropenem   Susceptible   \n27  ABIOTROPHIA  DEFECTIVA  ABIOTROPHIA DEFECTIVA     Meropenem   Susceptible   \n28  ABIOTROPHIA  DEFECTIVA  ABIOTROPHIA DEFECTIVA     Meropenem   Susceptible   \n29  ABIOTROPHIA  DEFECTIVA  ABIOTROPHIA DEFECTIVA  Penicillin G  Intermediate   \n30  ABIOTROPHIA  DEFECTIVA  ABIOTROPHIA DEFECTIVA  Penicillin G  Intermediate   \n31  ABIOTROPHIA  DEFECTIVA  ABIOTROPHIA DEFECTIVA  Penicillin G  Intermediate   \n32  ABIOTROPHIA  DEFECTIVA  ABIOTROPHIA DEFECTIVA  Penicillin G  Intermediate   \n33  ABIOTROPHIA  DEFECTIVA  ABIOTROPHIA DEFECTIVA  Penicillin G     Resistant   \n34  ABIOTROPHIA  DEFECTIVA  ABIOTROPHIA DEFECTIVA  Penicillin G     Resistant   \n35  ABIOTROPHIA  DEFECTIVA  ABIOTROPHIA DEFECTIVA  Penicillin G     Resistant   \n36  ABIOTROPHIA  DEFECTIVA  ABIOTROPHIA DEFECTIVA  Penicillin G   Susceptible   \n37  ABIOTROPHIA  DEFECTIVA  ABIOTROPHIA DEFECTIVA  Penicillin G   Susceptible   \n38  ABIOTROPHIA  DEFECTIVA  ABIOTROPHIA DEFECTIVA  Penicillin G   Susceptible   \n39  ABIOTROPHIA  DEFECTIVA  ABIOTROPHIA DEFECTIVA  Penicillin G   Susceptible   \n40  ABIOTROPHIA  DEFECTIVA  ABIOTROPHIA DEFECTIVA    Vancomycin   Susceptible   \n41  ABIOTROPHIA  DEFECTIVA  ABIOTROPHIA DEFECTIVA    Vancomycin   Susceptible   \n42  ABIOTROPHIA  DEFECTIVA  ABIOTROPHIA DEFECTIVA    Vancomycin   Susceptible   \n43  ABIOTROPHIA  DEFECTIVA  ABIOTROPHIA DEFECTIVA    Vancomycin   Susceptible   \n44  ABIOTROPHIA  DEFECTIVA  ABIOTROPHIA DEFECTIVA    Vancomycin   Susceptible   \n45  ABIOTROPHIA  DEFECTIVA  ABIOTROPHIA DEFECTIVA    Vancomycin   Susceptible   \n46  ABIOTROPHIA  DEFECTIVA  ABIOTROPHIA DEFECTIVA    Vancomycin   Susceptible   \n47  ABIOTROPHIA  DEFECTIVA  ABIOTROPHIA DEFECTIVA    Vancomycin   Susceptible   \n48  ABIOTROPHIA  DEFECTIVA  ABIOTROPHIA DEFECTIVA    Vancomycin   Susceptible   \n49  ABIOTROPHIA  DEFECTIVA  ABIOTROPHIA DEFECTIVA    Vancomycin   Susceptible   \n\n      MRN_DI RESULT_DATE  \n0   90225035  2021-02-02  \n1   90028589  2015-05-29  \n2   90028589  2015-05-29  \n3   90259507  2015-08-10  \n4   90000054  2015-10-02  \n5   90011788  2018-12-18  \n6   90036705  2020-10-23  \n7   90038222  2020-04-08  \n8   90073728  2022-01-31  \n9   90080549  2019-06-28  \n10  90115601  2018-08-29  \n11  90153330  2018-02-12  \n12  90177652  2022-05-14  \n13  90073728  2022-01-31  \n14  90153330  2018-02-12  \n15  90177652  2022-05-14  \n16  90073728  2022-01-31  \n17  90115601  2018-08-29  \n18  90153330  2018-02-12  \n19  90177652  2022-05-14  \n20  90000054  2015-10-02  \n21  90011788  2018-12-18  \n22  90036705  2020-10-23  \n23  90038222  2020-04-08  \n24  90073728  2022-01-31  \n25  90080549  2019-06-28  \n26  90115601  2018-08-29  \n27  90153330  2018-02-12  \n28  90177652  2022-05-14  \n29  90011788  2018-12-18  \n30  90036705  2020-10-23  \n31  90073728  2022-01-31  \n32  90153330  2018-02-12  \n33  90115601  2018-08-29  \n34  90225035  2021-02-02  \n35  90259507  2015-08-10  \n36  90000054  2015-10-02  \n37  90038222  2020-04-08  \n38  90080549  2019-06-28  \n39  90177652  2022-05-14  \n40  90000054  2015-10-02  \n41  90011788  2018-12-18  \n42  90028589  2015-05-29  \n43  90036705  2020-10-23  \n44  90038222  2020-04-08  \n45  90073728  2022-01-31  \n46  90080549  2019-06-28  \n47  90115601  2018-08-29  \n48  90153330  2018-02-12  \n49  90177652  2022-05-14  ",
      "text/html": "<div>\n<style scoped>\n    .dataframe tbody tr th:only-of-type {\n        vertical-align: middle;\n    }\n\n    .dataframe tbody tr th {\n        vertical-align: top;\n    }\n\n    .dataframe thead th {\n        text-align: right;\n    }\n</style>\n<table border=\"1\" class=\"dataframe\">\n  <thead>\n    <tr style=\"text-align: right;\">\n      <th></th>\n      <th>genus</th>\n      <th>species</th>\n      <th>ORGANISM</th>\n      <th>ANTIBIOTIC</th>\n      <th>SUSCEPT</th>\n      <th>MRN_DI</th>\n      <th>RESULT_DATE</th>\n    </tr>\n  </thead>\n  <tbody>\n    <tr>\n      <th>0</th>\n      <td>ABIOTROPHIA</td>\n      <td>DEFECTIVA</td>\n      <td>ABIOTROPHIA DEFECTIVA</td>\n      <td>Ampicillin</td>\n      <td>Resistant</td>\n      <td>90225035</td>\n      <td>2021-02-02</td>\n    </tr>\n    <tr>\n      <th>1</th>\n      <td>ABIOTROPHIA</td>\n      <td>DEFECTIVA</td>\n      <td>ABIOTROPHIA DEFECTIVA</td>\n      <td>Ampicillin</td>\n      <td>Susceptible</td>\n      <td>90028589</td>\n      <td>2015-05-29</td>\n    </tr>\n    <tr>\n      <th>2</th>\n      <td>ABIOTROPHIA</td>\n      <td>DEFECTIVA</td>\n      <td>ABIOTROPHIA DEFECTIVA</td>\n      <td>Ceftriaxone</td>\n      <td>Resistant</td>\n      <td>90028589</td>\n      <td>2015-05-29</td>\n    </tr>\n    <tr>\n      <th>3</th>\n      <td>ABIOTROPHIA</td>\n      <td>DEFECTIVA</td>\n      <td>ABIOTROPHIA DEFECTIVA</td>\n      <td>Ceftriaxone</td>\n      <td>Resistant</td>\n      <td>90259507</td>\n      <td>2015-08-10</td>\n    </tr>\n    <tr>\n      <th>4</th>\n      <td>ABIOTROPHIA</td>\n      <td>DEFECTIVA</td>\n      <td>ABIOTROPHIA DEFECTIVA</td>\n      <td>Ceftriaxone</td>\n      <td>Susceptible</td>\n      <td>90000054</td>\n      <td>2015-10-02</td>\n    </tr>\n    <tr>\n      <th>5</th>\n      <td>ABIOTROPHIA</td>\n      <td>DEFECTIVA</td>\n      <td>ABIOTROPHIA DEFECTIVA</td>\n      <td>Ceftriaxone</td>\n      <td>Susceptible</td>\n      <td>90011788</td>\n      <td>2018-12-18</td>\n    </tr>\n    <tr>\n      <th>6</th>\n      <td>ABIOTROPHIA</td>\n      <td>DEFECTIVA</td>\n      <td>ABIOTROPHIA DEFECTIVA</td>\n      <td>Ceftriaxone</td>\n      <td>Susceptible</td>\n      <td>90036705</td>\n      <td>2020-10-23</td>\n    </tr>\n    <tr>\n      <th>7</th>\n      <td>ABIOTROPHIA</td>\n      <td>DEFECTIVA</td>\n      <td>ABIOTROPHIA DEFECTIVA</td>\n      <td>Ceftriaxone</td>\n      <td>Susceptible</td>\n      <td>90038222</td>\n      <td>2020-04-08</td>\n    </tr>\n    <tr>\n      <th>8</th>\n      <td>ABIOTROPHIA</td>\n      <td>DEFECTIVA</td>\n      <td>ABIOTROPHIA DEFECTIVA</td>\n      <td>Ceftriaxone</td>\n      <td>Susceptible</td>\n      <td>90073728</td>\n      <td>2022-01-31</td>\n    </tr>\n    <tr>\n      <th>9</th>\n      <td>ABIOTROPHIA</td>\n      <td>DEFECTIVA</td>\n      <td>ABIOTROPHIA DEFECTIVA</td>\n      <td>Ceftriaxone</td>\n      <td>Susceptible</td>\n      <td>90080549</td>\n      <td>2019-06-28</td>\n    </tr>\n    <tr>\n      <th>10</th>\n      <td>ABIOTROPHIA</td>\n      <td>DEFECTIVA</td>\n      <td>ABIOTROPHIA DEFECTIVA</td>\n      <td>Ceftriaxone</td>\n      <td>Susceptible</td>\n      <td>90115601</td>\n      <td>2018-08-29</td>\n    </tr>\n    <tr>\n      <th>11</th>\n      <td>ABIOTROPHIA</td>\n      <td>DEFECTIVA</td>\n      <td>ABIOTROPHIA DEFECTIVA</td>\n      <td>Ceftriaxone</td>\n      <td>Susceptible</td>\n      <td>90153330</td>\n      <td>2018-02-12</td>\n    </tr>\n    <tr>\n      <th>12</th>\n      <td>ABIOTROPHIA</td>\n      <td>DEFECTIVA</td>\n      <td>ABIOTROPHIA DEFECTIVA</td>\n      <td>Ceftriaxone</td>\n      <td>Susceptible</td>\n      <td>90177652</td>\n      <td>2022-05-14</td>\n    </tr>\n    <tr>\n      <th>13</th>\n      <td>ABIOTROPHIA</td>\n      <td>DEFECTIVA</td>\n      <td>ABIOTROPHIA DEFECTIVA</td>\n      <td>Clindamycin</td>\n      <td>Susceptible</td>\n      <td>90073728</td>\n      <td>2022-01-31</td>\n    </tr>\n    <tr>\n      <th>14</th>\n      <td>ABIOTROPHIA</td>\n      <td>DEFECTIVA</td>\n      <td>ABIOTROPHIA DEFECTIVA</td>\n      <td>Clindamycin</td>\n      <td>Susceptible</td>\n      <td>90153330</td>\n      <td>2018-02-12</td>\n    </tr>\n    <tr>\n      <th>15</th>\n      <td>ABIOTROPHIA</td>\n      <td>DEFECTIVA</td>\n      <td>ABIOTROPHIA DEFECTIVA</td>\n      <td>Clindamycin</td>\n      <td>Susceptible</td>\n      <td>90177652</td>\n      <td>2022-05-14</td>\n    </tr>\n    <tr>\n      <th>16</th>\n      <td>ABIOTROPHIA</td>\n      <td>DEFECTIVA</td>\n      <td>ABIOTROPHIA DEFECTIVA</td>\n      <td>Levofloxacin</td>\n      <td>Susceptible</td>\n      <td>90073728</td>\n      <td>2022-01-31</td>\n    </tr>\n    <tr>\n      <th>17</th>\n      <td>ABIOTROPHIA</td>\n      <td>DEFECTIVA</td>\n      <td>ABIOTROPHIA DEFECTIVA</td>\n      <td>Levofloxacin</td>\n      <td>Susceptible</td>\n      <td>90115601</td>\n      <td>2018-08-29</td>\n    </tr>\n    <tr>\n      <th>18</th>\n      <td>ABIOTROPHIA</td>\n      <td>DEFECTIVA</td>\n      <td>ABIOTROPHIA DEFECTIVA</td>\n      <td>Levofloxacin</td>\n      <td>Susceptible</td>\n      <td>90153330</td>\n      <td>2018-02-12</td>\n    </tr>\n    <tr>\n      <th>19</th>\n      <td>ABIOTROPHIA</td>\n      <td>DEFECTIVA</td>\n      <td>ABIOTROPHIA DEFECTIVA</td>\n      <td>Levofloxacin</td>\n      <td>Susceptible</td>\n      <td>90177652</td>\n      <td>2022-05-14</td>\n    </tr>\n    <tr>\n      <th>20</th>\n      <td>ABIOTROPHIA</td>\n      <td>DEFECTIVA</td>\n      <td>ABIOTROPHIA DEFECTIVA</td>\n      <td>Meropenem</td>\n      <td>Susceptible</td>\n      <td>90000054</td>\n      <td>2015-10-02</td>\n    </tr>\n    <tr>\n      <th>21</th>\n      <td>ABIOTROPHIA</td>\n      <td>DEFECTIVA</td>\n      <td>ABIOTROPHIA DEFECTIVA</td>\n      <td>Meropenem</td>\n      <td>Susceptible</td>\n      <td>90011788</td>\n      <td>2018-12-18</td>\n    </tr>\n    <tr>\n      <th>22</th>\n      <td>ABIOTROPHIA</td>\n      <td>DEFECTIVA</td>\n      <td>ABIOTROPHIA DEFECTIVA</td>\n      <td>Meropenem</td>\n      <td>Susceptible</td>\n      <td>90036705</td>\n      <td>2020-10-23</td>\n    </tr>\n    <tr>\n      <th>23</th>\n      <td>ABIOTROPHIA</td>\n      <td>DEFECTIVA</td>\n      <td>ABIOTROPHIA DEFECTIVA</td>\n      <td>Meropenem</td>\n      <td>Susceptible</td>\n      <td>90038222</td>\n      <td>2020-04-08</td>\n    </tr>\n    <tr>\n      <th>24</th>\n      <td>ABIOTROPHIA</td>\n      <td>DEFECTIVA</td>\n      <td>ABIOTROPHIA DEFECTIVA</td>\n      <td>Meropenem</td>\n      <td>Susceptible</td>\n      <td>90073728</td>\n      <td>2022-01-31</td>\n    </tr>\n    <tr>\n      <th>25</th>\n      <td>ABIOTROPHIA</td>\n      <td>DEFECTIVA</td>\n      <td>ABIOTROPHIA DEFECTIVA</td>\n      <td>Meropenem</td>\n      <td>Susceptible</td>\n      <td>90080549</td>\n      <td>2019-06-28</td>\n    </tr>\n    <tr>\n      <th>26</th>\n      <td>ABIOTROPHIA</td>\n      <td>DEFECTIVA</td>\n      <td>ABIOTROPHIA DEFECTIVA</td>\n      <td>Meropenem</td>\n      <td>Susceptible</td>\n      <td>90115601</td>\n      <td>2018-08-29</td>\n    </tr>\n    <tr>\n      <th>27</th>\n      <td>ABIOTROPHIA</td>\n      <td>DEFECTIVA</td>\n      <td>ABIOTROPHIA DEFECTIVA</td>\n      <td>Meropenem</td>\n      <td>Susceptible</td>\n      <td>90153330</td>\n      <td>2018-02-12</td>\n    </tr>\n    <tr>\n      <th>28</th>\n      <td>ABIOTROPHIA</td>\n      <td>DEFECTIVA</td>\n      <td>ABIOTROPHIA DEFECTIVA</td>\n      <td>Meropenem</td>\n      <td>Susceptible</td>\n      <td>90177652</td>\n      <td>2022-05-14</td>\n    </tr>\n    <tr>\n      <th>29</th>\n      <td>ABIOTROPHIA</td>\n      <td>DEFECTIVA</td>\n      <td>ABIOTROPHIA DEFECTIVA</td>\n      <td>Penicillin G</td>\n      <td>Intermediate</td>\n      <td>90011788</td>\n      <td>2018-12-18</td>\n    </tr>\n    <tr>\n      <th>30</th>\n      <td>ABIOTROPHIA</td>\n      <td>DEFECTIVA</td>\n      <td>ABIOTROPHIA DEFECTIVA</td>\n      <td>Penicillin G</td>\n      <td>Intermediate</td>\n      <td>90036705</td>\n      <td>2020-10-23</td>\n    </tr>\n    <tr>\n      <th>31</th>\n      <td>ABIOTROPHIA</td>\n      <td>DEFECTIVA</td>\n      <td>ABIOTROPHIA DEFECTIVA</td>\n      <td>Penicillin G</td>\n      <td>Intermediate</td>\n      <td>90073728</td>\n      <td>2022-01-31</td>\n    </tr>\n    <tr>\n      <th>32</th>\n      <td>ABIOTROPHIA</td>\n      <td>DEFECTIVA</td>\n      <td>ABIOTROPHIA DEFECTIVA</td>\n      <td>Penicillin G</td>\n      <td>Intermediate</td>\n      <td>90153330</td>\n      <td>2018-02-12</td>\n    </tr>\n    <tr>\n      <th>33</th>\n      <td>ABIOTROPHIA</td>\n      <td>DEFECTIVA</td>\n      <td>ABIOTROPHIA DEFECTIVA</td>\n      <td>Penicillin G</td>\n      <td>Resistant</td>\n      <td>90115601</td>\n      <td>2018-08-29</td>\n    </tr>\n    <tr>\n      <th>34</th>\n      <td>ABIOTROPHIA</td>\n      <td>DEFECTIVA</td>\n      <td>ABIOTROPHIA DEFECTIVA</td>\n      <td>Penicillin G</td>\n      <td>Resistant</td>\n      <td>90225035</td>\n      <td>2021-02-02</td>\n    </tr>\n    <tr>\n      <th>35</th>\n      <td>ABIOTROPHIA</td>\n      <td>DEFECTIVA</td>\n      <td>ABIOTROPHIA DEFECTIVA</td>\n      <td>Penicillin G</td>\n      <td>Resistant</td>\n      <td>90259507</td>\n      <td>2015-08-10</td>\n    </tr>\n    <tr>\n      <th>36</th>\n      <td>ABIOTROPHIA</td>\n      <td>DEFECTIVA</td>\n      <td>ABIOTROPHIA DEFECTIVA</td>\n      <td>Penicillin G</td>\n      <td>Susceptible</td>\n      <td>90000054</td>\n      <td>2015-10-02</td>\n    </tr>\n    <tr>\n      <th>37</th>\n      <td>ABIOTROPHIA</td>\n      <td>DEFECTIVA</td>\n      <td>ABIOTROPHIA DEFECTIVA</td>\n      <td>Penicillin G</td>\n      <td>Susceptible</td>\n      <td>90038222</td>\n      <td>2020-04-08</td>\n    </tr>\n    <tr>\n      <th>38</th>\n      <td>ABIOTROPHIA</td>\n      <td>DEFECTIVA</td>\n      <td>ABIOTROPHIA DEFECTIVA</td>\n      <td>Penicillin G</td>\n      <td>Susceptible</td>\n      <td>90080549</td>\n      <td>2019-06-28</td>\n    </tr>\n    <tr>\n      <th>39</th>\n      <td>ABIOTROPHIA</td>\n      <td>DEFECTIVA</td>\n      <td>ABIOTROPHIA DEFECTIVA</td>\n      <td>Penicillin G</td>\n      <td>Susceptible</td>\n      <td>90177652</td>\n      <td>2022-05-14</td>\n    </tr>\n    <tr>\n      <th>40</th>\n      <td>ABIOTROPHIA</td>\n      <td>DEFECTIVA</td>\n      <td>ABIOTROPHIA DEFECTIVA</td>\n      <td>Vancomycin</td>\n      <td>Susceptible</td>\n      <td>90000054</td>\n      <td>2015-10-02</td>\n    </tr>\n    <tr>\n      <th>41</th>\n      <td>ABIOTROPHIA</td>\n      <td>DEFECTIVA</td>\n      <td>ABIOTROPHIA DEFECTIVA</td>\n      <td>Vancomycin</td>\n      <td>Susceptible</td>\n      <td>90011788</td>\n      <td>2018-12-18</td>\n    </tr>\n    <tr>\n      <th>42</th>\n      <td>ABIOTROPHIA</td>\n      <td>DEFECTIVA</td>\n      <td>ABIOTROPHIA DEFECTIVA</td>\n      <td>Vancomycin</td>\n      <td>Susceptible</td>\n      <td>90028589</td>\n      <td>2015-05-29</td>\n    </tr>\n    <tr>\n      <th>43</th>\n      <td>ABIOTROPHIA</td>\n      <td>DEFECTIVA</td>\n      <td>ABIOTROPHIA DEFECTIVA</td>\n      <td>Vancomycin</td>\n      <td>Susceptible</td>\n      <td>90036705</td>\n      <td>2020-10-23</td>\n    </tr>\n    <tr>\n      <th>44</th>\n      <td>ABIOTROPHIA</td>\n      <td>DEFECTIVA</td>\n      <td>ABIOTROPHIA DEFECTIVA</td>\n      <td>Vancomycin</td>\n      <td>Susceptible</td>\n      <td>90038222</td>\n      <td>2020-04-08</td>\n    </tr>\n    <tr>\n      <th>45</th>\n      <td>ABIOTROPHIA</td>\n      <td>DEFECTIVA</td>\n      <td>ABIOTROPHIA DEFECTIVA</td>\n      <td>Vancomycin</td>\n      <td>Susceptible</td>\n      <td>90073728</td>\n      <td>2022-01-31</td>\n    </tr>\n    <tr>\n      <th>46</th>\n      <td>ABIOTROPHIA</td>\n      <td>DEFECTIVA</td>\n      <td>ABIOTROPHIA DEFECTIVA</td>\n      <td>Vancomycin</td>\n      <td>Susceptible</td>\n      <td>90080549</td>\n      <td>2019-06-28</td>\n    </tr>\n    <tr>\n      <th>47</th>\n      <td>ABIOTROPHIA</td>\n      <td>DEFECTIVA</td>\n      <td>ABIOTROPHIA DEFECTIVA</td>\n      <td>Vancomycin</td>\n      <td>Susceptible</td>\n      <td>90115601</td>\n      <td>2018-08-29</td>\n    </tr>\n    <tr>\n      <th>48</th>\n      <td>ABIOTROPHIA</td>\n      <td>DEFECTIVA</td>\n      <td>ABIOTROPHIA DEFECTIVA</td>\n      <td>Vancomycin</td>\n      <td>Susceptible</td>\n      <td>90153330</td>\n      <td>2018-02-12</td>\n    </tr>\n    <tr>\n      <th>49</th>\n      <td>ABIOTROPHIA</td>\n      <td>DEFECTIVA</td>\n      <td>ABIOTROPHIA DEFECTIVA</td>\n      <td>Vancomycin</td>\n      <td>Susceptible</td>\n      <td>90177652</td>\n      <td>2022-05-14</td>\n    </tr>\n  </tbody>\n</table>\n</div>"
     },
     "execution_count": 8,
     "metadata": {},
     "output_type": "execute_result"
    }
   ],
   "source": [
    "sens_org_gby = sens_df[[\"MRN_DI\",\"genus\", \"species\", \"ORGANISM\",\"RESULT_DATE\",\"SUSCEPT\",\"ANTIBIOTIC\" ]].groupby(by=[\"genus\", \"species\",\"ORGANISM\",\"ANTIBIOTIC\",\"SUSCEPT\",\"MRN_DI\",\"RESULT_DATE\" ]).count()\n",
    "sens_org_df= sens_org_gby.reset_index()\n",
    "sens_org_df.head(50)"
   ],
   "metadata": {
    "collapsed": false,
    "ExecuteTime": {
     "end_time": "2024-05-07T19:32:23.836549Z",
     "start_time": "2024-05-07T19:32:23.205621Z"
    }
   },
   "id": "417f96d8902e6b71",
   "execution_count": 8
  },
  {
   "cell_type": "code",
   "outputs": [],
   "source": [
    "join_df = pd.merge( mrn_zip_df, sens_org_df, on=\"MRN_DI\" )\n",
    "join_df.drop([\"MRN_DI\",'index'], axis=1, inplace=True)\n",
    "join_df.head(50)\n",
    "join_df.to_csv(os.path.join(output_dir,\"merged\", \"bacteria_suspect_zip.csv\"), index=False)"
   ],
   "metadata": {
    "collapsed": false,
    "ExecuteTime": {
     "end_time": "2024-05-07T19:32:33.244783Z",
     "start_time": "2024-05-07T19:32:30.348436Z"
    }
   },
   "id": "1e9898a4d43f2d1b",
   "execution_count": 9
  },
  {
   "cell_type": "code",
   "outputs": [
    {
     "name": "stdout",
     "output_type": "stream",
     "text": [
      "<class 'pandas.core.frame.DataFrame'>\n",
      "RangeIndex: 93803 entries, 0 to 93802\n",
      "Data columns (total 4 columns):\n",
      " #   Column       Non-Null Count  Dtype         \n",
      "---  ------       --------------  -----         \n",
      " 0   ZIP_CODE     93803 non-null  object        \n",
      " 1   RESULT_DATE  93803 non-null  datetime64[ns]\n",
      " 2   genus        93803 non-null  object        \n",
      " 3   count        93803 non-null  int64         \n",
      "dtypes: datetime64[ns](1), int64(1), object(2)\n",
      "memory usage: 2.9+ MB\n"
     ]
    }
   ],
   "source": [
    "\n",
    "join_short_gby = join_df.groupby(by=[\"ZIP_CODE\",\"RESULT_DATE\",\"genus\" \n",
    "                                            ], as_index=False).agg(count=(\"ORGANISM\", \"count\"))\n",
    "\n",
    "join_short_gby.to_csv(os.path.join(output_dir,\"merged\", \"bacteria_genus_date_zip.csv\"), index=False)\n",
    "join_short_gby.info()"
   ],
   "metadata": {
    "collapsed": false,
    "ExecuteTime": {
     "end_time": "2024-05-07T19:52:55.832012Z",
     "start_time": "2024-05-07T19:52:55.566811Z"
    }
   },
   "id": "be99a23f1b19ae5e",
   "execution_count": 12
  },
  {
   "cell_type": "markdown",
   "source": [
    "Dataframe for generating Zip Code layers"
   ],
   "metadata": {
    "collapsed": false
   },
   "id": "5e12b39f81a2b702"
  },
  {
   "cell_type": "code",
   "outputs": [],
   "source": [],
   "metadata": {
    "collapsed": false
   },
   "id": "805489c7bc3736b4",
   "execution_count": null
  },
  {
   "cell_type": "code",
   "outputs": [],
   "source": [
    "bacteria_genus_date_zip=pd.merge( uszip_gdf, join_short_gby, on=\"ZIP_CODE\" )\n",
    "bacteria_genus_date_zip.head()\n",
    "bacteria_genus_date_zip.to_file(os.path.join(output_dir,\"merged\", \"bacteria_genus_date_zip.geojson\" ) , driver='GeoJSON')"
   ],
   "metadata": {
    "collapsed": false,
    "ExecuteTime": {
     "end_time": "2024-05-07T19:54:24.136298Z",
     "start_time": "2024-05-07T19:54:20.598963Z"
    }
   },
   "id": "c5d6d7e4a34537ef",
   "execution_count": 14
  },
  {
   "cell_type": "code",
   "outputs": [
    {
     "name": "stdout",
     "output_type": "stream",
     "text": [
      "<class 'pandas.core.frame.DataFrame'>\n",
      "RangeIndex: 64174 entries, 0 to 64173\n",
      "Data columns (total 3 columns):\n",
      " #   Column       Non-Null Count  Dtype         \n",
      "---  ------       --------------  -----         \n",
      " 0   ZIP_CODE     64174 non-null  object        \n",
      " 1   RESULT_DATE  64174 non-null  datetime64[ns]\n",
      " 2   count        64174 non-null  int64         \n",
      "dtypes: datetime64[ns](1), int64(1), object(1)\n",
      "memory usage: 1.5+ MB\n"
     ]
    }
   ],
   "source": [
    "join_short_gby = join_df.groupby(by=[\"ZIP_CODE\"\n",
    "                                           ,\"RESULT_DATE\", ], as_index=False).agg(count=(\"genus\", \"count\"))\n",
    "join_short_gby.to_csv(os.path.join(output_dir,\"merged\", \"bacteria_date_count_zip.csv\"), index=False)\n",
    "join_short_gby.info()"
   ],
   "metadata": {
    "collapsed": false,
    "ExecuteTime": {
     "end_time": "2024-05-07T19:49:24.051580Z",
     "start_time": "2024-05-07T19:49:23.843406Z"
    }
   },
   "id": "618d3c0959a58881",
   "execution_count": 11
  },
  {
   "cell_type": "code",
   "outputs": [
    {
     "name": "stdout",
     "output_type": "stream",
     "text": [
      "<class 'pandas.core.frame.DataFrame'>\n",
      "RangeIndex: 1828 entries, 0 to 1827\n",
      "Data columns (total 2 columns):\n",
      " #   Column    Non-Null Count  Dtype \n",
      "---  ------    --------------  ----- \n",
      " 0   ZIP_CODE  1828 non-null   object\n",
      " 1   count     1828 non-null   int64 \n",
      "dtypes: int64(1), object(1)\n",
      "memory usage: 28.7+ KB\n"
     ]
    }
   ],
   "source": [
    "join_short_gby = join_df.groupby(by=[\"ZIP_CODE\"\n",
    "                                            ], as_index=False).agg(count=(\"genus\", \"count\"))\n",
    "\n",
    "join_short_gby.to_csv(os.path.join(output_dir,\"merged\", \"bacteria_zip_count.csv\"), index=False)\n",
    "join_short_gby.info()"
   ],
   "metadata": {
    "collapsed": false,
    "ExecuteTime": {
     "end_time": "2024-05-04T21:57:32.102135Z",
     "start_time": "2024-05-04T21:57:32.017688Z"
    }
   },
   "id": "f142127d88235967",
   "execution_count": 13
  },
  {
   "cell_type": "code",
   "outputs": [
    {
     "name": "stdout",
     "output_type": "stream",
     "text": [
      "<class 'pandas.core.frame.DataFrame'>\n",
      "RangeIndex: 8591 entries, 0 to 8590\n",
      "Data columns (total 3 columns):\n",
      " #   Column    Non-Null Count  Dtype \n",
      "---  ------    --------------  ----- \n",
      " 0   ZIP_CODE  8591 non-null   object\n",
      " 1   genus     8591 non-null   object\n",
      " 2   count     8591 non-null   int64 \n",
      "dtypes: int64(1), object(2)\n",
      "memory usage: 201.5+ KB\n"
     ]
    }
   ],
   "source": [
    "\n",
    "join_short_gby = join_df.groupby(by=[\"ZIP_CODE\",\"genus\" \n",
    "                                            ], as_index=False).agg(count=(\"ORGANISM\", \"count\"))\n",
    "\n",
    "join_short_gby.to_csv(os.path.join(output_dir,\"merged\", \"bacteria_genus_zip.csv\"), index=False)\n",
    "join_short_gby.info()"
   ],
   "metadata": {
    "collapsed": false,
    "ExecuteTime": {
     "end_time": "2024-05-04T21:57:35.423386Z",
     "start_time": "2024-05-04T21:57:35.286755Z"
    }
   },
   "id": "62d105fccb16d79e",
   "execution_count": 14
  },
  {
   "cell_type": "code",
   "outputs": [
    {
     "data": {
      "text/plain": "   ZIP_CODE         genus                    species  \\\n0     90001          ESBL           ESCHERICHIA COLI   \n1     90001          ESBL           ESCHERICHIA COLI   \n2     90001          ESBL           ESCHERICHIA COLI   \n3     90001          ESBL           ESCHERICHIA COLI   \n4     90001          ESBL           ESCHERICHIA COLI   \n5     90001          ESBL           ESCHERICHIA COLI   \n6     90001          ESBL           ESCHERICHIA COLI   \n7     90001          ESBL           ESCHERICHIA COLI   \n8     90001          ESBL           ESCHERICHIA COLI   \n9     90001          ESBL           ESCHERICHIA COLI   \n10    90001          ESBL           ESCHERICHIA COLI   \n11    90001          ESBL           ESCHERICHIA COLI   \n12    90001          ESBL           ESCHERICHIA COLI   \n13    90001          ESBL           ESCHERICHIA COLI   \n14    90001          ESBL           ESCHERICHIA COLI   \n15    90001          ESBL           ESCHERICHIA COLI   \n16    90002       CANDIDA                   GLABRATA   \n17    90002       CANDIDA                   GLABRATA   \n18    90002  ENTEROCOCCUS                   FAECALIS   \n19    90002  ENTEROCOCCUS                   FAECALIS   \n20    90002  ENTEROCOCCUS                   FAECALIS   \n21    90002  ENTEROCOCCUS                   FAECALIS   \n22    90002  ENTEROCOCCUS                   FAECALIS   \n23    90002  ENTEROCOCCUS                   FAECALIS   \n24    90002   ESCHERICHIA                       COLI   \n25    90002   ESCHERICHIA                       COLI   \n26    90002   ESCHERICHIA                       COLI   \n27    90002   ESCHERICHIA                       COLI   \n28    90002   ESCHERICHIA                       COLI   \n29    90002   ESCHERICHIA                       COLI   \n30    90002   ESCHERICHIA                       COLI   \n31    90002   ESCHERICHIA                       COLI   \n32    90002   ESCHERICHIA                       COLI   \n33    90002   ESCHERICHIA                       COLI   \n34    90002   ESCHERICHIA                       COLI   \n35    90002   ESCHERICHIA                       COLI   \n36    90002   ESCHERICHIA                       COLI   \n37    90002   ESCHERICHIA                       COLI   \n38    90002   ESCHERICHIA                       COLI   \n39    90002   ESCHERICHIA                       COLI   \n40    90002   ESCHERICHIA                       COLI   \n41    90002   ESCHERICHIA                       COLI   \n42    90002   ESCHERICHIA                       COLI   \n43    90002   ESCHERICHIA                       COLI   \n44    90002   ESCHERICHIA                       COLI   \n45    90002   ESCHERICHIA                       COLI   \n46    90002    KLEBSIELLA  PNEUMONIAE SS. PNEUMONIAE   \n47    90002    KLEBSIELLA  PNEUMONIAE SS. PNEUMONIAE   \n48    90002    KLEBSIELLA  PNEUMONIAE SS. PNEUMONIAE   \n49    90002    KLEBSIELLA  PNEUMONIAE SS. PNEUMONIAE   \n\n                       ANTIBIOTIC         SUSCEPT  count  \n0                        Amikacin     Susceptible      1  \n1                      Ampicillin       Resistant      1  \n2            Ampicillin/Sulbactam       Resistant      1  \n3                       Cefazolin       Resistant      1  \n4                        Cefepime       Resistant      1  \n5                       Cefoxitin       Resistant      1  \n6                     Ceftazidime       Resistant      1  \n7                     Ceftriaxone       Resistant      1  \n8                   Ciprofloxacin     Susceptible      1  \n9                       Ertapenem     Susceptible      1  \n10                     Gentamicin     Susceptible      1  \n11                      Meropenem     Susceptible      1  \n12                 Nitrofurantoin    Intermediate      1  \n13        Piperacillin/Tazobactam       Resistant      1  \n14                     Tobramycin     Susceptible      1  \n15  Trimethoprim/Sulfamethoxazole       Resistant      1  \n16                    Fluconazole  Dose Dependent      1  \n17                     Micafungin    Intermediate      1  \n18                     Ampicillin     Susceptible      1  \n19                     Daptomycin     Susceptible      1  \n20                      Linezolid     Susceptible      1  \n21                 Nitrofurantoin     Susceptible      1  \n22                   Penicillin G     Susceptible      1  \n23                     Vancomycin     Susceptible      1  \n24                       Amikacin     Susceptible      3  \n25                     Ampicillin       Resistant      1  \n26                     Ampicillin     Susceptible      2  \n27           Ampicillin/Sulbactam    Intermediate      1  \n28           Ampicillin/Sulbactam       Resistant      1  \n29           Ampicillin/Sulbactam     Susceptible      2  \n30                      Cefazolin       Resistant      1  \n31                      Cefazolin     Susceptible      3  \n32                       Cefepime     Susceptible      3  \n33                    Ceftazidime     Susceptible      3  \n34                    Ceftriaxone       Resistant      1  \n35                    Ceftriaxone     Susceptible      3  \n36                  Ciprofloxacin       Resistant      1  \n37                  Ciprofloxacin     Susceptible      2  \n38                      Ertapenem     Susceptible      3  \n39                     Gentamicin     Susceptible      3  \n40                      Meropenem     Susceptible      3  \n41                 Nitrofurantoin     Susceptible      3  \n42        Piperacillin/Tazobactam     Susceptible      3  \n43                     Tobramycin     Susceptible      3  \n44  Trimethoprim/Sulfamethoxazole       Resistant      1  \n45  Trimethoprim/Sulfamethoxazole     Susceptible      2  \n46                       Amikacin     Susceptible      5  \n47                     Ampicillin       Resistant      5  \n48           Ampicillin/Sulbactam     Susceptible      5  \n49                      Cefazolin     Susceptible      5  ",
      "text/html": "<div>\n<style scoped>\n    .dataframe tbody tr th:only-of-type {\n        vertical-align: middle;\n    }\n\n    .dataframe tbody tr th {\n        vertical-align: top;\n    }\n\n    .dataframe thead th {\n        text-align: right;\n    }\n</style>\n<table border=\"1\" class=\"dataframe\">\n  <thead>\n    <tr style=\"text-align: right;\">\n      <th></th>\n      <th>ZIP_CODE</th>\n      <th>genus</th>\n      <th>species</th>\n      <th>ANTIBIOTIC</th>\n      <th>SUSCEPT</th>\n      <th>count</th>\n    </tr>\n  </thead>\n  <tbody>\n    <tr>\n      <th>0</th>\n      <td>90001</td>\n      <td>ESBL</td>\n      <td>ESCHERICHIA COLI</td>\n      <td>Amikacin</td>\n      <td>Susceptible</td>\n      <td>1</td>\n    </tr>\n    <tr>\n      <th>1</th>\n      <td>90001</td>\n      <td>ESBL</td>\n      <td>ESCHERICHIA COLI</td>\n      <td>Ampicillin</td>\n      <td>Resistant</td>\n      <td>1</td>\n    </tr>\n    <tr>\n      <th>2</th>\n      <td>90001</td>\n      <td>ESBL</td>\n      <td>ESCHERICHIA COLI</td>\n      <td>Ampicillin/Sulbactam</td>\n      <td>Resistant</td>\n      <td>1</td>\n    </tr>\n    <tr>\n      <th>3</th>\n      <td>90001</td>\n      <td>ESBL</td>\n      <td>ESCHERICHIA COLI</td>\n      <td>Cefazolin</td>\n      <td>Resistant</td>\n      <td>1</td>\n    </tr>\n    <tr>\n      <th>4</th>\n      <td>90001</td>\n      <td>ESBL</td>\n      <td>ESCHERICHIA COLI</td>\n      <td>Cefepime</td>\n      <td>Resistant</td>\n      <td>1</td>\n    </tr>\n    <tr>\n      <th>5</th>\n      <td>90001</td>\n      <td>ESBL</td>\n      <td>ESCHERICHIA COLI</td>\n      <td>Cefoxitin</td>\n      <td>Resistant</td>\n      <td>1</td>\n    </tr>\n    <tr>\n      <th>6</th>\n      <td>90001</td>\n      <td>ESBL</td>\n      <td>ESCHERICHIA COLI</td>\n      <td>Ceftazidime</td>\n      <td>Resistant</td>\n      <td>1</td>\n    </tr>\n    <tr>\n      <th>7</th>\n      <td>90001</td>\n      <td>ESBL</td>\n      <td>ESCHERICHIA COLI</td>\n      <td>Ceftriaxone</td>\n      <td>Resistant</td>\n      <td>1</td>\n    </tr>\n    <tr>\n      <th>8</th>\n      <td>90001</td>\n      <td>ESBL</td>\n      <td>ESCHERICHIA COLI</td>\n      <td>Ciprofloxacin</td>\n      <td>Susceptible</td>\n      <td>1</td>\n    </tr>\n    <tr>\n      <th>9</th>\n      <td>90001</td>\n      <td>ESBL</td>\n      <td>ESCHERICHIA COLI</td>\n      <td>Ertapenem</td>\n      <td>Susceptible</td>\n      <td>1</td>\n    </tr>\n    <tr>\n      <th>10</th>\n      <td>90001</td>\n      <td>ESBL</td>\n      <td>ESCHERICHIA COLI</td>\n      <td>Gentamicin</td>\n      <td>Susceptible</td>\n      <td>1</td>\n    </tr>\n    <tr>\n      <th>11</th>\n      <td>90001</td>\n      <td>ESBL</td>\n      <td>ESCHERICHIA COLI</td>\n      <td>Meropenem</td>\n      <td>Susceptible</td>\n      <td>1</td>\n    </tr>\n    <tr>\n      <th>12</th>\n      <td>90001</td>\n      <td>ESBL</td>\n      <td>ESCHERICHIA COLI</td>\n      <td>Nitrofurantoin</td>\n      <td>Intermediate</td>\n      <td>1</td>\n    </tr>\n    <tr>\n      <th>13</th>\n      <td>90001</td>\n      <td>ESBL</td>\n      <td>ESCHERICHIA COLI</td>\n      <td>Piperacillin/Tazobactam</td>\n      <td>Resistant</td>\n      <td>1</td>\n    </tr>\n    <tr>\n      <th>14</th>\n      <td>90001</td>\n      <td>ESBL</td>\n      <td>ESCHERICHIA COLI</td>\n      <td>Tobramycin</td>\n      <td>Susceptible</td>\n      <td>1</td>\n    </tr>\n    <tr>\n      <th>15</th>\n      <td>90001</td>\n      <td>ESBL</td>\n      <td>ESCHERICHIA COLI</td>\n      <td>Trimethoprim/Sulfamethoxazole</td>\n      <td>Resistant</td>\n      <td>1</td>\n    </tr>\n    <tr>\n      <th>16</th>\n      <td>90002</td>\n      <td>CANDIDA</td>\n      <td>GLABRATA</td>\n      <td>Fluconazole</td>\n      <td>Dose Dependent</td>\n      <td>1</td>\n    </tr>\n    <tr>\n      <th>17</th>\n      <td>90002</td>\n      <td>CANDIDA</td>\n      <td>GLABRATA</td>\n      <td>Micafungin</td>\n      <td>Intermediate</td>\n      <td>1</td>\n    </tr>\n    <tr>\n      <th>18</th>\n      <td>90002</td>\n      <td>ENTEROCOCCUS</td>\n      <td>FAECALIS</td>\n      <td>Ampicillin</td>\n      <td>Susceptible</td>\n      <td>1</td>\n    </tr>\n    <tr>\n      <th>19</th>\n      <td>90002</td>\n      <td>ENTEROCOCCUS</td>\n      <td>FAECALIS</td>\n      <td>Daptomycin</td>\n      <td>Susceptible</td>\n      <td>1</td>\n    </tr>\n    <tr>\n      <th>20</th>\n      <td>90002</td>\n      <td>ENTEROCOCCUS</td>\n      <td>FAECALIS</td>\n      <td>Linezolid</td>\n      <td>Susceptible</td>\n      <td>1</td>\n    </tr>\n    <tr>\n      <th>21</th>\n      <td>90002</td>\n      <td>ENTEROCOCCUS</td>\n      <td>FAECALIS</td>\n      <td>Nitrofurantoin</td>\n      <td>Susceptible</td>\n      <td>1</td>\n    </tr>\n    <tr>\n      <th>22</th>\n      <td>90002</td>\n      <td>ENTEROCOCCUS</td>\n      <td>FAECALIS</td>\n      <td>Penicillin G</td>\n      <td>Susceptible</td>\n      <td>1</td>\n    </tr>\n    <tr>\n      <th>23</th>\n      <td>90002</td>\n      <td>ENTEROCOCCUS</td>\n      <td>FAECALIS</td>\n      <td>Vancomycin</td>\n      <td>Susceptible</td>\n      <td>1</td>\n    </tr>\n    <tr>\n      <th>24</th>\n      <td>90002</td>\n      <td>ESCHERICHIA</td>\n      <td>COLI</td>\n      <td>Amikacin</td>\n      <td>Susceptible</td>\n      <td>3</td>\n    </tr>\n    <tr>\n      <th>25</th>\n      <td>90002</td>\n      <td>ESCHERICHIA</td>\n      <td>COLI</td>\n      <td>Ampicillin</td>\n      <td>Resistant</td>\n      <td>1</td>\n    </tr>\n    <tr>\n      <th>26</th>\n      <td>90002</td>\n      <td>ESCHERICHIA</td>\n      <td>COLI</td>\n      <td>Ampicillin</td>\n      <td>Susceptible</td>\n      <td>2</td>\n    </tr>\n    <tr>\n      <th>27</th>\n      <td>90002</td>\n      <td>ESCHERICHIA</td>\n      <td>COLI</td>\n      <td>Ampicillin/Sulbactam</td>\n      <td>Intermediate</td>\n      <td>1</td>\n    </tr>\n    <tr>\n      <th>28</th>\n      <td>90002</td>\n      <td>ESCHERICHIA</td>\n      <td>COLI</td>\n      <td>Ampicillin/Sulbactam</td>\n      <td>Resistant</td>\n      <td>1</td>\n    </tr>\n    <tr>\n      <th>29</th>\n      <td>90002</td>\n      <td>ESCHERICHIA</td>\n      <td>COLI</td>\n      <td>Ampicillin/Sulbactam</td>\n      <td>Susceptible</td>\n      <td>2</td>\n    </tr>\n    <tr>\n      <th>30</th>\n      <td>90002</td>\n      <td>ESCHERICHIA</td>\n      <td>COLI</td>\n      <td>Cefazolin</td>\n      <td>Resistant</td>\n      <td>1</td>\n    </tr>\n    <tr>\n      <th>31</th>\n      <td>90002</td>\n      <td>ESCHERICHIA</td>\n      <td>COLI</td>\n      <td>Cefazolin</td>\n      <td>Susceptible</td>\n      <td>3</td>\n    </tr>\n    <tr>\n      <th>32</th>\n      <td>90002</td>\n      <td>ESCHERICHIA</td>\n      <td>COLI</td>\n      <td>Cefepime</td>\n      <td>Susceptible</td>\n      <td>3</td>\n    </tr>\n    <tr>\n      <th>33</th>\n      <td>90002</td>\n      <td>ESCHERICHIA</td>\n      <td>COLI</td>\n      <td>Ceftazidime</td>\n      <td>Susceptible</td>\n      <td>3</td>\n    </tr>\n    <tr>\n      <th>34</th>\n      <td>90002</td>\n      <td>ESCHERICHIA</td>\n      <td>COLI</td>\n      <td>Ceftriaxone</td>\n      <td>Resistant</td>\n      <td>1</td>\n    </tr>\n    <tr>\n      <th>35</th>\n      <td>90002</td>\n      <td>ESCHERICHIA</td>\n      <td>COLI</td>\n      <td>Ceftriaxone</td>\n      <td>Susceptible</td>\n      <td>3</td>\n    </tr>\n    <tr>\n      <th>36</th>\n      <td>90002</td>\n      <td>ESCHERICHIA</td>\n      <td>COLI</td>\n      <td>Ciprofloxacin</td>\n      <td>Resistant</td>\n      <td>1</td>\n    </tr>\n    <tr>\n      <th>37</th>\n      <td>90002</td>\n      <td>ESCHERICHIA</td>\n      <td>COLI</td>\n      <td>Ciprofloxacin</td>\n      <td>Susceptible</td>\n      <td>2</td>\n    </tr>\n    <tr>\n      <th>38</th>\n      <td>90002</td>\n      <td>ESCHERICHIA</td>\n      <td>COLI</td>\n      <td>Ertapenem</td>\n      <td>Susceptible</td>\n      <td>3</td>\n    </tr>\n    <tr>\n      <th>39</th>\n      <td>90002</td>\n      <td>ESCHERICHIA</td>\n      <td>COLI</td>\n      <td>Gentamicin</td>\n      <td>Susceptible</td>\n      <td>3</td>\n    </tr>\n    <tr>\n      <th>40</th>\n      <td>90002</td>\n      <td>ESCHERICHIA</td>\n      <td>COLI</td>\n      <td>Meropenem</td>\n      <td>Susceptible</td>\n      <td>3</td>\n    </tr>\n    <tr>\n      <th>41</th>\n      <td>90002</td>\n      <td>ESCHERICHIA</td>\n      <td>COLI</td>\n      <td>Nitrofurantoin</td>\n      <td>Susceptible</td>\n      <td>3</td>\n    </tr>\n    <tr>\n      <th>42</th>\n      <td>90002</td>\n      <td>ESCHERICHIA</td>\n      <td>COLI</td>\n      <td>Piperacillin/Tazobactam</td>\n      <td>Susceptible</td>\n      <td>3</td>\n    </tr>\n    <tr>\n      <th>43</th>\n      <td>90002</td>\n      <td>ESCHERICHIA</td>\n      <td>COLI</td>\n      <td>Tobramycin</td>\n      <td>Susceptible</td>\n      <td>3</td>\n    </tr>\n    <tr>\n      <th>44</th>\n      <td>90002</td>\n      <td>ESCHERICHIA</td>\n      <td>COLI</td>\n      <td>Trimethoprim/Sulfamethoxazole</td>\n      <td>Resistant</td>\n      <td>1</td>\n    </tr>\n    <tr>\n      <th>45</th>\n      <td>90002</td>\n      <td>ESCHERICHIA</td>\n      <td>COLI</td>\n      <td>Trimethoprim/Sulfamethoxazole</td>\n      <td>Susceptible</td>\n      <td>2</td>\n    </tr>\n    <tr>\n      <th>46</th>\n      <td>90002</td>\n      <td>KLEBSIELLA</td>\n      <td>PNEUMONIAE SS. PNEUMONIAE</td>\n      <td>Amikacin</td>\n      <td>Susceptible</td>\n      <td>5</td>\n    </tr>\n    <tr>\n      <th>47</th>\n      <td>90002</td>\n      <td>KLEBSIELLA</td>\n      <td>PNEUMONIAE SS. PNEUMONIAE</td>\n      <td>Ampicillin</td>\n      <td>Resistant</td>\n      <td>5</td>\n    </tr>\n    <tr>\n      <th>48</th>\n      <td>90002</td>\n      <td>KLEBSIELLA</td>\n      <td>PNEUMONIAE SS. PNEUMONIAE</td>\n      <td>Ampicillin/Sulbactam</td>\n      <td>Susceptible</td>\n      <td>5</td>\n    </tr>\n    <tr>\n      <th>49</th>\n      <td>90002</td>\n      <td>KLEBSIELLA</td>\n      <td>PNEUMONIAE SS. PNEUMONIAE</td>\n      <td>Cefazolin</td>\n      <td>Susceptible</td>\n      <td>5</td>\n    </tr>\n  </tbody>\n</table>\n</div>"
     },
     "execution_count": 15,
     "metadata": {},
     "output_type": "execute_result"
    }
   ],
   "source": [
    "sens_org_antibotic_gby = join_df[[\"ZIP_CODE\",\"genus\", \"species\", \"SUSCEPT\",\"ANTIBIOTIC\" ]].groupby(by=[\"ZIP_CODE\", \"genus\", \"species\",\"ANTIBIOTIC\",\"SUSCEPT\"], as_index=False).agg(count=(\"SUSCEPT\", \"count\"))\n",
    " \n",
    "sens_org_antibotic_gby.head(50)"
   ],
   "metadata": {
    "collapsed": false,
    "ExecuteTime": {
     "end_time": "2024-05-04T21:57:38.629277Z",
     "start_time": "2024-05-04T21:57:38.246030Z"
    }
   },
   "id": "aa4d4bf23a4db041",
   "execution_count": 15
  },
  {
   "cell_type": "markdown",
   "source": [
    "BY GENUS"
   ],
   "metadata": {
    "collapsed": false
   },
   "id": "9a944d55db5acb88"
  },
  {
   "cell_type": "code",
   "outputs": [
    {
     "name": "stdout",
     "output_type": "stream",
     "text": [
      "<class 'pandas.core.frame.DataFrame'>\n",
      "RangeIndex: 8591 entries, 0 to 8590\n",
      "Data columns (total 3 columns):\n",
      " #   Column    Non-Null Count  Dtype \n",
      "---  ------    --------------  ----- \n",
      " 0   ZIP_CODE  8591 non-null   object\n",
      " 1   genus     8591 non-null   object\n",
      " 2   count     8591 non-null   int64 \n",
      "dtypes: int64(1), object(2)\n",
      "memory usage: 201.5+ KB\n"
     ]
    },
    {
     "data": {
      "text/plain": "   ZIP_CODE         genus  count\n0     90001          ESBL     16\n1     90002       CANDIDA      2\n2     90002  ENTEROCOCCUS      6\n3     90002   ESCHERICHIA     48\n4     90002    KLEBSIELLA     72\n..      ...           ...    ...\n95    90094    KLEBSIELLA     15\n96    90094       PROTEUS     28\n97    90201   ESCHERICHIA     32\n98    90211  ENTEROCOCCUS      6\n99    90211   ESCHERICHIA     32\n\n[100 rows x 3 columns]",
      "text/html": "<div>\n<style scoped>\n    .dataframe tbody tr th:only-of-type {\n        vertical-align: middle;\n    }\n\n    .dataframe tbody tr th {\n        vertical-align: top;\n    }\n\n    .dataframe thead th {\n        text-align: right;\n    }\n</style>\n<table border=\"1\" class=\"dataframe\">\n  <thead>\n    <tr style=\"text-align: right;\">\n      <th></th>\n      <th>ZIP_CODE</th>\n      <th>genus</th>\n      <th>count</th>\n    </tr>\n  </thead>\n  <tbody>\n    <tr>\n      <th>0</th>\n      <td>90001</td>\n      <td>ESBL</td>\n      <td>16</td>\n    </tr>\n    <tr>\n      <th>1</th>\n      <td>90002</td>\n      <td>CANDIDA</td>\n      <td>2</td>\n    </tr>\n    <tr>\n      <th>2</th>\n      <td>90002</td>\n      <td>ENTEROCOCCUS</td>\n      <td>6</td>\n    </tr>\n    <tr>\n      <th>3</th>\n      <td>90002</td>\n      <td>ESCHERICHIA</td>\n      <td>48</td>\n    </tr>\n    <tr>\n      <th>4</th>\n      <td>90002</td>\n      <td>KLEBSIELLA</td>\n      <td>72</td>\n    </tr>\n    <tr>\n      <th>...</th>\n      <td>...</td>\n      <td>...</td>\n      <td>...</td>\n    </tr>\n    <tr>\n      <th>95</th>\n      <td>90094</td>\n      <td>KLEBSIELLA</td>\n      <td>15</td>\n    </tr>\n    <tr>\n      <th>96</th>\n      <td>90094</td>\n      <td>PROTEUS</td>\n      <td>28</td>\n    </tr>\n    <tr>\n      <th>97</th>\n      <td>90201</td>\n      <td>ESCHERICHIA</td>\n      <td>32</td>\n    </tr>\n    <tr>\n      <th>98</th>\n      <td>90211</td>\n      <td>ENTEROCOCCUS</td>\n      <td>6</td>\n    </tr>\n    <tr>\n      <th>99</th>\n      <td>90211</td>\n      <td>ESCHERICHIA</td>\n      <td>32</td>\n    </tr>\n  </tbody>\n</table>\n<p>100 rows × 3 columns</p>\n</div>"
     },
     "execution_count": 16,
     "metadata": {},
     "output_type": "execute_result"
    }
   ],
   "source": [
    "sens_genus_antibotic_gby = join_df[[\"ZIP_CODE\",\"genus\", ]].groupby(by=[\"ZIP_CODE\", \"genus\"], as_index=False).agg(count=(\"genus\", \"count\"))\n",
    "sens_genus_antibotic_gby.info()\n",
    "sens_genus_antibotic_gby.head(100)"
   ],
   "metadata": {
    "collapsed": false,
    "ExecuteTime": {
     "end_time": "2024-05-07T20:00:42.545738Z",
     "start_time": "2024-05-07T20:00:42.383838Z"
    }
   },
   "id": "e1638b97a705ce5",
   "execution_count": 16
  },
  {
   "cell_type": "code",
   "outputs": [],
   "source": [
    "zip_genus_max_gpd=pd.merge( uszip_gdf, sens_genus_antibotic_gby, on=\"ZIP_CODE\" )\n",
    "zip_genus_max_gpd.to_file(os.path.join(output_dir,\"merged\",\"bacteria_max_zip.geojson\" ) , driver='GeoJSON')\n",
    "zip_genus_max_gpd.to_csv(os.path.join(output_dir,\"merged\",\"bacteria_max_zip.csv\"))"
   ],
   "metadata": {
    "collapsed": false,
    "ExecuteTime": {
     "end_time": "2024-05-07T20:02:27.999151Z",
     "start_time": "2024-05-07T20:02:27.677883Z"
    }
   },
   "id": "c1453a684b0d61a",
   "execution_count": 18
  },
  {
   "cell_type": "code",
   "outputs": [
    {
     "data": {
      "text/plain": "   ZIP_CODE           genus  count\n0     90001            ESBL     16\n1     90002        SERRATIA     72\n2     90003  STAPHYLOCOCCUS     11\n3     90004     METHICILLIN     12\n4     90006     PSEUDOMONAS     18\n..      ...             ...    ...\n95    90704         PROTEUS     15\n96    90706      KLEBSIELLA     80\n97    90710   STREPTOCOCCUS     32\n98    90712     ESCHERICHIA     16\n99    90715     PSEUDOMONAS     10\n\n[100 rows x 3 columns]",
      "text/html": "<div>\n<style scoped>\n    .dataframe tbody tr th:only-of-type {\n        vertical-align: middle;\n    }\n\n    .dataframe tbody tr th {\n        vertical-align: top;\n    }\n\n    .dataframe thead th {\n        text-align: right;\n    }\n</style>\n<table border=\"1\" class=\"dataframe\">\n  <thead>\n    <tr style=\"text-align: right;\">\n      <th></th>\n      <th>ZIP_CODE</th>\n      <th>genus</th>\n      <th>count</th>\n    </tr>\n  </thead>\n  <tbody>\n    <tr>\n      <th>0</th>\n      <td>90001</td>\n      <td>ESBL</td>\n      <td>16</td>\n    </tr>\n    <tr>\n      <th>1</th>\n      <td>90002</td>\n      <td>SERRATIA</td>\n      <td>72</td>\n    </tr>\n    <tr>\n      <th>2</th>\n      <td>90003</td>\n      <td>STAPHYLOCOCCUS</td>\n      <td>11</td>\n    </tr>\n    <tr>\n      <th>3</th>\n      <td>90004</td>\n      <td>METHICILLIN</td>\n      <td>12</td>\n    </tr>\n    <tr>\n      <th>4</th>\n      <td>90006</td>\n      <td>PSEUDOMONAS</td>\n      <td>18</td>\n    </tr>\n    <tr>\n      <th>...</th>\n      <td>...</td>\n      <td>...</td>\n      <td>...</td>\n    </tr>\n    <tr>\n      <th>95</th>\n      <td>90704</td>\n      <td>PROTEUS</td>\n      <td>15</td>\n    </tr>\n    <tr>\n      <th>96</th>\n      <td>90706</td>\n      <td>KLEBSIELLA</td>\n      <td>80</td>\n    </tr>\n    <tr>\n      <th>97</th>\n      <td>90710</td>\n      <td>STREPTOCOCCUS</td>\n      <td>32</td>\n    </tr>\n    <tr>\n      <th>98</th>\n      <td>90712</td>\n      <td>ESCHERICHIA</td>\n      <td>16</td>\n    </tr>\n    <tr>\n      <th>99</th>\n      <td>90715</td>\n      <td>PSEUDOMONAS</td>\n      <td>10</td>\n    </tr>\n  </tbody>\n</table>\n<p>100 rows × 3 columns</p>\n</div>"
     },
     "execution_count": 17,
     "metadata": {},
     "output_type": "execute_result"
    }
   ],
   "source": [
    "sens_genus_max = sens_genus_antibotic_gby.groupby([\"ZIP_CODE\"],as_index=False).max()\n",
    "sens_genus_max.head(100)  "
   ],
   "metadata": {
    "collapsed": false,
    "ExecuteTime": {
     "end_time": "2024-05-04T21:57:46.615915Z",
     "start_time": "2024-05-04T21:57:46.568975Z"
    }
   },
   "id": "591d5230125ad023",
   "execution_count": 17
  },
  {
   "cell_type": "code",
   "outputs": [
    {
     "ename": "NameError",
     "evalue": "name 'sens_genus_max' is not defined",
     "output_type": "error",
     "traceback": [
      "\u001B[0;31m---------------------------------------------------------------------------\u001B[0m",
      "\u001B[0;31mNameError\u001B[0m                                 Traceback (most recent call last)",
      "Cell \u001B[0;32mIn[15], line 1\u001B[0m\n\u001B[0;32m----> 1\u001B[0m zip_genus_max\u001B[38;5;241m=\u001B[39mpd\u001B[38;5;241m.\u001B[39mmerge( uszip_gdf, \u001B[43msens_genus_max\u001B[49m, on\u001B[38;5;241m=\u001B[39m\u001B[38;5;124m\"\u001B[39m\u001B[38;5;124mZIP_CODE\u001B[39m\u001B[38;5;124m\"\u001B[39m )\n\u001B[1;32m      2\u001B[0m zip_genus_max\u001B[38;5;241m.\u001B[39mto_file(os\u001B[38;5;241m.\u001B[39mpath\u001B[38;5;241m.\u001B[39mjoin(output_dir,\u001B[38;5;124m\"\u001B[39m\u001B[38;5;124mgenus\u001B[39m\u001B[38;5;124m\"\u001B[39m,\u001B[38;5;124m\"\u001B[39m\u001B[38;5;124mbacteria_genus_max_zip.geojson\u001B[39m\u001B[38;5;124m\"\u001B[39m ) , driver\u001B[38;5;241m=\u001B[39m\u001B[38;5;124m'\u001B[39m\u001B[38;5;124mGeoJSON\u001B[39m\u001B[38;5;124m'\u001B[39m)\n\u001B[1;32m      3\u001B[0m zip_genus_max\u001B[38;5;241m.\u001B[39mto_csv(os\u001B[38;5;241m.\u001B[39mpath\u001B[38;5;241m.\u001B[39mjoin(output_dir,\u001B[38;5;124m\"\u001B[39m\u001B[38;5;124mmerged\u001B[39m\u001B[38;5;124m\"\u001B[39m,\u001B[38;5;124m\"\u001B[39m\u001B[38;5;124mbacteria_genus_max_zip.csv\u001B[39m\u001B[38;5;124m\"\u001B[39m))\n",
      "\u001B[0;31mNameError\u001B[0m: name 'sens_genus_max' is not defined"
     ]
    }
   ],
   "source": [
    "    \n",
    "zip_genus_max=pd.merge( uszip_gdf, sens_genus_max, on=\"ZIP_CODE\" )\n",
    "zip_genus_max.to_file(os.path.join(output_dir,\"genus\",\"bacteria_genus_max_zip.geojson\" ) , driver='GeoJSON')\n",
    "zip_genus_max.to_csv(os.path.join(output_dir,\"merged\",\"bacteria_genus_max_zip.csv\"))"
   ],
   "metadata": {
    "collapsed": false,
    "ExecuteTime": {
     "end_time": "2024-05-07T19:54:57.075771Z",
     "start_time": "2024-05-07T19:54:56.990144Z"
    }
   },
   "id": "bf1648b813e6956a",
   "execution_count": 15
  },
  {
   "cell_type": "code",
   "outputs": [
    {
     "name": "stdout",
     "output_type": "stream",
     "text": [
      "2024-05-04 20:14:26,096 Generating genus ESCHERICHIA to top20\n",
      "2024-05-04 20:14:48,899 Generating genus KLEBSIELLA to top20\n",
      "2024-05-04 20:14:59,120 Generating genus STAPHYLOCOCCUS to top20\n",
      "2024-05-04 20:15:07,927 Generating genus ESBL to top20\n",
      "2024-05-04 20:15:15,839 Generating genus PSEUDOMONAS to top20\n",
      "2024-05-04 20:15:22,541 Generating genus PROTEUS to top20\n",
      "2024-05-04 20:15:28,246 Generating genus METHICILLIN to top20\n",
      "2024-05-04 20:15:33,548 Generating genus ENTEROBACTER to top20\n",
      "2024-05-04 20:15:37,513 Generating genus ENTEROCOCCUS to top20\n",
      "2024-05-04 20:15:40,306 Generating genus CITROBACTER to top20\n",
      "2024-05-04 20:15:42,487 Generating genus SERRATIA to top20\n",
      "2024-05-04 20:15:44,096 Generating genus MORGANELLA to top20\n",
      "2024-05-04 20:15:45,390 Generating genus EXTENDED to top20\n",
      "2024-05-04 20:15:46,531 Generating genus VANCOMYCIN to top20\n",
      "2024-05-04 20:15:47,366 Generating genus PROVIDENCIA to top20\n",
      "2024-05-04 20:15:48,184 Generating genus STREPTOCOCCUS to top20\n",
      "2024-05-04 20:15:49,000 Generating genus ACINETOBACTER to top20\n",
      "2024-05-04 20:15:49,747 Generating genus ACHROMOBACTER to top20\n",
      "2024-05-04 20:15:50,146 Generating genus STENOTROPHOMONAS to top20\n",
      "2024-05-04 20:15:50,530 Generating genus MUCOID to top20\n",
      "2024-05-04 20:15:50,873 Generating genus CITROBACTER to genus\n",
      "2024-05-04 20:15:53,255 Generating genus METHICILLIN to genus\n",
      "2024-05-04 20:15:58,706 Generating genus PROTEUS to genus\n",
      "2024-05-04 20:16:04,402 Generating genus PROVIDENCIA to genus\n",
      "2024-05-04 20:16:05,167 Generating genus PSEUDOMONAS to genus\n",
      "2024-05-04 20:16:12,223 Generating genus STAPHYLOCOCCUS to genus\n",
      "2024-05-04 20:16:21,315 Generating genus ENTEROCOCCUS to genus\n",
      "2024-05-04 20:16:24,209 Generating genus ABIOTROPHIA to genus\n",
      "2024-05-04 20:16:24,261 Generating genus CANDIDA to genus\n",
      "2024-05-04 20:16:24,572 Generating genus GRANULICATELLA to genus\n",
      "2024-05-04 20:16:24,633 Generating genus MYCOBACTERIUM to genus\n",
      "2024-05-04 20:16:24,807 Generating genus STREPTOCOCCUS to genus\n",
      "2024-05-04 20:16:25,627 Generating genus ALCALIGENES to genus\n",
      "2024-05-04 20:16:25,741 Generating genus ENTEROBACTER to genus\n",
      "2024-05-04 20:16:29,865 Generating genus ESCHERICHIA to genus\n",
      "2024-05-04 20:16:53,513 Generating genus OCHROBACTRUM to genus\n",
      "2024-05-04 20:16:53,592 Generating genus KLEBSIELLA to genus\n",
      "2024-05-04 20:17:04,197 Generating genus ESBL to genus\n",
      "2024-05-04 20:17:12,171 Generating genus VANCOMYCIN to genus\n",
      "2024-05-04 20:17:12,975 Generating genus HAEMOPHILUS to genus\n",
      "2024-05-04 20:17:13,040 Generating genus STENOTROPHOMONAS to genus\n",
      "2024-05-04 20:17:13,419 Generating genus EXTENDED to genus\n",
      "2024-05-04 20:17:14,380 Generating genus MORGANELLA to genus\n",
      "2024-05-04 20:17:15,664 Generating genus PANTOEA to genus\n",
      "2024-05-04 20:17:15,785 Generating genus ANAEROBIOSPIRILLUM to genus\n",
      "2024-05-04 20:17:15,832 Generating genus SERRATIA to genus\n",
      "2024-05-04 20:17:17,387 Generating genus ACINETOBACTER to genus\n",
      "2024-05-04 20:17:18,099 Generating genus RAHNELLA to genus\n",
      "2024-05-04 20:17:18,163 Generating genus RAOULTELLA to genus\n",
      "2024-05-04 20:17:18,456 Generating genus FUSOBACTERIUM to genus\n",
      "2024-05-04 20:17:18,514 Generating genus ASPERGILLUS to genus\n",
      "2024-05-04 20:17:18,569 Generating genus HAFNIA to genus\n",
      "2024-05-04 20:17:18,712 Generating genus NEISSERIA to genus\n",
      "2024-05-04 20:17:18,758 Generating genus SHIGELLA to genus\n",
      "2024-05-04 20:17:18,901 Generating genus MYCOBACTERIUM, to genus\n",
      "2024-05-04 20:17:19,056 Generating genus MORAXELLA to genus\n",
      "2024-05-04 20:17:19,105 Generating genus PARVIMONAS to genus\n",
      "2024-05-04 20:17:19,155 Generating genus ATOPOBIUM to genus\n",
      "2024-05-04 20:17:19,203 Generating genus PEPTONIPHILUS to genus\n",
      "2024-05-04 20:17:19,256 Generating genus BACTEROIDES to genus\n",
      "2024-05-04 20:17:19,343 Generating genus EIKENELLA to genus\n",
      "2024-05-04 20:17:19,392 Generating genus KINGELLA to genus\n",
      "2024-05-04 20:17:19,439 Generating genus STREPTOCOCCUS, to genus\n",
      "2024-05-04 20:17:19,487 Generating genus CLOSTRIDIUM to genus\n",
      "2024-05-04 20:17:19,562 Generating genus BREVUNDIMONAS to genus\n",
      "2024-05-04 20:17:19,619 Generating genus RAPID to genus\n",
      "2024-05-04 20:17:19,666 Generating genus VIBRIO to genus\n",
      "2024-05-04 20:17:19,721 Generating genus PLURALIBACTER to genus\n",
      "2024-05-04 20:17:19,788 Generating genus EMPEDOBACTER to genus\n",
      "2024-05-04 20:17:19,836 Generating genus PROPIONIBACTERIUM to genus\n",
      "2024-05-04 20:17:19,888 Generating genus SALMONELLA to genus\n",
      "2024-05-04 20:17:20,001 Generating genus MUCOID to genus\n",
      "2024-05-04 20:17:20,308 Generating genus PORPHYROMONAS to genus\n",
      "2024-05-04 20:17:20,353 Generating genus ALISTIPES to genus\n",
      "2024-05-04 20:17:20,399 Generating genus FINEGOLDIA to genus\n",
      "2024-05-04 20:17:20,450 Generating genus ACHROMOBACTER to genus\n",
      "2024-05-04 20:17:20,844 Generating genus GEMELLA to genus\n",
      "2024-05-04 20:17:20,898 Generating genus MYROIDES to genus\n",
      "2024-05-04 20:17:20,979 Generating genus AEROMONAS to genus\n",
      "2024-05-04 20:17:21,067 Generating genus VEILLONELLA to genus\n",
      "2024-05-04 20:17:21,118 Generating genus DIALISTER to genus\n",
      "2024-05-04 20:17:21,165 Generating genus CORYNEBACTERIUM to genus\n",
      "2024-05-04 20:17:21,213 Generating genus PICHIA to genus\n",
      "2024-05-04 20:17:21,259 Generating genus YERSINIA to genus\n",
      "2024-05-04 20:17:21,322 Generating genus DELFTIA to genus\n",
      "2024-05-04 20:17:21,389 Generating genus FLAVIMONAS to genus\n",
      "2024-05-04 20:17:21,440 Generating genus KERSTERSIA to genus\n",
      "2024-05-04 20:17:21,512 Generating genus BURKHOLDERIA to genus\n",
      "2024-05-04 20:17:21,595 Generating genus GRAM-NEGATIVE to genus\n",
      "2024-05-04 20:17:21,671 Generating genus PLESIOMONAS to genus\n",
      "2024-05-04 20:17:21,724 Generating genus CUTIBACTERIUM to genus\n",
      "2024-05-04 20:17:21,777 Generating genus PEPTOSTREPTOCOCCUS to genus\n",
      "2024-05-04 20:17:21,826 Generating genus CEDECEA to genus\n",
      "2024-05-04 20:17:21,876 Generating genus CHRYSEOBACTERIUM to genus\n",
      "2024-05-04 20:17:21,950 Generating genus NOCARDIA to genus\n",
      "2024-05-04 20:17:22,025 Generating genus ANAEROCOCCUS to genus\n",
      "2024-05-04 20:17:22,079 Generating genus SHEWANELLA to genus\n",
      "2024-05-04 20:17:22,139 Generating genus PREVOTELLA to genus\n",
      "2024-05-04 20:17:22,195 Generating genus FLAVOBACTERIUM to genus\n",
      "2024-05-04 20:17:22,244 Generating genus LECLERCIA to genus\n",
      "2024-05-04 20:17:22,302 Generating genus OLIGELLA to genus\n",
      "2024-05-04 20:17:22,352 Generating genus ELIZABETHKINGIA to genus\n",
      "2024-05-04 20:17:22,401 Generating genus KLUYVERA to genus\n",
      "2024-05-04 20:17:22,465 Generating genus EGGERTHELLA to genus\n",
      "2024-05-04 20:17:22,517 Generating genus MYCOBACTEROIDES to genus\n",
      "2024-05-04 20:17:22,585 Generating genus BACILLUS to genus\n",
      "2024-05-04 20:17:22,633 Generating genus SPHINGOMONAS to genus\n",
      "2024-05-04 20:17:22,698 Generating genus STAPHYLOCOCCUS, to genus\n",
      "2024-05-04 20:17:22,750 Generating genus PARABACTEROIDES to genus\n",
      "2024-05-04 20:17:22,799 Generating genus BIFIDOBACTERIUM to genus\n",
      "2024-05-04 20:17:22,847 Generating genus PAENALCALIGENES to genus\n",
      "2024-05-04 20:17:22,894 Generating genus PEPTOCOCCUS to genus\n",
      "2024-05-04 20:17:22,943 Generating genus ALPHA-HEMOLYTIC to genus\n",
      "2024-05-04 20:17:22,989 Generating genus BORDETELLA to genus\n",
      "2024-05-04 20:17:23,054 Generating genus LEPTOTRICHIA to genus\n",
      "2024-05-04 20:17:23,103 Generating genus ROTHIA to genus\n",
      "2024-05-04 20:17:23,153 Generating genus GORDONIA to genus\n",
      "2024-05-04 20:17:23,202 Generating genus ACTINOMYCES to genus\n",
      "2024-05-04 20:17:23,256 Generating genus CHRYSEOMONAS to genus\n",
      "2024-05-04 20:17:23,308 Generating genus EUBACTERIUM to genus\n",
      "2024-05-04 20:17:23,360 Generating genus EGGERTHIA to genus\n",
      "2024-05-04 20:17:23,407 Generating genus INQUILINUS to genus\n",
      "2024-05-04 20:17:23,455 Generating genus GRAM-POSITIVE to genus\n",
      "2024-05-04 20:17:23,504 Generating genus CRONOBACTER to genus\n",
      "2024-05-04 20:17:23,557 Generating genus RHIZOBIUM to genus\n",
      "2024-05-04 20:17:23,616 Generating genus ISSATCHENKIA to genus\n",
      "2024-05-04 20:17:23,668 Generating genus SOLOBACTERIUM to genus\n",
      "2024-05-04 20:17:23,715 Generating genus MEYEROZYMA to genus\n",
      "2024-05-04 20:17:23,763 Generating genus RALSTONIA to genus\n",
      "2024-05-04 20:17:23,811 Generating genus CUPRIAVIDUS to genus\n",
      "2024-05-04 20:17:23,861 Generating genus LISTERIA to genus\n",
      "2024-05-04 20:17:23,908 Generating genus TRUEPERELLA to genus\n",
      "2024-05-04 20:17:23,958 Generating genus NONFERMENTING to genus\n",
      "2024-05-04 20:17:24,005 Generating genus ERWINIA to genus\n",
      "2024-05-04 20:17:24,057 Generating genus AGGREGATIBACTER to genus\n",
      "2024-05-04 20:17:24,106 Generating genus ROSEOMONAS to genus\n",
      "2024-05-04 20:17:24,154 Generating genus RHODOTORULA to genus\n",
      "2024-05-04 20:17:24,202 Generating genus AEROCOCCUS to genus\n",
      "2024-05-04 20:17:24,249 Generating genus SPHINGOBACTERIUM to genus\n",
      "2024-05-04 20:17:24,298 Generating genus YEAST to genus\n",
      "2024-05-04 20:17:24,345 Generating genus PAENIBACILLUS to genus\n",
      "2024-05-04 20:17:24,392 Generating genus COMAMONAS to genus\n",
      "2024-05-04 20:17:24,442 Generating genus CARDIOBACTERIUM to genus\n",
      "2024-05-04 20:17:24,489 Generating genus EDWARDSIELLA to genus\n",
      "2024-05-04 20:17:24,537 Generating genus LACTOBACILLUS to genus\n",
      "2024-05-04 20:17:24,585 Generating genus RUMINOCOCCUS to genus\n",
      "2024-05-04 20:17:24,631 Generating genus PASTEURELLA to genus\n",
      "2024-05-04 20:17:24,682 Generating genus COLLINSELLA to genus\n",
      "2024-05-04 20:17:24,730 Generating genus MICROBACTERIUM to genus\n",
      "2024-05-04 20:17:24,777 Generating genus FLAVONIFRACTOR to genus\n",
      "2024-05-04 20:17:24,824 Generating genus DESULFOVIBRIO to genus\n",
      "2024-05-04 20:17:24,870 Generating genus SELENOMONAS to genus\n",
      "2024-05-04 20:17:24,918 Generating genus SCEDOSPORIUM to genus\n",
      "2024-05-04 20:17:24,965 Generating genus WEEKSELLA to genus\n",
      "2024-05-04 20:17:25,012 Generating genus MYCOPLASMA to genus\n",
      "2024-05-04 20:17:25,059 Generating genus ARTHROBACTER to genus\n",
      "2024-05-04 20:17:25,105 Generating genus YEAST, to genus\n",
      "2024-05-04 20:17:25,150 Generating genus PEDIOCOCCUS to genus\n",
      "2024-05-04 20:17:25,197 Generating genus AGROBACTERIUM to genus\n",
      "2024-05-04 20:17:25,244 Generating genus HELCOCOCCUS to genus\n",
      "2024-05-04 20:17:25,292 Generating genus LEUCONOSTOC to genus\n",
      "2024-05-04 20:17:25,334 Generating genus SLACKIA to genus\n"
     ]
    }
   ],
   "source": [
    "def generateGenusZip(genus,dataframe, path=\"genus\"):\n",
    "    logger.info(f\"Generating genus {genus} to {path}\")\n",
    "    filter_df = dataframe[dataframe[\"genus\"] == genus]\n",
    "    zip_genus=pd.merge( zip_genus_max, filter_df, on=\"ZIP_CODE\" )\n",
    "   # zip_genus.drop(\"MRN_DI\")\n",
    "    if len(zip_genus) == 0:\n",
    "        return\n",
    "    zip_genus.to_file(os.path.join(output_dir,path,f\"bacteria_{genus}_zip.geojson\" ) , driver='GeoJSON')\n",
    "    zip_genus.to_csv(os.path.join(output_dir,path,f\"bacteria_{genus}_zip.csv\" ))\n",
    "    zip_genus.head(20)\n",
    "\n",
    "top20=genus_list.sort_values(by=[\"count\"], ascending=False, inplace=False,).head(20)['genus']\n",
    "for g in top20:\n",
    "    generateGenusZip(g,join_df, path=\"top20\")\n",
    "    \n",
    "genus = join_df[\"genus\"].unique()\n",
    "for g in genus:\n",
    "    generateGenusZip(g,join_df)\n",
    "\n"
   ],
   "metadata": {
    "collapsed": false,
    "ExecuteTime": {
     "end_time": "2024-05-05T03:17:25.381385Z",
     "start_time": "2024-05-05T03:14:26.093633Z"
    }
   },
   "id": "38a1fc05eecee63e",
   "execution_count": 54
  },
  {
   "cell_type": "code",
   "outputs": [
    {
     "data": {
      "text/plain": "    ZIP_CODE  latitude  longitude                     geometry  \\\n0      99692   53.8898  -166.5422  POINT (-166.54220 53.88980)   \n1      99502   61.1661  -149.9600  POINT (-149.96000 61.16610)   \n2      99503   61.1900  -149.8938  POINT (-149.89380 61.19000)   \n3      99507   61.1535  -149.8289  POINT (-149.82890 61.15350)   \n4      99516   61.1054  -149.7800  POINT (-149.78000 61.10540)   \n..       ...       ...        ...                          ...   \n984    99223   47.6156  -117.3622  POINT (-117.36220 47.61560)   \n985    98516   47.1126  -122.7794  POINT (-122.77940 47.11260)   \n986    98226   48.7974  -122.4448  POINT (-122.44480 48.79740)   \n987    98264   48.9372  -122.4592  POINT (-122.45920 48.93720)   \n988    98902   46.5934  -120.5311  POINT (-120.53110 46.59340)   \n\n                genus  count  \n0          VANCOMYCIN      7  \n1         ESCHERICHIA     16  \n2    STENOTROPHOMONAS     30  \n3      STAPHYLOCOCCUS     19  \n4         ESCHERICHIA     30  \n..                ...    ...  \n984      ENTEROCOCCUS      6  \n985          SERRATIA     47  \n986     MYCOBACTERIUM      4  \n987              ESBL     15  \n988    STAPHYLOCOCCUS      6  \n\n[989 rows x 6 columns]",
      "text/html": "<div>\n<style scoped>\n    .dataframe tbody tr th:only-of-type {\n        vertical-align: middle;\n    }\n\n    .dataframe tbody tr th {\n        vertical-align: top;\n    }\n\n    .dataframe thead th {\n        text-align: right;\n    }\n</style>\n<table border=\"1\" class=\"dataframe\">\n  <thead>\n    <tr style=\"text-align: right;\">\n      <th></th>\n      <th>ZIP_CODE</th>\n      <th>latitude</th>\n      <th>longitude</th>\n      <th>geometry</th>\n      <th>genus</th>\n      <th>count</th>\n    </tr>\n  </thead>\n  <tbody>\n    <tr>\n      <th>0</th>\n      <td>99692</td>\n      <td>53.8898</td>\n      <td>-166.5422</td>\n      <td>POINT (-166.54220 53.88980)</td>\n      <td>VANCOMYCIN</td>\n      <td>7</td>\n    </tr>\n    <tr>\n      <th>1</th>\n      <td>99502</td>\n      <td>61.1661</td>\n      <td>-149.9600</td>\n      <td>POINT (-149.96000 61.16610)</td>\n      <td>ESCHERICHIA</td>\n      <td>16</td>\n    </tr>\n    <tr>\n      <th>2</th>\n      <td>99503</td>\n      <td>61.1900</td>\n      <td>-149.8938</td>\n      <td>POINT (-149.89380 61.19000)</td>\n      <td>STENOTROPHOMONAS</td>\n      <td>30</td>\n    </tr>\n    <tr>\n      <th>3</th>\n      <td>99507</td>\n      <td>61.1535</td>\n      <td>-149.8289</td>\n      <td>POINT (-149.82890 61.15350)</td>\n      <td>STAPHYLOCOCCUS</td>\n      <td>19</td>\n    </tr>\n    <tr>\n      <th>4</th>\n      <td>99516</td>\n      <td>61.1054</td>\n      <td>-149.7800</td>\n      <td>POINT (-149.78000 61.10540)</td>\n      <td>ESCHERICHIA</td>\n      <td>30</td>\n    </tr>\n    <tr>\n      <th>...</th>\n      <td>...</td>\n      <td>...</td>\n      <td>...</td>\n      <td>...</td>\n      <td>...</td>\n      <td>...</td>\n    </tr>\n    <tr>\n      <th>984</th>\n      <td>99223</td>\n      <td>47.6156</td>\n      <td>-117.3622</td>\n      <td>POINT (-117.36220 47.61560)</td>\n      <td>ENTEROCOCCUS</td>\n      <td>6</td>\n    </tr>\n    <tr>\n      <th>985</th>\n      <td>98516</td>\n      <td>47.1126</td>\n      <td>-122.7794</td>\n      <td>POINT (-122.77940 47.11260)</td>\n      <td>SERRATIA</td>\n      <td>47</td>\n    </tr>\n    <tr>\n      <th>986</th>\n      <td>98226</td>\n      <td>48.7974</td>\n      <td>-122.4448</td>\n      <td>POINT (-122.44480 48.79740)</td>\n      <td>MYCOBACTERIUM</td>\n      <td>4</td>\n    </tr>\n    <tr>\n      <th>987</th>\n      <td>98264</td>\n      <td>48.9372</td>\n      <td>-122.4592</td>\n      <td>POINT (-122.45920 48.93720)</td>\n      <td>ESBL</td>\n      <td>15</td>\n    </tr>\n    <tr>\n      <th>988</th>\n      <td>98902</td>\n      <td>46.5934</td>\n      <td>-120.5311</td>\n      <td>POINT (-120.53110 46.59340)</td>\n      <td>STAPHYLOCOCCUS</td>\n      <td>6</td>\n    </tr>\n  </tbody>\n</table>\n<p>989 rows × 6 columns</p>\n</div>"
     },
     "execution_count": 47,
     "metadata": {},
     "output_type": "execute_result"
    }
   ],
   "source": [
    "zip_genus_max"
   ],
   "metadata": {
    "collapsed": false,
    "ExecuteTime": {
     "end_time": "2024-05-05T02:57:42.913101Z",
     "start_time": "2024-05-05T02:57:42.868518Z"
    }
   },
   "id": "cbaccc168bdee224",
   "execution_count": 47
  },
  {
   "cell_type": "code",
   "outputs": [
    {
     "data": {
      "text/plain": "                             geometry  latitude  longitude             genus  \\\nZIP_CODE                                                                       \n90001     POINT (-118.24790 33.97310)   33.9731  -118.2479              ESBL   \n90002     POINT (-118.24620 33.94970)   33.9497  -118.2462          SERRATIA   \n90003     POINT (-118.27270 33.96530)   33.9653  -118.2727    STAPHYLOCOCCUS   \n90004     POINT (-118.30290 34.07620)   34.0762  -118.3029       METHICILLIN   \n90006     POINT (-118.29170 34.04930)   34.0493  -118.2917       PSEUDOMONAS   \n90008     POINT (-118.34110 34.01160)   34.0116  -118.3411        KLEBSIELLA   \n90010     POINT (-118.30270 34.06060)   34.0606  -118.3027       ESCHERICHIA   \n90011     POINT (-118.25820 34.00790)   34.0079  -118.2582     STREPTOCOCCUS   \n90013     POINT (-118.24340 34.04480)   34.0448  -118.2434      ENTEROBACTER   \n90014     POINT (-118.25090 34.04430)   34.0443  -118.2509     STREPTOCOCCUS   \n90015     POINT (-118.27160 34.04340)   34.0434  -118.2716    STAPHYLOCOCCUS   \n90016     POINT (-118.35280 34.02980)   34.0298  -118.3528    STAPHYLOCOCCUS   \n90018     POINT (-118.31520 34.02900)   34.0290  -118.3152    STAPHYLOCOCCUS   \n90019     POINT (-118.33430 34.04820)   34.0482  -118.3343              ESBL   \n90022     POINT (-118.15610 34.02450)   34.0245  -118.1561    STAPHYLOCOCCUS   \n90025     POINT (-118.44870 34.04470)   34.0447  -118.4487           PROTEUS   \n90026     POINT (-118.26460 34.07660)   34.0766  -118.2646       ESCHERICHIA   \n90027     POINT (-118.29250 34.10400)   34.1040  -118.2925        KLEBSIELLA   \n90031     POINT (-118.21130 34.07830)   34.0783  -118.2113       METHICILLIN   \n90032     POINT (-118.17530 34.08180)   34.0818  -118.1753        VANCOMYCIN   \n90034     POINT (-118.40050 34.02900)   34.0290  -118.4005     STREPTOCOCCUS   \n90036     POINT (-118.34920 34.06990)   34.0699  -118.3492  STENOTROPHOMONAS   \n90037     POINT (-118.28630 34.00300)   34.0030  -118.2863           PROTEUS   \n90039     POINT (-118.25940 34.11210)   34.1121  -118.2594       ESCHERICHIA   \n90041     POINT (-118.20820 34.13390)   34.1339  -118.2082           PROTEUS   \n90042     POINT (-118.19290 34.11450)   34.1145  -118.1929       ESCHERICHIA   \n90043     POINT (-118.33210 33.98710)   33.9871  -118.3321     MYCOBACTERIUM   \n90045     POINT (-118.39410 33.96310)   33.9631  -118.3941       ESCHERICHIA   \n90046     POINT (-118.36520 34.10740)   34.1074  -118.3652     MYCOBACTERIUM   \n90047     POINT (-118.30730 33.95690)   33.9569  -118.3073       ESCHERICHIA   \n90049     POINT (-118.47400 34.06600)   34.0660  -118.4740        VANCOMYCIN   \n90057     POINT (-118.27630 34.06220)   34.0622  -118.2763    STAPHYLOCOCCUS   \n90059     POINT (-118.24630 33.92930)   33.9293  -118.2463        KLEBSIELLA   \n90063     POINT (-118.18590 34.04510)   34.0451  -118.1859       ESCHERICHIA   \n90064     POINT (-118.42590 34.03530)   34.0353  -118.4259       ESCHERICHIA   \n90065     POINT (-118.22660 34.10730)   34.1073  -118.2266     STREPTOCOCCUS   \n90067     POINT (-118.40950 34.05510)   34.0551  -118.4095      ENTEROCOCCUS   \n90069     POINT (-118.37880 34.09060)   34.0906  -118.3788          SHIGELLA   \n90094     POINT (-118.42760 33.97280)   33.9728  -118.4276           PROTEUS   \n90201     POINT (-118.15150 33.96530)   33.9653  -118.1515       ESCHERICHIA   \n90211     POINT (-118.38300 34.06520)   34.0652  -118.3830       ESCHERICHIA   \n90212     POINT (-118.39950 34.06190)   34.0619  -118.3995       ESCHERICHIA   \n90220     POINT (-118.24020 33.87480)   33.8748  -118.2402    STAPHYLOCOCCUS   \n90222     POINT (-118.23570 33.90990)   33.9099  -118.2357     STREPTOCOCCUS   \n90230     POINT (-118.39910 33.99490)   33.9949  -118.3991  STENOTROPHOMONAS   \n90241     POINT (-118.13060 33.94160)   33.9416  -118.1306           PROTEUS   \n90242     POINT (-118.13950 33.92180)   33.9218  -118.1395    STAPHYLOCOCCUS   \n90245     POINT (-118.41190 33.92430)   33.9243  -118.4119     STREPTOCOCCUS   \n90247     POINT (-118.29610 33.89250)   33.8925  -118.2961              ESBL   \n90248     POINT (-118.28350 33.87660)   33.8766  -118.2835    STAPHYLOCOCCUS   \n\n          count  \nZIP_CODE         \n90001        16  \n90002        72  \n90003        11  \n90004        12  \n90006        18  \n90008        16  \n90010       150  \n90011         2  \n90013        15  \n90014         2  \n90015        43  \n90016        11  \n90018        17  \n90019        16  \n90022        32  \n90025        31  \n90026        32  \n90027        31  \n90031        16  \n90032        33  \n90034        17  \n90036       106  \n90037        28  \n90039        31  \n90041        16  \n90042        15  \n90043        12  \n90045        31  \n90046        15  \n90047        15  \n90049        32  \n90057        31  \n90059        60  \n90063        15  \n90064        15  \n90065        75  \n90067         6  \n90069        32  \n90094        45  \n90201        32  \n90211        32  \n90212        16  \n90220        88  \n90222        46  \n90230        26  \n90241       102  \n90242        23  \n90245        26  \n90247        14  \n90248        32  ",
      "text/html": "<div>\n<style scoped>\n    .dataframe tbody tr th:only-of-type {\n        vertical-align: middle;\n    }\n\n    .dataframe tbody tr th {\n        vertical-align: top;\n    }\n\n    .dataframe thead th {\n        text-align: right;\n    }\n</style>\n<table border=\"1\" class=\"dataframe\">\n  <thead>\n    <tr style=\"text-align: right;\">\n      <th></th>\n      <th>geometry</th>\n      <th>latitude</th>\n      <th>longitude</th>\n      <th>genus</th>\n      <th>count</th>\n    </tr>\n    <tr>\n      <th>ZIP_CODE</th>\n      <th></th>\n      <th></th>\n      <th></th>\n      <th></th>\n      <th></th>\n    </tr>\n  </thead>\n  <tbody>\n    <tr>\n      <th>90001</th>\n      <td>POINT (-118.24790 33.97310)</td>\n      <td>33.9731</td>\n      <td>-118.2479</td>\n      <td>ESBL</td>\n      <td>16</td>\n    </tr>\n    <tr>\n      <th>90002</th>\n      <td>POINT (-118.24620 33.94970)</td>\n      <td>33.9497</td>\n      <td>-118.2462</td>\n      <td>SERRATIA</td>\n      <td>72</td>\n    </tr>\n    <tr>\n      <th>90003</th>\n      <td>POINT (-118.27270 33.96530)</td>\n      <td>33.9653</td>\n      <td>-118.2727</td>\n      <td>STAPHYLOCOCCUS</td>\n      <td>11</td>\n    </tr>\n    <tr>\n      <th>90004</th>\n      <td>POINT (-118.30290 34.07620)</td>\n      <td>34.0762</td>\n      <td>-118.3029</td>\n      <td>METHICILLIN</td>\n      <td>12</td>\n    </tr>\n    <tr>\n      <th>90006</th>\n      <td>POINT (-118.29170 34.04930)</td>\n      <td>34.0493</td>\n      <td>-118.2917</td>\n      <td>PSEUDOMONAS</td>\n      <td>18</td>\n    </tr>\n    <tr>\n      <th>90008</th>\n      <td>POINT (-118.34110 34.01160)</td>\n      <td>34.0116</td>\n      <td>-118.3411</td>\n      <td>KLEBSIELLA</td>\n      <td>16</td>\n    </tr>\n    <tr>\n      <th>90010</th>\n      <td>POINT (-118.30270 34.06060)</td>\n      <td>34.0606</td>\n      <td>-118.3027</td>\n      <td>ESCHERICHIA</td>\n      <td>150</td>\n    </tr>\n    <tr>\n      <th>90011</th>\n      <td>POINT (-118.25820 34.00790)</td>\n      <td>34.0079</td>\n      <td>-118.2582</td>\n      <td>STREPTOCOCCUS</td>\n      <td>2</td>\n    </tr>\n    <tr>\n      <th>90013</th>\n      <td>POINT (-118.24340 34.04480)</td>\n      <td>34.0448</td>\n      <td>-118.2434</td>\n      <td>ENTEROBACTER</td>\n      <td>15</td>\n    </tr>\n    <tr>\n      <th>90014</th>\n      <td>POINT (-118.25090 34.04430)</td>\n      <td>34.0443</td>\n      <td>-118.2509</td>\n      <td>STREPTOCOCCUS</td>\n      <td>2</td>\n    </tr>\n    <tr>\n      <th>90015</th>\n      <td>POINT (-118.27160 34.04340)</td>\n      <td>34.0434</td>\n      <td>-118.2716</td>\n      <td>STAPHYLOCOCCUS</td>\n      <td>43</td>\n    </tr>\n    <tr>\n      <th>90016</th>\n      <td>POINT (-118.35280 34.02980)</td>\n      <td>34.0298</td>\n      <td>-118.3528</td>\n      <td>STAPHYLOCOCCUS</td>\n      <td>11</td>\n    </tr>\n    <tr>\n      <th>90018</th>\n      <td>POINT (-118.31520 34.02900)</td>\n      <td>34.0290</td>\n      <td>-118.3152</td>\n      <td>STAPHYLOCOCCUS</td>\n      <td>17</td>\n    </tr>\n    <tr>\n      <th>90019</th>\n      <td>POINT (-118.33430 34.04820)</td>\n      <td>34.0482</td>\n      <td>-118.3343</td>\n      <td>ESBL</td>\n      <td>16</td>\n    </tr>\n    <tr>\n      <th>90022</th>\n      <td>POINT (-118.15610 34.02450)</td>\n      <td>34.0245</td>\n      <td>-118.1561</td>\n      <td>STAPHYLOCOCCUS</td>\n      <td>32</td>\n    </tr>\n    <tr>\n      <th>90025</th>\n      <td>POINT (-118.44870 34.04470)</td>\n      <td>34.0447</td>\n      <td>-118.4487</td>\n      <td>PROTEUS</td>\n      <td>31</td>\n    </tr>\n    <tr>\n      <th>90026</th>\n      <td>POINT (-118.26460 34.07660)</td>\n      <td>34.0766</td>\n      <td>-118.2646</td>\n      <td>ESCHERICHIA</td>\n      <td>32</td>\n    </tr>\n    <tr>\n      <th>90027</th>\n      <td>POINT (-118.29250 34.10400)</td>\n      <td>34.1040</td>\n      <td>-118.2925</td>\n      <td>KLEBSIELLA</td>\n      <td>31</td>\n    </tr>\n    <tr>\n      <th>90031</th>\n      <td>POINT (-118.21130 34.07830)</td>\n      <td>34.0783</td>\n      <td>-118.2113</td>\n      <td>METHICILLIN</td>\n      <td>16</td>\n    </tr>\n    <tr>\n      <th>90032</th>\n      <td>POINT (-118.17530 34.08180)</td>\n      <td>34.0818</td>\n      <td>-118.1753</td>\n      <td>VANCOMYCIN</td>\n      <td>33</td>\n    </tr>\n    <tr>\n      <th>90034</th>\n      <td>POINT (-118.40050 34.02900)</td>\n      <td>34.0290</td>\n      <td>-118.4005</td>\n      <td>STREPTOCOCCUS</td>\n      <td>17</td>\n    </tr>\n    <tr>\n      <th>90036</th>\n      <td>POINT (-118.34920 34.06990)</td>\n      <td>34.0699</td>\n      <td>-118.3492</td>\n      <td>STENOTROPHOMONAS</td>\n      <td>106</td>\n    </tr>\n    <tr>\n      <th>90037</th>\n      <td>POINT (-118.28630 34.00300)</td>\n      <td>34.0030</td>\n      <td>-118.2863</td>\n      <td>PROTEUS</td>\n      <td>28</td>\n    </tr>\n    <tr>\n      <th>90039</th>\n      <td>POINT (-118.25940 34.11210)</td>\n      <td>34.1121</td>\n      <td>-118.2594</td>\n      <td>ESCHERICHIA</td>\n      <td>31</td>\n    </tr>\n    <tr>\n      <th>90041</th>\n      <td>POINT (-118.20820 34.13390)</td>\n      <td>34.1339</td>\n      <td>-118.2082</td>\n      <td>PROTEUS</td>\n      <td>16</td>\n    </tr>\n    <tr>\n      <th>90042</th>\n      <td>POINT (-118.19290 34.11450)</td>\n      <td>34.1145</td>\n      <td>-118.1929</td>\n      <td>ESCHERICHIA</td>\n      <td>15</td>\n    </tr>\n    <tr>\n      <th>90043</th>\n      <td>POINT (-118.33210 33.98710)</td>\n      <td>33.9871</td>\n      <td>-118.3321</td>\n      <td>MYCOBACTERIUM</td>\n      <td>12</td>\n    </tr>\n    <tr>\n      <th>90045</th>\n      <td>POINT (-118.39410 33.96310)</td>\n      <td>33.9631</td>\n      <td>-118.3941</td>\n      <td>ESCHERICHIA</td>\n      <td>31</td>\n    </tr>\n    <tr>\n      <th>90046</th>\n      <td>POINT (-118.36520 34.10740)</td>\n      <td>34.1074</td>\n      <td>-118.3652</td>\n      <td>MYCOBACTERIUM</td>\n      <td>15</td>\n    </tr>\n    <tr>\n      <th>90047</th>\n      <td>POINT (-118.30730 33.95690)</td>\n      <td>33.9569</td>\n      <td>-118.3073</td>\n      <td>ESCHERICHIA</td>\n      <td>15</td>\n    </tr>\n    <tr>\n      <th>90049</th>\n      <td>POINT (-118.47400 34.06600)</td>\n      <td>34.0660</td>\n      <td>-118.4740</td>\n      <td>VANCOMYCIN</td>\n      <td>32</td>\n    </tr>\n    <tr>\n      <th>90057</th>\n      <td>POINT (-118.27630 34.06220)</td>\n      <td>34.0622</td>\n      <td>-118.2763</td>\n      <td>STAPHYLOCOCCUS</td>\n      <td>31</td>\n    </tr>\n    <tr>\n      <th>90059</th>\n      <td>POINT (-118.24630 33.92930)</td>\n      <td>33.9293</td>\n      <td>-118.2463</td>\n      <td>KLEBSIELLA</td>\n      <td>60</td>\n    </tr>\n    <tr>\n      <th>90063</th>\n      <td>POINT (-118.18590 34.04510)</td>\n      <td>34.0451</td>\n      <td>-118.1859</td>\n      <td>ESCHERICHIA</td>\n      <td>15</td>\n    </tr>\n    <tr>\n      <th>90064</th>\n      <td>POINT (-118.42590 34.03530)</td>\n      <td>34.0353</td>\n      <td>-118.4259</td>\n      <td>ESCHERICHIA</td>\n      <td>15</td>\n    </tr>\n    <tr>\n      <th>90065</th>\n      <td>POINT (-118.22660 34.10730)</td>\n      <td>34.1073</td>\n      <td>-118.2266</td>\n      <td>STREPTOCOCCUS</td>\n      <td>75</td>\n    </tr>\n    <tr>\n      <th>90067</th>\n      <td>POINT (-118.40950 34.05510)</td>\n      <td>34.0551</td>\n      <td>-118.4095</td>\n      <td>ENTEROCOCCUS</td>\n      <td>6</td>\n    </tr>\n    <tr>\n      <th>90069</th>\n      <td>POINT (-118.37880 34.09060)</td>\n      <td>34.0906</td>\n      <td>-118.3788</td>\n      <td>SHIGELLA</td>\n      <td>32</td>\n    </tr>\n    <tr>\n      <th>90094</th>\n      <td>POINT (-118.42760 33.97280)</td>\n      <td>33.9728</td>\n      <td>-118.4276</td>\n      <td>PROTEUS</td>\n      <td>45</td>\n    </tr>\n    <tr>\n      <th>90201</th>\n      <td>POINT (-118.15150 33.96530)</td>\n      <td>33.9653</td>\n      <td>-118.1515</td>\n      <td>ESCHERICHIA</td>\n      <td>32</td>\n    </tr>\n    <tr>\n      <th>90211</th>\n      <td>POINT (-118.38300 34.06520)</td>\n      <td>34.0652</td>\n      <td>-118.3830</td>\n      <td>ESCHERICHIA</td>\n      <td>32</td>\n    </tr>\n    <tr>\n      <th>90212</th>\n      <td>POINT (-118.39950 34.06190)</td>\n      <td>34.0619</td>\n      <td>-118.3995</td>\n      <td>ESCHERICHIA</td>\n      <td>16</td>\n    </tr>\n    <tr>\n      <th>90220</th>\n      <td>POINT (-118.24020 33.87480)</td>\n      <td>33.8748</td>\n      <td>-118.2402</td>\n      <td>STAPHYLOCOCCUS</td>\n      <td>88</td>\n    </tr>\n    <tr>\n      <th>90222</th>\n      <td>POINT (-118.23570 33.90990)</td>\n      <td>33.9099</td>\n      <td>-118.2357</td>\n      <td>STREPTOCOCCUS</td>\n      <td>46</td>\n    </tr>\n    <tr>\n      <th>90230</th>\n      <td>POINT (-118.39910 33.99490)</td>\n      <td>33.9949</td>\n      <td>-118.3991</td>\n      <td>STENOTROPHOMONAS</td>\n      <td>26</td>\n    </tr>\n    <tr>\n      <th>90241</th>\n      <td>POINT (-118.13060 33.94160)</td>\n      <td>33.9416</td>\n      <td>-118.1306</td>\n      <td>PROTEUS</td>\n      <td>102</td>\n    </tr>\n    <tr>\n      <th>90242</th>\n      <td>POINT (-118.13950 33.92180)</td>\n      <td>33.9218</td>\n      <td>-118.1395</td>\n      <td>STAPHYLOCOCCUS</td>\n      <td>23</td>\n    </tr>\n    <tr>\n      <th>90245</th>\n      <td>POINT (-118.41190 33.92430)</td>\n      <td>33.9243</td>\n      <td>-118.4119</td>\n      <td>STREPTOCOCCUS</td>\n      <td>26</td>\n    </tr>\n    <tr>\n      <th>90247</th>\n      <td>POINT (-118.29610 33.89250)</td>\n      <td>33.8925</td>\n      <td>-118.2961</td>\n      <td>ESBL</td>\n      <td>14</td>\n    </tr>\n    <tr>\n      <th>90248</th>\n      <td>POINT (-118.28350 33.87660)</td>\n      <td>33.8766</td>\n      <td>-118.2835</td>\n      <td>STAPHYLOCOCCUS</td>\n      <td>32</td>\n    </tr>\n  </tbody>\n</table>\n</div>"
     },
     "execution_count": 36,
     "metadata": {},
     "output_type": "execute_result"
    }
   ],
   "source": [
    "zip_focus= zip_genus_max.dissolve(by=\"ZIP_CODE\")\n",
    "zip_focus.head(50)"
   ],
   "metadata": {
    "collapsed": false,
    "ExecuteTime": {
     "end_time": "2024-05-01T17:34:41.309664Z",
     "start_time": "2024-05-01T17:34:41.236675Z"
    }
   },
   "id": "103e5191f189df61",
   "execution_count": 36
  },
  {
   "cell_type": "code",
   "outputs": [],
   "source": [
    "import fiona; fiona.supported_drivers\n",
    "\n",
    "zip_focus.to_parquet(os.path.join(output_dir,\"zip_focus.parquet\" ))\n",
    "zip_focus.to_file(os.path.join(output_dir,\"zip_focus.geojson\" ) , driver='GeoJSON')\n",
    "zip_focus.to_file(os.path.join(output_dir,\"zip_focus.flatgeobuf\" ) , driver='FlatGeobuf')"
   ],
   "metadata": {
    "collapsed": false,
    "ExecuteTime": {
     "end_time": "2024-05-01T17:34:54.097813Z",
     "start_time": "2024-05-01T17:34:53.983066Z"
    }
   },
   "id": "1b4e655702f19118",
   "execution_count": 37
  },
  {
   "cell_type": "code",
   "outputs": [],
   "source": [],
   "metadata": {
    "collapsed": false
   },
   "id": "f5ff27db2731d44e",
   "execution_count": null
  }
 ],
 "metadata": {
  "kernelspec": {
   "display_name": "Python 3",
   "language": "python",
   "name": "python3"
  },
  "language_info": {
   "codemirror_mode": {
    "name": "ipython",
    "version": 2
   },
   "file_extension": ".py",
   "mimetype": "text/x-python",
   "name": "python",
   "nbconvert_exporter": "python",
   "pygments_lexer": "ipython2",
   "version": "2.7.6"
  }
 },
 "nbformat": 4,
 "nbformat_minor": 5
}
