{
 "cells": [
  {
   "cell_type": "code",
   "id": "initial_id",
   "metadata": {
    "collapsed": true,
    "ExecuteTime": {
     "end_time": "2025-04-03T22:20:28.738975Z",
     "start_time": "2025-04-03T22:20:28.333569Z"
    }
   },
   "source": [
    "import requests\n",
    "from bs4 import BeautifulSoup\n",
    "\n",
    "def get_park_closures():\n",
    "    url = \"https://www.sdparks.org/content/sdparks/en/news-events/news-stories/ParkNoticesandClosures.html\"\n",
    "    response = requests.get(url)\n",
    "    soup = BeautifulSoup(response.content, 'html.parser')\n",
    "    \n",
    "    closures = {\n",
    "        \"Temporary Closures\": [],\n",
    "        \"Weather-related Park Closures\": []\n",
    "    }\n",
    "\n",
    "    # Find all strong headers with closure titles\n",
    "    for header in soup.find_all(['strong', 'h3']):\n",
    "        header_text = header.get_text(strip=True)\n",
    "        \n",
    "        if header_text in closures:\n",
    "            # Find the next unordered list after the header\n",
    "            ul = header.find_next('ul')\n",
    "            \n",
    "            if ul:\n",
    "                for li in ul.find_all('li'):\n",
    "                    # Extract park name from first link\n",
    "                    park_link = li.find('a')\n",
    "                    park_name = park_link.get_text(strip=True) if park_link else \"\"\n",
    "                    \n",
    "                    # Get full closure details\n",
    "                    closure_details = li.get_text(separator=' ', strip=True).replace(park_name, '', 1).strip()\n",
    "                    \n",
    "                    closures[header_text].append({\n",
    "                        'park': park_name,\n",
    "                        'details': closure_details,\n",
    "                        'link': park_link['href'] if park_link else \"\"\n",
    "                    })\n",
    "\n",
    "    return closures\n",
    "\n",
    "# Usage example\n",
    "closures = get_park_closures()\n",
    "print(\"Temporary Closures:\")\n",
    "for closure in closures[\"Temporary Closures\"]:\n",
    "    print(f\"- {closure['park']}: {closure['details']}\")\n"
   ],
   "outputs": [
    {
     "name": "stdout",
     "output_type": "stream",
     "text": [
      "Temporary Closures:\n"
     ]
    }
   ],
   "execution_count": 1
  },
  {
   "metadata": {
    "ExecuteTime": {
     "end_time": "2025-03-27T16:00:09.098344Z",
     "start_time": "2025-03-27T16:00:08.829649Z"
    }
   },
   "cell_type": "code",
   "source": "",
   "id": "82cc9e4540428f8f",
   "outputs": [
    {
     "ename": "AttributeError",
     "evalue": "'NoneType' object has no attribute 'find_all'",
     "output_type": "error",
     "traceback": [
      "\u001B[0;31m---------------------------------------------------------------------------\u001B[0m",
      "\u001B[0;31mAttributeError\u001B[0m                            Traceback (most recent call last)",
      "Cell \u001B[0;32mIn[4], line 1\u001B[0m\n\u001B[0;32m----> 1\u001B[0m \u001B[43mscrape_park_notices\u001B[49m\u001B[43m(\u001B[49m\u001B[43m)\u001B[49m\n",
      "Cell \u001B[0;32mIn[1], line 19\u001B[0m, in \u001B[0;36mscrape_park_notices\u001B[0;34m()\u001B[0m\n\u001B[1;32m     16\u001B[0m current_header \u001B[38;5;241m=\u001B[39m \u001B[38;5;124m\"\u001B[39m\u001B[38;5;124m\"\u001B[39m\n\u001B[1;32m     18\u001B[0m \u001B[38;5;66;03m# Parse all elements in content\u001B[39;00m\n\u001B[0;32m---> 19\u001B[0m \u001B[38;5;28;01mfor\u001B[39;00m element \u001B[38;5;129;01min\u001B[39;00m \u001B[43mcontent\u001B[49m\u001B[38;5;241;43m.\u001B[39;49m\u001B[43mfind_all\u001B[49m(recursive\u001B[38;5;241m=\u001B[39m\u001B[38;5;28;01mTrue\u001B[39;00m):\n\u001B[1;32m     20\u001B[0m     \u001B[38;5;28;01mif\u001B[39;00m element\u001B[38;5;241m.\u001B[39mname \u001B[38;5;129;01min\u001B[39;00m [\u001B[38;5;124m'\u001B[39m\u001B[38;5;124mh2\u001B[39m\u001B[38;5;124m'\u001B[39m, \u001B[38;5;124m'\u001B[39m\u001B[38;5;124mh3\u001B[39m\u001B[38;5;124m'\u001B[39m, \u001B[38;5;124m'\u001B[39m\u001B[38;5;124mstrong\u001B[39m\u001B[38;5;124m'\u001B[39m]:\n\u001B[1;32m     21\u001B[0m         current_header \u001B[38;5;241m=\u001B[39m element\u001B[38;5;241m.\u001B[39mget_text(strip\u001B[38;5;241m=\u001B[39m\u001B[38;5;28;01mTrue\u001B[39;00m)\n",
      "\u001B[0;31mAttributeError\u001B[0m: 'NoneType' object has no attribute 'find_all'"
     ]
    }
   ],
   "execution_count": 4
  },
  {
   "metadata": {
    "ExecuteTime": {
     "end_time": "2025-03-27T16:00:04.027936Z",
     "start_time": "2025-03-27T16:00:04.020414Z"
    }
   },
   "cell_type": "code",
   "source": "",
   "id": "95b1890463030a40",
   "outputs": [],
   "execution_count": 3
  }
 ],
 "metadata": {
  "kernelspec": {
   "display_name": "Python 3",
   "language": "python",
   "name": "python3"
  },
  "language_info": {
   "codemirror_mode": {
    "name": "ipython",
    "version": 2
   },
   "file_extension": ".py",
   "mimetype": "text/x-python",
   "name": "python",
   "nbconvert_exporter": "python",
   "pygments_lexer": "ipython2",
   "version": "2.7.6"
  }
 },
 "nbformat": 4,
 "nbformat_minor": 5
}
