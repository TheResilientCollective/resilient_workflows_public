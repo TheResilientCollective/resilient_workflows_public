{
 "cells": [
  {
   "cell_type": "code",
   "id": "initial_id",
   "metadata": {
    "collapsed": true,
    "ExecuteTime": {
     "end_time": "2025-04-18T20:10:05.008003Z",
     "start_time": "2025-04-18T20:10:05.003627Z"
    }
   },
   "source": [
    "import requests\n",
    "import datetime\n",
    "import pytz\n",
    "import os\n",
    "import geopandas as gpd\n",
    "AIRNOW_API_KEY=os.environ.get('AIRNOW_API_KEY')\n",
    "\n",
    "base_url= 'https://www.airnowapi.org/aq'\n",
    "\n",
    "sd_bbox='-117.611081,32.528832,-116.08094,33.505025'"
   ],
   "outputs": [],
   "execution_count": 4
  },
  {
   "metadata": {
    "ExecuteTime": {
     "end_time": "2025-04-18T20:32:32.231292Z",
     "start_time": "2025-04-18T20:32:31.858111Z"
    }
   },
   "cell_type": "code",
   "source": [
    "date = datetime.datetime.now(pytz.UTC).strftime('%Y-%m-%dT%H')\n",
    "bbox=sd_bbox\n",
    "\n",
    "url = f'{base_url}/kml/Combined/?DATE={date}&BBOX={bbox}&SRS=EPSG:4326&API_KEY={AIRNOW_API_KEY}'\n",
    "print(url)\n",
    "try:\n",
    "    gdf= gpd.read_file(url)\n",
    "except Exception as e:\n",
    "    print(f\"Error reading KML: {e}\")\n",
    "gdf"
   ],
   "id": "81ec9eb0208b74dc",
   "outputs": [
    {
     "name": "stdout",
     "output_type": "stream",
     "text": [
      "https://www.airnowapi.org/aq/kml/Combined/?DATE=2025-04-18T20&BBOX=-117.611081,32.528832,-116.08094,33.505025&SRS=EPSG:4326&API_KEY=701918E6-528C-4501-B750-DDC4A87DD2EA\n",
      "Error reading KML: HTTP Error 429: \n"
     ]
    },
    {
     "data": {
      "text/plain": [
       "Empty GeoDataFrame\n",
       "Columns: [Name, Description, geometry]\n",
       "Index: []"
      ],
      "text/html": [
       "<div>\n",
       "<style scoped>\n",
       "    .dataframe tbody tr th:only-of-type {\n",
       "        vertical-align: middle;\n",
       "    }\n",
       "\n",
       "    .dataframe tbody tr th {\n",
       "        vertical-align: top;\n",
       "    }\n",
       "\n",
       "    .dataframe thead th {\n",
       "        text-align: right;\n",
       "    }\n",
       "</style>\n",
       "<table border=\"1\" class=\"dataframe\">\n",
       "  <thead>\n",
       "    <tr style=\"text-align: right;\">\n",
       "      <th></th>\n",
       "      <th>Name</th>\n",
       "      <th>Description</th>\n",
       "      <th>geometry</th>\n",
       "    </tr>\n",
       "  </thead>\n",
       "  <tbody>\n",
       "  </tbody>\n",
       "</table>\n",
       "</div>"
      ]
     },
     "execution_count": 9,
     "metadata": {},
     "output_type": "execute_result"
    }
   ],
   "execution_count": 9
  },
  {
   "metadata": {},
   "cell_type": "code",
   "outputs": [],
   "execution_count": null,
   "source": "",
   "id": "44289fd5c315c056"
  }
 ],
 "metadata": {
  "kernelspec": {
   "display_name": "Python 3",
   "language": "python",
   "name": "python3"
  },
  "language_info": {
   "codemirror_mode": {
    "name": "ipython",
    "version": 2
   },
   "file_extension": ".py",
   "mimetype": "text/x-python",
   "name": "python",
   "nbconvert_exporter": "python",
   "pygments_lexer": "ipython2",
   "version": "2.7.6"
  }
 },
 "nbformat": 4,
 "nbformat_minor": 5
}
