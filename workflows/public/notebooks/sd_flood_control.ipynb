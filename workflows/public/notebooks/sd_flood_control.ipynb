{
 "cells": [
  {
   "metadata": {},
   "cell_type": "markdown",
   "source": [
    "# SD Flood Control\n",
    "   \n",
    "https://sandiego.onerain.com/map/?view=c2a3b028-f616-44eb-acb2-8ae127a6470e#"
   ],
   "id": "3a2a32a41f79a23e"
  },
  {
   "cell_type": "code",
   "execution_count": null,
   "id": "initial_id",
   "metadata": {
    "collapsed": true
   },
   "outputs": [],
   "source": [
    "import requests\n",
    "\n",
    "export_url = 'https://sandiego.onerain.com/export/file/'\n",
    "site_url = 'https://sandiego.onerain.com/site/'\n",
    "sensor_url = 'https://sandiego.onerain.com/sensor/'\n",
    "flot_url = 'https://sandiego.onerain.com/export/flot/'"
   ]
  },
  {
   "metadata": {},
   "cell_type": "markdown",
   "source": "",
   "id": "4eea15ee19f0b8a9"
  },
  {
   "metadata": {},
   "cell_type": "code",
   "outputs": [],
   "execution_count": null,
   "source": [
    "data_list = [{\n",
    "    'description': 'SD Flood Control example',\n",
    "    'siteid': 6,\n",
    "    'site': 'a0a9ea9e-7922-4240-8428-95c0c2c7f3b3',\n",
    "    'device_id': 'a4df830d-d803-4137-b008-bc1a1397f17d'\n",
    "}]"
   ],
   "id": "43390bd0ac7cd359"
  }
 ],
 "metadata": {
  "kernelspec": {
   "display_name": "Python 3",
   "language": "python",
   "name": "python3"
  },
  "language_info": {
   "codemirror_mode": {
    "name": "ipython",
    "version": 2
   },
   "file_extension": ".py",
   "mimetype": "text/x-python",
   "name": "python",
   "nbconvert_exporter": "python",
   "pygments_lexer": "ipython2",
   "version": "2.7.6"
  }
 },
 "nbformat": 4,
 "nbformat_minor": 5
}
