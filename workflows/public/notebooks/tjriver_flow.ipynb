{
 "cells": [
  {
   "cell_type": "code",
   "id": "initial_id",
   "metadata": {
    "collapsed": true,
    "ExecuteTime": {
     "end_time": "2025-04-03T22:20:33.647440Z",
     "start_time": "2025-04-03T22:20:32.906336Z"
    }
   },
   "source": [
    "import requests\n",
    "import pandas as pd\n",
    "from io import StringIO\n",
    "import geopandas as gpd\n",
    "\n",
    "boundary_cms='https://waterdata.ibwc.gov/AQWebportal/Export/BulkExport?DateRange=Days30&TimeZone=-8&Calendar=CALENDARYEAR&Interval=Hourly&Step=1&ExportFormat=csv&TimeAligned=True&RoundData=True&IncludeGradeCodes=False&IncludeApprovalLevels=False&IncludeQualifiers=False&IncludeInterpolationTypes=False&Datasets[0].DatasetName=Discharge.Best%20Available%4011013300&Datasets[0].Calculation=Aggregate&Datasets[0].UnitId=128&_=1739415189330'\n",
    "\n",
    "canal_cms=\"https://waterdata.ibwc.gov/AQWebportal/Export/BulkExport?DateRange=Days30&TimeZone=-8&Calendar=CALENDARYEAR&Interval=Hourly&Step=1&ExportFormat=csv&TimeAligned=True&RoundData=True&IncludeGradeCodes=False&IncludeApprovalLevels=False&IncludeQualifiers=False&IncludeInterpolationTypes=False&Datasets[0].DatasetName=Discharge.Telemetry-ADS-mgd%4011-TIJUANA-CANAL&Datasets[0].Calculation=Aggregate&Datasets[0].UnitId=128&_=1739415331096\""
   ],
   "outputs": [],
   "execution_count": 1
  },
  {
   "metadata": {
    "ExecuteTime": {
     "end_time": "2025-04-03T22:20:34.697739Z",
     "start_time": "2025-04-03T22:20:33.648622Z"
    }
   },
   "cell_type": "code",
   "source": [
    "response=requests.get(boundary_cms)\n",
    "\n",
    "boundary_df=pd.read_csv(StringIO(response.text), skiprows=3,skipfooter=1, header=1,engine='python'  )\n",
    "boundary_df.set_index('Start of Interval (UTC-08:00)', inplace=True)\n",
    "boundary_df"
   ],
   "id": "7d06047fbd8ba721",
   "outputs": [
    {
     "data": {
      "text/plain": [
       "                              End of Interval (UTC-08:00)  Average (m^3/s)\n",
       "Start of Interval (UTC-08:00)                                             \n",
       "2025-03-04 00:00:00                   2025-03-04 01:00:00             2.55\n",
       "2025-03-04 01:00:00                   2025-03-04 02:00:00             2.39\n",
       "2025-03-04 02:00:00                   2025-03-04 03:00:00             2.29\n",
       "2025-03-04 03:00:00                   2025-03-04 04:00:00             2.12\n",
       "2025-03-04 04:00:00                   2025-03-04 05:00:00             2.03\n",
       "...                                                   ...              ...\n",
       "2025-04-03 09:00:00                   2025-04-03 10:00:00             2.55\n",
       "2025-04-03 10:00:00                   2025-04-03 11:00:00             2.48\n",
       "2025-04-03 11:00:00                   2025-04-03 12:00:00             2.42\n",
       "2025-04-03 12:00:00                   2025-04-03 13:00:00             2.37\n",
       "2025-04-03 13:00:00                   2025-04-03 14:00:00             2.27\n",
       "\n",
       "[734 rows x 2 columns]"
      ],
      "text/html": [
       "<div>\n",
       "<style scoped>\n",
       "    .dataframe tbody tr th:only-of-type {\n",
       "        vertical-align: middle;\n",
       "    }\n",
       "\n",
       "    .dataframe tbody tr th {\n",
       "        vertical-align: top;\n",
       "    }\n",
       "\n",
       "    .dataframe thead th {\n",
       "        text-align: right;\n",
       "    }\n",
       "</style>\n",
       "<table border=\"1\" class=\"dataframe\">\n",
       "  <thead>\n",
       "    <tr style=\"text-align: right;\">\n",
       "      <th></th>\n",
       "      <th>End of Interval (UTC-08:00)</th>\n",
       "      <th>Average (m^3/s)</th>\n",
       "    </tr>\n",
       "    <tr>\n",
       "      <th>Start of Interval (UTC-08:00)</th>\n",
       "      <th></th>\n",
       "      <th></th>\n",
       "    </tr>\n",
       "  </thead>\n",
       "  <tbody>\n",
       "    <tr>\n",
       "      <th>2025-03-04 00:00:00</th>\n",
       "      <td>2025-03-04 01:00:00</td>\n",
       "      <td>2.55</td>\n",
       "    </tr>\n",
       "    <tr>\n",
       "      <th>2025-03-04 01:00:00</th>\n",
       "      <td>2025-03-04 02:00:00</td>\n",
       "      <td>2.39</td>\n",
       "    </tr>\n",
       "    <tr>\n",
       "      <th>2025-03-04 02:00:00</th>\n",
       "      <td>2025-03-04 03:00:00</td>\n",
       "      <td>2.29</td>\n",
       "    </tr>\n",
       "    <tr>\n",
       "      <th>2025-03-04 03:00:00</th>\n",
       "      <td>2025-03-04 04:00:00</td>\n",
       "      <td>2.12</td>\n",
       "    </tr>\n",
       "    <tr>\n",
       "      <th>2025-03-04 04:00:00</th>\n",
       "      <td>2025-03-04 05:00:00</td>\n",
       "      <td>2.03</td>\n",
       "    </tr>\n",
       "    <tr>\n",
       "      <th>...</th>\n",
       "      <td>...</td>\n",
       "      <td>...</td>\n",
       "    </tr>\n",
       "    <tr>\n",
       "      <th>2025-04-03 09:00:00</th>\n",
       "      <td>2025-04-03 10:00:00</td>\n",
       "      <td>2.55</td>\n",
       "    </tr>\n",
       "    <tr>\n",
       "      <th>2025-04-03 10:00:00</th>\n",
       "      <td>2025-04-03 11:00:00</td>\n",
       "      <td>2.48</td>\n",
       "    </tr>\n",
       "    <tr>\n",
       "      <th>2025-04-03 11:00:00</th>\n",
       "      <td>2025-04-03 12:00:00</td>\n",
       "      <td>2.42</td>\n",
       "    </tr>\n",
       "    <tr>\n",
       "      <th>2025-04-03 12:00:00</th>\n",
       "      <td>2025-04-03 13:00:00</td>\n",
       "      <td>2.37</td>\n",
       "    </tr>\n",
       "    <tr>\n",
       "      <th>2025-04-03 13:00:00</th>\n",
       "      <td>2025-04-03 14:00:00</td>\n",
       "      <td>2.27</td>\n",
       "    </tr>\n",
       "  </tbody>\n",
       "</table>\n",
       "<p>734 rows × 2 columns</p>\n",
       "</div>"
      ]
     },
     "execution_count": 2,
     "metadata": {},
     "output_type": "execute_result"
    }
   ],
   "execution_count": 2
  },
  {
   "metadata": {
    "ExecuteTime": {
     "end_time": "2025-04-03T22:20:34.720513Z",
     "start_time": "2025-04-03T22:20:34.698603Z"
    }
   },
   "cell_type": "code",
   "source": "boundary_df.to_csv('../../../../data/discharge_tj/out/border_cms.csv')",
   "id": "1cb2a8e493b6212",
   "outputs": [],
   "execution_count": 3
  },
  {
   "metadata": {
    "ExecuteTime": {
     "end_time": "2025-04-03T22:20:35.609548Z",
     "start_time": "2025-04-03T22:20:34.721886Z"
    }
   },
   "cell_type": "code",
   "source": [
    "response=requests.get(canal_cms)\n",
    "\n",
    "canal_df=pd.read_csv(StringIO(response.text), skiprows=3,skipfooter=1, header=1,engine='python'  )\n",
    "canal_df.set_index('Start of Interval (UTC-08:00)', inplace=True)\n",
    "canal_df"
   ],
   "id": "9e5e98bc56f1b3a9",
   "outputs": [
    {
     "data": {
      "text/plain": [
       "                              End of Interval (UTC-08:00)  Average (m^3/s)\n",
       "Start of Interval (UTC-08:00)                                             \n",
       "2025-03-04 00:00:00                   2025-03-04 01:00:00              0.0\n",
       "2025-03-04 01:00:00                   2025-03-04 02:00:00              0.0\n",
       "2025-03-04 02:00:00                   2025-03-04 03:00:00              0.0\n",
       "2025-03-04 03:00:00                   2025-03-04 04:00:00              0.0\n",
       "2025-03-04 04:00:00                   2025-03-04 05:00:00              0.0\n",
       "...                                                   ...              ...\n",
       "2025-04-02 18:00:00                   2025-04-02 19:00:00              0.0\n",
       "2025-04-02 19:00:00                   2025-04-02 20:00:00              0.0\n",
       "2025-04-02 20:00:00                   2025-04-02 21:00:00              0.0\n",
       "2025-04-02 21:00:00                   2025-04-02 22:00:00              0.0\n",
       "2025-04-02 22:00:00                   2025-04-02 23:00:00              NaN\n",
       "\n",
       "[719 rows x 2 columns]"
      ],
      "text/html": [
       "<div>\n",
       "<style scoped>\n",
       "    .dataframe tbody tr th:only-of-type {\n",
       "        vertical-align: middle;\n",
       "    }\n",
       "\n",
       "    .dataframe tbody tr th {\n",
       "        vertical-align: top;\n",
       "    }\n",
       "\n",
       "    .dataframe thead th {\n",
       "        text-align: right;\n",
       "    }\n",
       "</style>\n",
       "<table border=\"1\" class=\"dataframe\">\n",
       "  <thead>\n",
       "    <tr style=\"text-align: right;\">\n",
       "      <th></th>\n",
       "      <th>End of Interval (UTC-08:00)</th>\n",
       "      <th>Average (m^3/s)</th>\n",
       "    </tr>\n",
       "    <tr>\n",
       "      <th>Start of Interval (UTC-08:00)</th>\n",
       "      <th></th>\n",
       "      <th></th>\n",
       "    </tr>\n",
       "  </thead>\n",
       "  <tbody>\n",
       "    <tr>\n",
       "      <th>2025-03-04 00:00:00</th>\n",
       "      <td>2025-03-04 01:00:00</td>\n",
       "      <td>0.0</td>\n",
       "    </tr>\n",
       "    <tr>\n",
       "      <th>2025-03-04 01:00:00</th>\n",
       "      <td>2025-03-04 02:00:00</td>\n",
       "      <td>0.0</td>\n",
       "    </tr>\n",
       "    <tr>\n",
       "      <th>2025-03-04 02:00:00</th>\n",
       "      <td>2025-03-04 03:00:00</td>\n",
       "      <td>0.0</td>\n",
       "    </tr>\n",
       "    <tr>\n",
       "      <th>2025-03-04 03:00:00</th>\n",
       "      <td>2025-03-04 04:00:00</td>\n",
       "      <td>0.0</td>\n",
       "    </tr>\n",
       "    <tr>\n",
       "      <th>2025-03-04 04:00:00</th>\n",
       "      <td>2025-03-04 05:00:00</td>\n",
       "      <td>0.0</td>\n",
       "    </tr>\n",
       "    <tr>\n",
       "      <th>...</th>\n",
       "      <td>...</td>\n",
       "      <td>...</td>\n",
       "    </tr>\n",
       "    <tr>\n",
       "      <th>2025-04-02 18:00:00</th>\n",
       "      <td>2025-04-02 19:00:00</td>\n",
       "      <td>0.0</td>\n",
       "    </tr>\n",
       "    <tr>\n",
       "      <th>2025-04-02 19:00:00</th>\n",
       "      <td>2025-04-02 20:00:00</td>\n",
       "      <td>0.0</td>\n",
       "    </tr>\n",
       "    <tr>\n",
       "      <th>2025-04-02 20:00:00</th>\n",
       "      <td>2025-04-02 21:00:00</td>\n",
       "      <td>0.0</td>\n",
       "    </tr>\n",
       "    <tr>\n",
       "      <th>2025-04-02 21:00:00</th>\n",
       "      <td>2025-04-02 22:00:00</td>\n",
       "      <td>0.0</td>\n",
       "    </tr>\n",
       "    <tr>\n",
       "      <th>2025-04-02 22:00:00</th>\n",
       "      <td>2025-04-02 23:00:00</td>\n",
       "      <td>NaN</td>\n",
       "    </tr>\n",
       "  </tbody>\n",
       "</table>\n",
       "<p>719 rows × 2 columns</p>\n",
       "</div>"
      ]
     },
     "execution_count": 4,
     "metadata": {},
     "output_type": "execute_result"
    }
   ],
   "execution_count": 4
  },
  {
   "metadata": {
    "ExecuteTime": {
     "end_time": "2025-04-03T22:20:37.472826Z",
     "start_time": "2025-04-03T22:20:37.453387Z"
    }
   },
   "cell_type": "code",
   "source": "canal_df.to_csv('../../../../data/discharge_tj/out/canal_cms.csv')",
   "id": "19eff1d7bfbc6d55",
   "outputs": [],
   "execution_count": 5
  },
  {
   "metadata": {
    "ExecuteTime": {
     "end_time": "2025-04-03T22:20:38.447835Z",
     "start_time": "2025-04-03T22:20:38.228016Z"
    }
   },
   "cell_type": "code",
   "source": [
    "from foursquare.data_sdk import DataSDK, MediaType\n",
    "import os\n",
    "refresh_token=os.getenv(\"RC_FSQ_REFRESH_TOKEN\")\n",
    "#client = DataSDK(refresh_token=refresh_token)\n",
    "client = DataSDK()"
   ],
   "id": "8a5e70c974d74174",
   "outputs": [],
   "execution_count": 6
  },
  {
   "metadata": {
    "ExecuteTime": {
     "end_time": "2025-04-03T22:20:39.650931Z",
     "start_time": "2025-04-03T22:20:38.970497Z"
    }
   },
   "cell_type": "code",
   "source": [
    "dataset_id=\"\"\n",
    "\n",
    "client.upload_dataframe(\n",
    "            canal_df,\n",
    "         dataset=\"0b01fc5a-9acf-4182-96ce-2b6e971d42e9\",\n",
    "            name='TJ Canal Flow',\n",
    "            description=\"Canal\")"
   ],
   "id": "c4b1db747857beb0",
   "outputs": [
    {
     "name": "stderr",
     "output_type": "stream",
     "text": [
      "Compressing file\n",
      "Uploading: 100%|██████████| 3.87k/3.87k [00:00<00:00, 5.96kB/s]\n"
     ]
    },
    {
     "data": {
      "text/plain": [
       "Dataset(id=UUID('0b01fc5a-9acf-4182-96ce-2b6e971d42e9'), name='TJ Canal Flow', type=<DatasetType.MANAGED: 'managed'>, created_at=datetime.datetime(2025, 2, 13, 17, 20, 56, tzinfo=TzInfo(UTC)), updated_at=datetime.datetime(2025, 4, 3, 22, 20, 39, tzinfo=TzInfo(UTC)), description='Canal', is_valid=True, data_connector=None, metadata=DatasetMetadata(media_type='text/csv', size=31856, source=None, tileset_data_url=None, tileset_metadata_url=None, image_url=None, metadata_url=None, data_status=None))"
      ]
     },
     "execution_count": 7,
     "metadata": {},
     "output_type": "execute_result"
    }
   ],
   "execution_count": 7
  },
  {
   "metadata": {
    "ExecuteTime": {
     "end_time": "2025-04-03T22:20:42.222916Z",
     "start_time": "2025-04-03T22:20:41.660177Z"
    }
   },
   "cell_type": "code",
   "source": [
    "client.upload_dataframe(\n",
    "            boundary_df,\n",
    "           dataset=\"1ef50bc2-8c8a-4784-916f-8328092cf53b\",\n",
    "            name='TJ Border Flow',\n",
    "            description=\"Tijuana River flow at border\")"
   ],
   "id": "f71093b27e95a285",
   "outputs": [
    {
     "name": "stderr",
     "output_type": "stream",
     "text": [
      "Compressing file\n",
      "Uploading: 100%|██████████| 5.15k/5.15k [00:00<00:00, 9.42kB/s]\n"
     ]
    },
    {
     "data": {
      "text/plain": [
       "Dataset(id=UUID('1ef50bc2-8c8a-4784-916f-8328092cf53b'), name='TJ Border Flow', type=<DatasetType.MANAGED: 'managed'>, created_at=datetime.datetime(2025, 2, 13, 17, 22, 17, tzinfo=TzInfo(UTC)), updated_at=datetime.datetime(2025, 4, 3, 22, 20, 42, tzinfo=TzInfo(UTC)), description='Tijuana River flow at border', is_valid=True, data_connector=None, metadata=DatasetMetadata(media_type='text/csv', size=33079, source=None, tileset_data_url=None, tileset_metadata_url=None, image_url=None, metadata_url=None, data_status=None))"
      ]
     },
     "execution_count": 8,
     "metadata": {},
     "output_type": "execute_result"
    }
   ],
   "execution_count": 8
  },
  {
   "metadata": {},
   "cell_type": "code",
   "outputs": [],
   "execution_count": null,
   "source": "",
   "id": "9732c763b1bb7964"
  }
 ],
 "metadata": {
  "kernelspec": {
   "display_name": "Python 3",
   "language": "python",
   "name": "python3"
  },
  "language_info": {
   "codemirror_mode": {
    "name": "ipython",
    "version": 2
   },
   "file_extension": ".py",
   "mimetype": "text/x-python",
   "name": "python",
   "nbconvert_exporter": "python",
   "pygments_lexer": "ipython2",
   "version": "2.7.6"
  }
 },
 "nbformat": 4,
 "nbformat_minor": 5
}
