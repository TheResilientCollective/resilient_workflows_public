{
 "cells": [
  {
   "cell_type": "code",
   "id": "initial_id",
   "metadata": {
    "collapsed": true,
    "ExecuteTime": {
     "end_time": "2025-02-04T21:34:15.076128Z",
     "start_time": "2025-02-04T21:34:15.066058Z"
    }
   },
   "source": [
    "from dotenv import load_dotenv\n",
    "from bs4 import BeautifulSoup\n",
    "import urllib\n",
    "import os, io\n",
    "import  pandas  as pd\n",
    "import logging\n",
    "\n",
    "#logging.basicConfig(level=logging.INFO)\n",
    "log=logging.getLogger(__name__)\n",
    "consoleHandler = logging.StreamHandler()\n",
    "consoleHandler.setLevel(logging.DEBUG)\n",
    "log.addHandler(consoleHandler)\n",
    "\n",
    "import requests\n",
    "from minio import Minio\n",
    "load_dotenv()\n",
    "S3_ACCESS_KEY = os.getenv(\"S3_ACCESS_KEY\")\n",
    "MINIO_SECRET_KEY = os.getenv(\"S3_SECRET_KEY\")\n",
    "MINIO_ENDPOINT = os.getenv(\"S3_ENDPOINT\")\n",
    "MINIO_BUCKET = \"resilentpublic\"\n",
    "S3_PREFIX = \"data/cdc/wonder/raw/{year}/{week}/\"\n",
    "client = Minio(MINIO_ENDPOINT, S3_ACCESS_KEY, MINIO_SECRET_KEY)\n",
    "wonder_template_url = \"https://wonder.cdc.gov/nndss/nndss_weekly_tables_menu.asp?mmwr_year={year}&mmwr_week={week}\"\n",
    "wonder_base_url = \"https://wonder.cdc.gov\"; \n",
    "# 2024 <a href=\"/nndss/static/2024/37/2024-37-table10.txt\" download=\"\">Export Data</a>\n",
    "# 1998 <a href=\"/nndss/static/2024/37/2024-37-table10.txt\" download=\"\">Export Data</a>\n",
    "wonder_export_dom=\"Export Data\""
   ],
   "outputs": [],
   "execution_count": 5
  },
  {
   "metadata": {
    "ExecuteTime": {
     "end_time": "2025-02-04T21:34:17.838105Z",
     "start_time": "2025-02-04T21:34:17.834120Z"
    }
   },
   "cell_type": "code",
   "source": [
    "#years=[x for x in range(1996,2024)]\n",
    "years=[x for x in range(2024,2025)]\n",
    "weeks=[x for x in range(1,52)]\n",
    "#weeks =[1]\n",
    "#years=[2024]\n",
    "final_year=2025\n",
    "final_week=5"
   ],
   "id": "8d90fa3f6ad38d68",
   "outputs": [],
   "execution_count": 6
  },
  {
   "metadata": {
    "ExecuteTime": {
     "end_time": "2025-02-04T21:34:33.012828Z",
     "start_time": "2025-02-04T21:34:25.273426Z"
    }
   },
   "cell_type": "code",
   "source": [
    "# what files do we have\n",
    "with requests.session() as s:\n",
    "    for year in years:\n",
    "        for week in weeks:\n",
    "            if year >= final_year and week > final_week:\n",
    "                continue\n",
    "            url = wonder_template_url.format(year=year, week=week)\n",
    "            weekstr = str(week).zfill(2)\n",
    "            url = wonder_template_url.format(year=year, week=weekstr)\n",
    "            links=[]\n",
    "            with s.get(url, stream=True) as response:\n",
    "                soup = BeautifulSoup(response.content, 'html.parser')\n",
    "                for link in soup.find_all('a', href=True):\n",
    "                    if \"export data\" in link.text.lower():\n",
    "                        links.append(link['href'])\n",
    "                # write out weeks data to bucket\n",
    "                response.close()\n",
    "            for download_link in links:\n",
    "                log.info(download_link)\n",
    "                if download_link.startswith('/'):\n",
    "                    d_url = wonder_base_url + download_link\n",
    "                    paths = download_link.split('/')[-1]           \n",
    "                    s3_path =  S3_PREFIX.format(year=year, week=weekstr) + paths\n",
    "                    log.info(s3_path)\n",
    "                else:\n",
    "                    d_url= wonder_base_url +\"/nndss/\"+download_link\n",
    "                    qs = urllib.parse.parse_qs(download_link)\n",
    "                    paths = f\"table_{qs['mmwr_table'][0]}\"\n",
    "                    s3_path =  S3_PREFIX.format(year=year, week=weekstr) + paths\n",
    "                    log.info(s3_path)"
   ],
   "id": "f0e9abbb36a75531",
   "outputs": [],
   "execution_count": 7
  },
  {
   "metadata": {
    "ExecuteTime": {
     "start_time": "2025-02-04T21:38:44.644670Z"
    }
   },
   "cell_type": "code",
   "source": [
    "with requests.session() as s:\n",
    "    for year in years:\n",
    "        for week in weeks:\n",
    "            if year >= final_year and week > final_week:\n",
    "                continue\n",
    "            weekstr = str(week).zfill(2)\n",
    "            url = wonder_template_url.format(year=year, week=weekstr)\n",
    "            links=[]\n",
    "            with s.get(url) as response:\n",
    "                if response.status_code == 200:\n",
    "                    soup = BeautifulSoup(response.content, 'html.parser')\n",
    "                    for link in soup.find_all('a', href=True):\n",
    "                        if \"export data\" in link.text.lower():\n",
    "                            links.append(link['href'])\n",
    "                else:\n",
    "                    log.info(f\"{response.status_code} {url}\")\n",
    "                response.close()\n",
    "                soup = None\n",
    "            for download_link in links:\n",
    "                log.info(download_link)\n",
    "                if download_link.startswith('/'):\n",
    "                    d_url = wonder_base_url + download_link\n",
    "                    paths = download_link.split('/')[-1]           \n",
    "                    s3_path =  S3_PREFIX.format(year=year, week=weekstr) + paths\n",
    "                    log.info(s3_path)\n",
    "                else:\n",
    "                    d_url= wonder_base_url +\"/nndss/\"+download_link\n",
    "                    qs = urllib.parse.parse_qs(download_link)\n",
    "                    paths = f\"table_{qs['mmwr_table'][0]}\"\n",
    "                    s3_path =  S3_PREFIX.format(year=year, week=weekstr) + paths\n",
    "                    log.info(s3_path)  \n",
    "                with s.get(d_url, stream=False) as rf:\n",
    "                    if rf.status_code == 200:\n",
    "                        content = rf.text\n",
    "                        rf.close()\n",
    "                        metadata={\"export_link\": download_link, \"url\": d_url,\n",
    "                                          \"source_page_url\": url, }\n",
    "                        \n",
    "                        result = client.put_object(\n",
    "                            MINIO_BUCKET, s3_path,\n",
    "                            data=io.BytesIO(content.encode('utf-8')), \n",
    "                            length=len(content),\n",
    "                            content_type=\"text/plain\", metadata=metadata\n",
    "                         )\n",
    "                        log.info(\n",
    "                            \"created {0} object; etag: {1}, version-id: {2}\".format(\n",
    "                                result.object_name, result.etag, result.version_id,\n",
    "                            ),\n",
    "                        )\n",
    "                        content = None\n",
    "                    else:\n",
    "                        log.info(f\"{response.status_code} {url} {response.reason}\")"
   ],
   "id": "62e5acd720328e6d",
   "outputs": [
    {
     "ename": "KeyboardInterrupt",
     "evalue": "",
     "output_type": "error",
     "traceback": [
      "\u001B[0;31m---------------------------------------------------------------------------\u001B[0m",
      "\u001B[0;31mKeyboardInterrupt\u001B[0m                         Traceback (most recent call last)",
      "Cell \u001B[0;32mIn[10], line 9\u001B[0m\n\u001B[1;32m      7\u001B[0m url \u001B[38;5;241m=\u001B[39m wonder_template_url\u001B[38;5;241m.\u001B[39mformat(year\u001B[38;5;241m=\u001B[39myear, week\u001B[38;5;241m=\u001B[39mweekstr)\n\u001B[1;32m      8\u001B[0m links\u001B[38;5;241m=\u001B[39m[]\n\u001B[0;32m----> 9\u001B[0m \u001B[38;5;28;01mwith\u001B[39;00m \u001B[43ms\u001B[49m\u001B[38;5;241m.\u001B[39mget(url) \u001B[38;5;28;01mas\u001B[39;00m response:\n\u001B[1;32m     10\u001B[0m     \u001B[38;5;28;01mif\u001B[39;00m response\u001B[38;5;241m.\u001B[39mstatus_code \u001B[38;5;241m==\u001B[39m \u001B[38;5;241m200\u001B[39m:\n\u001B[1;32m     11\u001B[0m         soup \u001B[38;5;241m=\u001B[39m BeautifulSoup(response\u001B[38;5;241m.\u001B[39mcontent, \u001B[38;5;124m'\u001B[39m\u001B[38;5;124mhtml.parser\u001B[39m\u001B[38;5;124m'\u001B[39m)\n",
      "Cell \u001B[0;32mIn[10], line 9\u001B[0m\n\u001B[1;32m      7\u001B[0m url \u001B[38;5;241m=\u001B[39m wonder_template_url\u001B[38;5;241m.\u001B[39mformat(year\u001B[38;5;241m=\u001B[39myear, week\u001B[38;5;241m=\u001B[39mweekstr)\n\u001B[1;32m      8\u001B[0m links\u001B[38;5;241m=\u001B[39m[]\n\u001B[0;32m----> 9\u001B[0m \u001B[38;5;28;01mwith\u001B[39;00m \u001B[43ms\u001B[49m\u001B[38;5;241m.\u001B[39mget(url) \u001B[38;5;28;01mas\u001B[39;00m response:\n\u001B[1;32m     10\u001B[0m     \u001B[38;5;28;01mif\u001B[39;00m response\u001B[38;5;241m.\u001B[39mstatus_code \u001B[38;5;241m==\u001B[39m \u001B[38;5;241m200\u001B[39m:\n\u001B[1;32m     11\u001B[0m         soup \u001B[38;5;241m=\u001B[39m BeautifulSoup(response\u001B[38;5;241m.\u001B[39mcontent, \u001B[38;5;124m'\u001B[39m\u001B[38;5;124mhtml.parser\u001B[39m\u001B[38;5;124m'\u001B[39m)\n",
      "File \u001B[0;32m_pydevd_bundle/pydevd_cython_darwin_39_64.pyx:1187\u001B[0m, in \u001B[0;36m_pydevd_bundle.pydevd_cython_darwin_39_64.SafeCallWrapper.__call__\u001B[0;34m()\u001B[0m\n",
      "File \u001B[0;32m_pydevd_bundle/pydevd_cython_darwin_39_64.pyx:627\u001B[0m, in \u001B[0;36m_pydevd_bundle.pydevd_cython_darwin_39_64.PyDBFrame.trace_dispatch\u001B[0;34m()\u001B[0m\n",
      "File \u001B[0;32m_pydevd_bundle/pydevd_cython_darwin_39_64.pyx:937\u001B[0m, in \u001B[0;36m_pydevd_bundle.pydevd_cython_darwin_39_64.PyDBFrame.trace_dispatch\u001B[0;34m()\u001B[0m\n",
      "File \u001B[0;32m_pydevd_bundle/pydevd_cython_darwin_39_64.pyx:928\u001B[0m, in \u001B[0;36m_pydevd_bundle.pydevd_cython_darwin_39_64.PyDBFrame.trace_dispatch\u001B[0;34m()\u001B[0m\n",
      "File \u001B[0;32m_pydevd_bundle/pydevd_cython_darwin_39_64.pyx:585\u001B[0m, in \u001B[0;36m_pydevd_bundle.pydevd_cython_darwin_39_64.PyDBFrame.do_wait_suspend\u001B[0;34m()\u001B[0m\n",
      "File \u001B[0;32m/Applications/PyCharm.app/Contents/plugins/python/helpers/pydev/pydevd.py:1196\u001B[0m, in \u001B[0;36mPyDB.do_wait_suspend\u001B[0;34m(self, thread, frame, event, arg, send_suspend_message, is_unhandled_exception)\u001B[0m\n\u001B[1;32m   1193\u001B[0m         from_this_thread\u001B[38;5;241m.\u001B[39mappend(frame_id)\n\u001B[1;32m   1195\u001B[0m \u001B[38;5;28;01mwith\u001B[39;00m \u001B[38;5;28mself\u001B[39m\u001B[38;5;241m.\u001B[39m_threads_suspended_single_notification\u001B[38;5;241m.\u001B[39mnotify_thread_suspended(thread_id, stop_reason):\n\u001B[0;32m-> 1196\u001B[0m     \u001B[38;5;28;43mself\u001B[39;49m\u001B[38;5;241;43m.\u001B[39;49m\u001B[43m_do_wait_suspend\u001B[49m\u001B[43m(\u001B[49m\u001B[43mthread\u001B[49m\u001B[43m,\u001B[49m\u001B[43m \u001B[49m\u001B[43mframe\u001B[49m\u001B[43m,\u001B[49m\u001B[43m \u001B[49m\u001B[43mevent\u001B[49m\u001B[43m,\u001B[49m\u001B[43m \u001B[49m\u001B[43marg\u001B[49m\u001B[43m,\u001B[49m\u001B[43m \u001B[49m\u001B[43msuspend_type\u001B[49m\u001B[43m,\u001B[49m\u001B[43m \u001B[49m\u001B[43mfrom_this_thread\u001B[49m\u001B[43m)\u001B[49m\n",
      "File \u001B[0;32m/Applications/PyCharm.app/Contents/plugins/python/helpers/pydev/pydevd.py:1211\u001B[0m, in \u001B[0;36mPyDB._do_wait_suspend\u001B[0;34m(self, thread, frame, event, arg, suspend_type, from_this_thread)\u001B[0m\n\u001B[1;32m   1208\u001B[0m             \u001B[38;5;28mself\u001B[39m\u001B[38;5;241m.\u001B[39m_call_mpl_hook()\n\u001B[1;32m   1210\u001B[0m         \u001B[38;5;28mself\u001B[39m\u001B[38;5;241m.\u001B[39mprocess_internal_commands()\n\u001B[0;32m-> 1211\u001B[0m         \u001B[43mtime\u001B[49m\u001B[38;5;241;43m.\u001B[39;49m\u001B[43msleep\u001B[49m\u001B[43m(\u001B[49m\u001B[38;5;241;43m0.01\u001B[39;49m\u001B[43m)\u001B[49m\n\u001B[1;32m   1213\u001B[0m \u001B[38;5;28mself\u001B[39m\u001B[38;5;241m.\u001B[39mcancel_async_evaluation(get_current_thread_id(thread), \u001B[38;5;28mstr\u001B[39m(\u001B[38;5;28mid\u001B[39m(frame)))\n\u001B[1;32m   1215\u001B[0m \u001B[38;5;66;03m# process any stepping instructions\u001B[39;00m\n",
      "\u001B[0;31mKeyboardInterrupt\u001B[0m: "
     ]
    }
   ],
   "execution_count": 10
  },
  {
   "metadata": {
    "ExecuteTime": {
     "end_time": "2024-10-03T19:43:42.179920Z",
     "start_time": "2024-10-03T19:43:42.174147Z"
    }
   },
   "cell_type": "code",
   "source": "",
   "id": "a7523dddb895422a",
   "outputs": [
    {
     "data": {
      "text/plain": [
       "[]"
      ]
     },
     "execution_count": 24,
     "metadata": {},
     "output_type": "execute_result"
    }
   ],
   "execution_count": 24
  },
  {
   "metadata": {},
   "cell_type": "code",
   "outputs": [],
   "execution_count": null,
   "source": "",
   "id": "5a370214f004ce0"
  }
 ],
 "metadata": {
  "kernelspec": {
   "display_name": "Python 3",
   "language": "python",
   "name": "python3"
  },
  "language_info": {
   "codemirror_mode": {
    "name": "ipython",
    "version": 2
   },
   "file_extension": ".py",
   "mimetype": "text/x-python",
   "name": "python",
   "nbconvert_exporter": "python",
   "pygments_lexer": "ipython2",
   "version": "2.7.6"
  }
 },
 "nbformat": 4,
 "nbformat_minor": 5
}
